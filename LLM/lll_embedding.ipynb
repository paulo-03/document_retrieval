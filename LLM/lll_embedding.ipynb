{
 "cells": [
  {
   "metadata": {},
   "cell_type": "markdown",
   "source": [
    "# LLM Embedding\n",
    "\n",
    "This notebook shows the embedding process of our full corpus that will be used later to retrieve documents relevant to given queries."
   ],
   "id": "565394d3f88b2632"
  },
  {
   "metadata": {
    "ExecuteTime": {
     "end_time": "2024-10-09T14:33:03.593080Z",
     "start_time": "2024-10-09T14:32:55.851990Z"
    }
   },
   "cell_type": "code",
   "source": [
    "import warnings\n",
    "import json\n",
    "import torch\n",
    "\n",
    "warnings.filterwarnings('ignore')\n",
    "from sentence_transformers import SentenceTransformer\n",
    "from sentence_transformers.util import normalize_embeddings, dot_score, semantic_search"
   ],
   "id": "e8e0d291262d2e8d",
   "outputs": [],
   "execution_count": 1
  },
  {
   "metadata": {},
   "cell_type": "markdown",
   "source": "## Data Loading",
   "id": "32ea47eebed5732d"
  },
  {
   "metadata": {
    "ExecuteTime": {
     "end_time": "2024-10-09T14:33:07.010088Z",
     "start_time": "2024-10-09T14:33:05.157474Z"
    }
   },
   "cell_type": "code",
   "source": [
    "file_path = '../clean_data/clean_corpus_fr.json'\n",
    "\n",
    "with open(file_path, 'r') as f:\n",
    "        # Parse each line as an independent JSON object\n",
    "        data = [json.loads(line) for line in f]\n",
    "        \n",
    "print(len(data), 'documents loaded.')"
   ],
   "id": "4eaf10945260231b",
   "outputs": [
    {
     "name": "stdout",
     "output_type": "stream",
     "text": [
      "10676 documents loaded.\n"
     ]
    }
   ],
   "execution_count": 2
  },
  {
   "metadata": {},
   "cell_type": "markdown",
   "source": [
    "## Embedding\n",
    "\n",
    "Start to vectorize the text by embedding them with the DistillBERT encoder."
   ],
   "id": "4436f34ebae8879f"
  },
  {
   "metadata": {
    "ExecuteTime": {
     "end_time": "2024-10-09T14:36:50.386528Z",
     "start_time": "2024-10-09T14:33:08.467830Z"
    }
   },
   "cell_type": "code",
   "source": [
    "# Create a list containing all text from the corpus\n",
    "corpus = [document['text'] for document in data[:2000]]\n",
    "docids = [document['docid'] for document in data[:2000]]\n",
    "\n",
    "# Select the LLM used to perform the embeddings\n",
    "# Basic model (english only): sentence-transformers/all-MiniLM-L6-v2\n",
    "# Multilingual model: sentence-transformers/paraphrase-multilingual-MiniLM-L12-v2\n",
    "# GOAT Multilingual model: BAAI/bge-large-zh-v1.5\n",
    "model = SentenceTransformer('sentence-transformers/all-MiniLM-L6-v2') \n",
    "\n",
    "# Encode all the text\n",
    "corpus_embeddings = model.encode(\n",
    "    corpus, \n",
    "    convert_to_tensor=True, \n",
    "    show_progress_bar=True\n",
    ")\n",
    "\n",
    "corpus_embeddings = normalize_embeddings(corpus_embeddings)\n",
    "\n",
    "# Display some information to the user\n",
    "print(\"Information about the corpus embedding:\\n\"\n",
    "      f\"Number of document embedded: {len(corpus_embeddings)}\\n\"\n",
    "      f\"Vector size of each embedding: {corpus_embeddings[0].shape}\")"
   ],
   "id": "d7d62d7016195e1e",
   "outputs": [
    {
     "data": {
      "text/plain": [
       "Batches:   0%|          | 0/63 [00:00<?, ?it/s]"
      ],
      "application/vnd.jupyter.widget-view+json": {
       "version_major": 2,
       "version_minor": 0,
       "model_id": "a2589c46ccec4d1eb6535953de5335fa"
      }
     },
     "metadata": {},
     "output_type": "display_data"
    },
    {
     "name": "stdout",
     "output_type": "stream",
     "text": [
      "Information about the corpus embedding:\n",
      "Number of document embedded: 2000\n",
      "Vector size of each embedding: torch.Size([384])\n"
     ]
    }
   ],
   "execution_count": 3
  },
  {
   "metadata": {
    "ExecuteTime": {
     "end_time": "2024-10-09T14:36:55.139130Z",
     "start_time": "2024-10-09T14:36:54.877378Z"
    }
   },
   "cell_type": "code",
   "source": [
    "query = \"Quelles sont les informations révélées par la Société norvégienne de radiodiffusion (NRK) concernant les adresses et les numéros des employés du complexe de l'abri antiatomique norvégien ?\"  # wanted document: doc-fr-4878\n",
    "top_k=10\n",
    "\n",
    "query_embedding = model.encode(query)\n",
    "\n",
    "# Using build-in method\n",
    "search_hits = semantic_search(query_embedding, corpus_embeddings, score_function=dot_score)\n",
    "scores, indices = ([hit['score'] for hit in search_hits[0]][:top_k], \n",
    "                   [hit['corpus_id'] for hit in search_hits[0]][:top_k])\n",
    "\n",
    "print(f\"Query: {query}\\n\\n\"\n",
    "      f\"{'#'*50}\\n\"\n",
    "      f\"Top {top_k} most similar sentences in corpus:\\n\"\n",
    "      f\"{'#'*50}\\n\")\n",
    "\n",
    "for score, idx in zip(scores, indices):\n",
    "        print(f\"Docid: {docids[idx]}\\n\"\n",
    "              f\"Text:{corpus[idx][:500]}\\n\"\n",
    "              f\"(Score: {score:.4f})\\n\")"
   ],
   "id": "1172b87db5bf59d8",
   "outputs": [
    {
     "name": "stdout",
     "output_type": "stream",
     "text": [
      "Query: Quelles sont les informations révélées par la Société norvégienne de radiodiffusion (NRK) concernant les adresses et les numéros des employés du complexe de l'abri antiatomique norvégien ?\n",
      "\n",
      "##################################################\n",
      "Top 10 most similar sentences in corpus:\n",
      "##################################################\n",
      "\n",
      "Docid: doc-fr-2248\n",
      "Text:étude effets biologiques rayonnements notamment rayonnements ionisants êtres vivants sensibilité espèces radiosensibilité individuelle pathologique syndrome gorlin groupes vulnérables aussi étude moyens préserver effets délétères certains rayonnements étude traitements suivre cas contamination irradiation enfin branche biologie médicale emploie techniques radiologiques permettant investigation corps humain plus largement agit ensemble techniques analyses liquides biologiques utilisent radio isot\n",
      "(Score: 0.5787)\n",
      "\n",
      "Docid: doc-fr-1438\n",
      "Text:guillaume radio anciennement guillaume radio 2 0 jusqu 2017 émission radio divertissement axée canulars jeux auditeurs présentée guillaume pley 27 avril 2018 nrj france nrj belgique nrj suisse nrj léman uniquement principe émission guillaume radio émission libre antenne émission ponctuée rubriques principalement axées canulars jeux auditeurs participaient intermédiaire sms comme toutes émissions libres antennes auditeurs pouvaient téléphoner parler sujet animateurs autres auditeurs animateur gui\n",
      "(Score: 0.4918)\n",
      "\n",
      "Docid: doc-fr-418\n",
      "Text:datation radiométrique dite radiochronologie méthode datation absolue utilisant variation régulière cours temps proportion radioisotopes certains corps plus connue sans doute datation carbone 14 existe bien autres toutes font appel mêmes raisonnements physiques géologiques leurs précisions varient méthodes datations radiométriques constituent cœur géologie isotopique historique avant découverte radioactivité lord kelvin estimé âge terre quelque vingt millions années supposant seule source énergi\n",
      "(Score: 0.4412)\n",
      "\n",
      "Docid: doc-fr-1474\n",
      "Text:bande désignée aussi longueur onde 6 mètres bande radioamateurs cette bande utilisable permanence trafic radio local régional sporadiquement trafic radio grande distance bande 6 mètres monde bande 6 mètres étend 50 europe ouest moyen orient afrique nord asie uit région 1 bande 6 mètres étend 50 reste monde uit région 2 3 crm 2012 union internationale radioamateurs iaru souhaite envisage inclure ordre jour conférences mondiale radiocommunications 2012 élément suivant région 1 attribution bande 50\n",
      "(Score: 0.3839)\n",
      "\n",
      "Docid: doc-fr-1912\n",
      "Text:vignette droite image plan axial cerveau obtenue tomographie émission monophotonique utilisant tc 99 tomographie émission monophotonique abrégé temp spect aussi appelée tomoscintigraphie émission monophotonique technique repose principe scintigraphie permet effectuer images ainsi reconstructions trois dimensions organes métabolisme aide ensemble gamma caméras tournant autour patient principes vignette 250px tomographe émission monophotonique effectuer temp nécessaire injecter préalablement patie\n",
      "(Score: 0.3698)\n",
      "\n",
      "Docid: doc-fr-5745\n",
      "Text:mesure nucléaire technique mesure rayonnements produits matériaux nucléaires réactions nucléaires type mesures permet obtenir information nature matériaux non seulement niveau composition chimique également niveau composition isotopique élément donné mesures nucléaires effectuées aide outils regroupés sous terme générique instrumentation nucléaire mesures passives mesures dites passives regroupent mesures nécessitent utilisation action objet étudier elles impliquent ainsi détection rayonnements \n",
      "(Score: 0.3652)\n",
      "\n",
      "Docid: doc-fr-3265\n",
      "Text:lenvironnement japon environnement ensemble éléments biotiques abiotiques entourent individu espèce dont certains contribuent directement subvenir besoins pays japon bien japon cherche préserver environnement importance zones protégées recyclage politique anti diesel tokyo croissance démographique pays a conduit importante urbanisation extrêmement dense consommations ressources importantes empreinte carbone fait élevée 2007 japon gros émetteur co2 monde environ 4 2 total émissions ailleurs terri\n",
      "(Score: 0.3505)\n",
      "\n",
      "Docid: doc-fr-7209\n",
      "Text:al aoula également appelée tvm télévision marocaine première chaîne télévision généraliste publique marocaine deuxième chaîne plus regardée maroc 9 audience derrière 2m histoire chaîne publique marocaine tvm débute émissions noir blanc après indépendance 1972 couleur sécam b introduite tvm entame passage numérique activités production équipement tvm renforcé acquisition caméras numériques mises disposition service reportages unités numérisées postproduction clavier électronique rabat casablanca \n",
      "(Score: 0.3460)\n",
      "\n",
      "Docid: doc-fr-6176\n",
      "Text:ekaterina alekseevna feoktistova alekseyevna née 18 mars 1915 morte 5 janvier 1987 chimiste soviétique ukrainienne ingénieure physicienne experte explosifs a travaillé projet bombe atomique soviétique biographie ekaterina alekseevna feoktistova naît 18 mars 1915 petrograd parent origine noble passe enfance pauvreté a 18 ans commence travailler comme chimiste usine textile krasnaya nity kharkiv ukraine étudie université nationale kharkiv 1934 1935 institut polytechnique kiev 1937 transférée dépar\n",
      "(Score: 0.3419)\n",
      "\n",
      "Docid: doc-fr-6164\n",
      "Text:christian savarit dit claude darget né paris mort antony journaliste radio télévision française biographie père célestin maurice savarit journaliste dirige f revue mère france darget poète créatrice troupe théâtre coryphée claude darget fait études collège fontainebleau puis lycée henri iv paris où obtient baccalauréat après obtention duquel travaille notamment comme employé banque avant effectuer service militaire 1933 où affecté services météorologiques armée chargé lire chaque jour micro prév\n",
      "(Score: 0.3387)\n",
      "\n"
     ]
    }
   ],
   "execution_count": 4
  }
 ],
 "metadata": {
  "kernelspec": {
   "display_name": "Python 3",
   "language": "python",
   "name": "python3"
  },
  "language_info": {
   "codemirror_mode": {
    "name": "ipython",
    "version": 2
   },
   "file_extension": ".py",
   "mimetype": "text/x-python",
   "name": "python",
   "nbconvert_exporter": "python",
   "pygments_lexer": "ipython2",
   "version": "2.7.6"
  }
 },
 "nbformat": 4,
 "nbformat_minor": 5
}

{
 "cells": [
  {
   "metadata": {},
   "cell_type": "markdown",
   "source": [
    "# LLM Embedding\n",
    "\n",
    "This notebook shows the embedding process of our full corpus that will be used later to retrieve documents relevant to given queries."
   ],
   "id": "565394d3f88b2632"
  },
  {
   "metadata": {
    "ExecuteTime": {
     "end_time": "2024-10-08T16:38:10.340751Z",
     "start_time": "2024-10-08T16:37:53.111826Z"
    }
   },
   "cell_type": "code",
   "source": [
    "import warnings\n",
    "import json\n",
    "import torch\n",
    "\n",
    "warnings.filterwarnings('ignore')\n",
    "from sentence_transformers import SentenceTransformer"
   ],
   "id": "e8e0d291262d2e8d",
   "outputs": [],
   "execution_count": 2
  },
  {
   "metadata": {},
   "cell_type": "markdown",
   "source": "## Data Loading",
   "id": "32ea47eebed5732d"
  },
  {
   "metadata": {
    "ExecuteTime": {
     "end_time": "2024-10-08T16:38:12.245254Z",
     "start_time": "2024-10-08T16:38:10.343228Z"
    }
   },
   "cell_type": "code",
   "source": [
    "file_path = '../data/corpus.json/clean_corpus_fr.json'\n",
    "\n",
    "with open(file_path, 'r') as f:\n",
    "        # Parse each line as an independent JSON object\n",
    "        corpus_fr_jsons = [json.loads(line) for line in f]\n",
    "        \n",
    "print(len(corpus_fr_jsons), 'documents loaded.')"
   ],
   "id": "4eaf10945260231b",
   "outputs": [
    {
     "name": "stdout",
     "output_type": "stream",
     "text": [
      "10676 documents loaded.\n"
     ]
    }
   ],
   "execution_count": 3
  },
  {
   "metadata": {
    "ExecuteTime": {
     "end_time": "2024-10-08T16:38:13.324547Z",
     "start_time": "2024-10-08T16:38:13.310831Z"
    }
   },
   "cell_type": "code",
   "source": [
    "# Display the first document\n",
    "corpus_fr_jsons[0]"
   ],
   "id": "7e90598e23f17bcd",
   "outputs": [
    {
     "data": {
      "text/plain": [
       "{'docid': 'doc-fr-1447',\n",
       " 'text': 'production café costa rica représente 2016 environ 1 2 production mondiale café fait grand producteur monde derrière côte ivoire particularités grains café costa rica considérés comme parmi meilleurs monde tarrazú pensé produire plus désirable grains café costa rica 2012 café tarrazú devenu plus cher cafés vendus starbucks 48 leurs magasins états unis histoire histoire caféiculture costa rica débute dès période coloniale puis prend essor dès années 1820 1830 quand autorités coloniales prirent premières mesures fiscales visant développer entre autres culture caféière indépendance 17 000 caféiers permettant exportation 2 quintaux café panama nouveau gouvernement distribua gratuitement terres personnes engageaient cultiver café tandis autorités certaines communes obligèrent leurs habitants posséder moins certain nombre caféiers exportations travers frontière vers panama interrompu lorsque costa rica a rejoint autres provinces amérique centrale 1821 gouvernement a offert agriculteurs parcelles terrain système plantation café donc développé grande partie suite politique ouverture bien barons café joué rôle croissance différenciation interne très vite café devenu source majeure recettes dépassant cacao tabac sucre dès 1829 1839 exportations élèvent déjà 90 000 quintaux nouvel état né année précédente costa rica raison violence guerre civile partis libéraux comme ailleurs amérique centrale perdu toute influence politique dictatures conservatrices vont contrôler gouvernement costaricien jusqu 1870 1843 navigateur guernesiais william lacheur met place route commerciale régulière directe producteurs café costa rica vers europe contribuant ainsi créer débouchés commerciaux café sous marque café valparaiso port chilien servant réexpédition william lacheur revenait seattle navire the monarch lorsqu échoué cargaison peaux près puntarenas repart 550 quintaux café profitant crise surproduction puis fait venir frère importe 2500 quintaux angleterre quintal acheté 3 pesos san josé puis vendu 7 pesos puntarenas 13 pesos valparaiso 20 europe 1843 1844 producteurs café costa rica détenant patrimoine plus mille pesos déjà nombre 101 plus nombreux ceux moins montant presque aussi nombreux 160 possédants détenant capital exerçant autres domaines élite caféière émerge plus souvent déjà fortunée cette culture exportation fédère mouvement vers modernisation producteurs commerçants café transformé costa rica contribué modernisation pays a fourni financement jeunes universitaires aspirant études europe revenus générés café costa rica financé premiers chemins fer reliant pays côte atlantique 1890 ferrocarril al atlántico théâtre national san josé produit culture café dont principaux producteurs membres éminents société 1955 taxe exportation a placé café costa rica a aboli 1994 1983 principaux syndromes bactériens a frappé industrie café pays jetant crise a coïncidé baisse prix marché environ 40 fin années 1980 début années 1990 production café a augmenté passant 1988 membres 1992 prix chuté affaiblissant recettes cette production passées 316 millions dollars 1988 1992 1989 costa rica a rejoint honduras guatemala nicaragua el salvador créer plan conservation café centro américain puis a tentative organisation internationale café début années 1990 maintenir quotas exportation afin soutenir cours mondiaux café impact environnement bien production café costa rica source importante revenus sans poser problèmes environnementaux principal impact pollution rivières cours traitement café particulier fin processus séchage environ 57 grains café composent contaminants détruisent faune sauvage rivières notes références voir aussi histoire caféiculture amérique centrale histoire caféiculture catégorie histoire costa rica catégorie histoire café',\n",
       " 'lang': 'fr'}"
      ]
     },
     "execution_count": 4,
     "metadata": {},
     "output_type": "execute_result"
    }
   ],
   "execution_count": 4
  },
  {
   "metadata": {},
   "cell_type": "markdown",
   "source": [
    "## Embedding\n",
    "\n",
    "Start to vectorize the text by embedding them with the DistillBERT encoder."
   ],
   "id": "4436f34ebae8879f"
  },
  {
   "metadata": {
    "ExecuteTime": {
     "end_time": "2024-10-08T16:52:54.473659Z",
     "start_time": "2024-10-08T16:52:40.230881Z"
    }
   },
   "cell_type": "code",
   "source": [
    "# Create a list containing all text from the corpus\n",
    "corpus = [document['text'] for document in corpus_fr_jsons[:100]]\n",
    "docids = [document['docid'] for document in corpus_fr_jsons[:100]]\n",
    "\n",
    "# Select the LLM used to perform the embeddings\n",
    "model = SentenceTransformer('sentence-transformers/all-MiniLM-L6-v2')\n",
    "\n",
    "# Encode all the text\n",
    "corpus_embeddings = model.encode(corpus, show_progress_bar=True)\n",
    "\n",
    "# Display some information to the user\n",
    "print(\"Information about the corpus embedding:\\n\"\n",
    "      f\"Number of document embedded: {len(corpus_embeddings)}\\n\"\n",
    "      f\"Vector size of each embedding: {corpus_embeddings[0].shape}\")"
   ],
   "id": "d7d62d7016195e1e",
   "outputs": [
    {
     "data": {
      "text/plain": [
       "modules.json:   0%|          | 0.00/349 [00:00<?, ?B/s]"
      ],
      "application/vnd.jupyter.widget-view+json": {
       "version_major": 2,
       "version_minor": 0,
       "model_id": "cee5ef98163043f1a3f263d11b0a53b4"
      }
     },
     "metadata": {},
     "output_type": "display_data"
    },
    {
     "data": {
      "text/plain": [
       "config_sentence_transformers.json:   0%|          | 0.00/116 [00:00<?, ?B/s]"
      ],
      "application/vnd.jupyter.widget-view+json": {
       "version_major": 2,
       "version_minor": 0,
       "model_id": "33af8e29245a49ffa8ae70e5f7f22e53"
      }
     },
     "metadata": {},
     "output_type": "display_data"
    },
    {
     "data": {
      "text/plain": [
       "README.md:   0%|          | 0.00/10.7k [00:00<?, ?B/s]"
      ],
      "application/vnd.jupyter.widget-view+json": {
       "version_major": 2,
       "version_minor": 0,
       "model_id": "0e1cc0bf357d4e82bf585d6b4d65fa6a"
      }
     },
     "metadata": {},
     "output_type": "display_data"
    },
    {
     "data": {
      "text/plain": [
       "sentence_bert_config.json:   0%|          | 0.00/53.0 [00:00<?, ?B/s]"
      ],
      "application/vnd.jupyter.widget-view+json": {
       "version_major": 2,
       "version_minor": 0,
       "model_id": "eb2aea213a7c44a29dbf67eab0de29dd"
      }
     },
     "metadata": {},
     "output_type": "display_data"
    },
    {
     "data": {
      "text/plain": [
       "config.json:   0%|          | 0.00/612 [00:00<?, ?B/s]"
      ],
      "application/vnd.jupyter.widget-view+json": {
       "version_major": 2,
       "version_minor": 0,
       "model_id": "25767b8f32a445d6ad27fd0d86c212fa"
      }
     },
     "metadata": {},
     "output_type": "display_data"
    },
    {
     "data": {
      "text/plain": [
       "model.safetensors:   0%|          | 0.00/90.9M [00:00<?, ?B/s]"
      ],
      "application/vnd.jupyter.widget-view+json": {
       "version_major": 2,
       "version_minor": 0,
       "model_id": "8d317ee0802a4ecc91e3e4d45a64f33c"
      }
     },
     "metadata": {},
     "output_type": "display_data"
    },
    {
     "data": {
      "text/plain": [
       "tokenizer_config.json:   0%|          | 0.00/350 [00:00<?, ?B/s]"
      ],
      "application/vnd.jupyter.widget-view+json": {
       "version_major": 2,
       "version_minor": 0,
       "model_id": "d3858fa36eb7491a9788559281e287ce"
      }
     },
     "metadata": {},
     "output_type": "display_data"
    },
    {
     "data": {
      "text/plain": [
       "vocab.txt:   0%|          | 0.00/232k [00:00<?, ?B/s]"
      ],
      "application/vnd.jupyter.widget-view+json": {
       "version_major": 2,
       "version_minor": 0,
       "model_id": "04b2653aa02443eeb5e81df260210a4e"
      }
     },
     "metadata": {},
     "output_type": "display_data"
    },
    {
     "data": {
      "text/plain": [
       "tokenizer.json:   0%|          | 0.00/466k [00:00<?, ?B/s]"
      ],
      "application/vnd.jupyter.widget-view+json": {
       "version_major": 2,
       "version_minor": 0,
       "model_id": "fc853d7bca2a44aa8ea9f8addfefcd2e"
      }
     },
     "metadata": {},
     "output_type": "display_data"
    },
    {
     "data": {
      "text/plain": [
       "special_tokens_map.json:   0%|          | 0.00/112 [00:00<?, ?B/s]"
      ],
      "application/vnd.jupyter.widget-view+json": {
       "version_major": 2,
       "version_minor": 0,
       "model_id": "aa5c89e544804bd7972536fece11d3f5"
      }
     },
     "metadata": {},
     "output_type": "display_data"
    },
    {
     "data": {
      "text/plain": [
       "1_Pooling/config.json:   0%|          | 0.00/190 [00:00<?, ?B/s]"
      ],
      "application/vnd.jupyter.widget-view+json": {
       "version_major": 2,
       "version_minor": 0,
       "model_id": "ac5cc3da601d4620b2fbedf77f605e0d"
      }
     },
     "metadata": {},
     "output_type": "display_data"
    },
    {
     "data": {
      "text/plain": [
       "Batches:   0%|          | 0/1 [00:00<?, ?it/s]"
      ],
      "application/vnd.jupyter.widget-view+json": {
       "version_major": 2,
       "version_minor": 0,
       "model_id": "9c27847c2251460da32f6ab23811380c"
      }
     },
     "metadata": {},
     "output_type": "display_data"
    },
    {
     "name": "stdout",
     "output_type": "stream",
     "text": [
      "Information about the corpus embedding:\n",
      "Number of document embedded: 10\n",
      "Vector size of each embedding: (384,)\n"
     ]
    }
   ],
   "execution_count": 5
  },
  {
   "metadata": {
    "ExecuteTime": {
     "end_time": "2024-10-08T16:54:19.740918Z",
     "start_time": "2024-10-08T16:54:19.721039Z"
    }
   },
   "cell_type": "code",
   "source": "type(corpus_embeddings)",
   "id": "ad910f6128fb33db",
   "outputs": [
    {
     "data": {
      "text/plain": [
       "numpy.ndarray"
      ]
     },
     "execution_count": 6,
     "metadata": {},
     "output_type": "execute_result"
    }
   ],
   "execution_count": 6
  },
  {
   "metadata": {
    "ExecuteTime": {
     "end_time": "2024-10-05T14:12:50.421169Z",
     "start_time": "2024-10-05T14:12:50.187626Z"
    }
   },
   "cell_type": "code",
   "source": [
    "query = \"Quelles sont les informations révélées par la Société norvégienne de radiodiffusion (NRK) concernant les adresses et les numéros des employés du complexe de l'abri antiatomique norvégien ?\"  # wanted document: doc-fr-4878\n",
    "top_k=10\n",
    "\n",
    "query_embedding = model.encode(query)\n",
    "\n",
    "# We use cosine-similarity and torch.topk to find the highest 5 scores\n",
    "similarity_scores = model.similarity(query_embedding, corpus_embeddings)[0]\n",
    "scores, indices = torch.topk(similarity_scores, k=top_k)\n",
    "\n",
    "print(f\"Query: {query}\\n\\n\"\n",
    "      f\"{'#'*50}\\n\"\n",
    "      f\"Top {top_k} most similar sentences in corpus:\\n\"\n",
    "      f\"{'#'*50}\\n\")\n",
    "\n",
    "for score, idx in zip(scores, indices):\n",
    "        print(f\"Docid: {docids[idx]}\\n\"\n",
    "              f\"Text:{corpus[idx][:50]}\\n\"\n",
    "              f\"(Score: {score:.4f})\\n\")"
   ],
   "id": "734bbdf7ffb257b3",
   "outputs": [
    {
     "name": "stdout",
     "output_type": "stream",
     "text": [
      "Query: Quelles sont les informations révélées par la Société norvégienne de radiodiffusion (NRK) concernant les adresses et les numéros des employés du complexe de l'abri antiatomique norvégien ?\n",
      "\n",
      "##################################################\n",
      "Top 10 most similar sentences in corpus:\n",
      "##################################################\n",
      "\n",
      "Docid: doc-fr-1029\n",
      "Text:shōnen manga masahiro ikeno prépublié entre 2012 m\n",
      "(Score: 0.3152)\n",
      "\n",
      "Docid: doc-fr-4878\n",
      "Text:continuité gouvernement cog principe établissement\n",
      "(Score: 0.2756)\n",
      "\n",
      "Docid: doc-fr-1342\n",
      "Text:thumb 300px plan stations épuration skanstull erik\n",
      "(Score: 0.2714)\n",
      "\n",
      "Docid: doc-fr-6955\n",
      "Text:effet indésirable médicament soin effet défavorabl\n",
      "(Score: 0.2474)\n",
      "\n",
      "Docid: doc-fr-1215\n",
      "Text:centrale nucléaire golfech implantée commune golfe\n",
      "(Score: 0.2404)\n",
      "\n",
      "Docid: doc-fr-384\n",
      "Text:thumb 350px right carte postale grande synagogue i\n",
      "(Score: 0.2327)\n",
      "\n",
      "Docid: doc-fr-4174\n",
      "Text:bataille alger a opposé 1957 alger département alg\n",
      "(Score: 0.2296)\n",
      "\n",
      "Docid: doc-fr-4134\n",
      "Text:lécole hautes études commerciales nord plus couram\n",
      "(Score: 0.2228)\n",
      "\n",
      "Docid: doc-fr-6852\n",
      "Text:metalxs a débuté comme émission télévision hebdoma\n",
      "(Score: 0.2225)\n",
      "\n",
      "Docid: doc-fr-2084\n",
      "Text:carlo castelbarco pindemonte della torre di rezzon\n",
      "(Score: 0.2218)\n",
      "\n"
     ]
    }
   ],
   "execution_count": 4
  }
 ],
 "metadata": {
  "kernelspec": {
   "display_name": "Python 3",
   "language": "python",
   "name": "python3"
  },
  "language_info": {
   "codemirror_mode": {
    "name": "ipython",
    "version": 2
   },
   "file_extension": ".py",
   "mimetype": "text/x-python",
   "name": "python",
   "nbconvert_exporter": "python",
   "pygments_lexer": "ipython2",
   "version": "2.7.6"
  }
 },
 "nbformat": 4,
 "nbformat_minor": 5
}

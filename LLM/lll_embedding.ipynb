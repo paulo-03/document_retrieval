{
 "cells": [
  {
   "metadata": {},
   "cell_type": "markdown",
   "source": [
    "# LLM Embedding\n",
    "\n",
    "This notebook shows the embedding process of our full corpus that will be used later to retrieve documents relevant to given queries."
   ],
   "id": "565394d3f88b2632"
  },
  {
   "metadata": {
    "ExecuteTime": {
     "end_time": "2024-10-10T07:45:37.927536Z",
     "start_time": "2024-10-10T07:45:34.534862Z"
    }
   },
   "cell_type": "code",
   "source": [
    "import warnings\n",
    "import json\n",
    "import torch\n",
    "\n",
    "warnings.filterwarnings('ignore')\n",
    "from sentence_transformers import SentenceTransformer\n",
    "from sentence_transformers.util import normalize_embeddings, dot_score, semantic_search"
   ],
   "id": "e8e0d291262d2e8d",
   "outputs": [],
   "execution_count": 1
  },
  {
   "metadata": {},
   "cell_type": "markdown",
   "source": "## Data Loading",
   "id": "32ea47eebed5732d"
  },
  {
   "metadata": {
    "ExecuteTime": {
     "end_time": "2024-10-10T07:45:42.132127Z",
     "start_time": "2024-10-10T07:45:40.158716Z"
    }
   },
   "cell_type": "code",
   "source": [
    "file_path = '../clean_data/clean_corpus_fr.json'\n",
    "\n",
    "with open(file_path, 'r') as f:\n",
    "        # Parse each line as an independent JSON object\n",
    "        data = [json.loads(line) for line in f]\n",
    "        \n",
    "print(len(data), 'documents loaded.')"
   ],
   "id": "4eaf10945260231b",
   "outputs": [
    {
     "name": "stdout",
     "output_type": "stream",
     "text": [
      "10676 documents loaded.\n"
     ]
    }
   ],
   "execution_count": 2
  },
  {
   "metadata": {},
   "cell_type": "markdown",
   "source": [
    "## Embedding\n",
    "\n",
    "Start to vectorize the text by embedding them with the DistillBERT encoder."
   ],
   "id": "4436f34ebae8879f"
  },
  {
   "metadata": {
    "ExecuteTime": {
     "end_time": "2024-10-10T07:48:02.818334Z",
     "start_time": "2024-10-10T07:45:48.436655Z"
    }
   },
   "cell_type": "code",
   "source": [
    "# Create a list containing all text from the corpus\n",
    "corpus = [document['text'] for document in data[:200]]\n",
    "docids = [document['docid'] for document in data[:200]]\n",
    "\n",
    "# Select the LLM used to perform the embeddings\n",
    "# Basic model (english only): sentence-transformers/all-MiniLM-L6-v2\n",
    "# Multilingual model: sentence-transformers/paraphrase-multilingual-MiniLM-L12-v2\n",
    "# GOAT Multilingual model: BAAI/bge-large-zh-v1.5\n",
    "# bert-base-nli-mean-tokens\n",
    "model = SentenceTransformer('bert-base-nli-mean-tokens') \n",
    "\n",
    "# Encode all the text\n",
    "corpus_embeddings = model.encode(\n",
    "    corpus, \n",
    "    convert_to_tensor=True, \n",
    "    show_progress_bar=True\n",
    ")\n",
    "\n",
    "corpus_embeddings = normalize_embeddings(corpus_embeddings)\n",
    "\n",
    "# Display some information to the user\n",
    "print(\"Information about the corpus embedding:\\n\"\n",
    "      f\"Number of document embedded: {len(corpus_embeddings)}\\n\"\n",
    "      f\"Vector size of each embedding: {corpus_embeddings[0].shape}\")"
   ],
   "id": "d7d62d7016195e1e",
   "outputs": [
    {
     "data": {
      "text/plain": [
       "modules.json:   0%|          | 0.00/229 [00:00<?, ?B/s]"
      ],
      "application/vnd.jupyter.widget-view+json": {
       "version_major": 2,
       "version_minor": 0,
       "model_id": "072839bf0b344dd39f183c4ac74f23ec"
      }
     },
     "metadata": {},
     "output_type": "display_data"
    },
    {
     "data": {
      "text/plain": [
       "config_sentence_transformers.json:   0%|          | 0.00/122 [00:00<?, ?B/s]"
      ],
      "application/vnd.jupyter.widget-view+json": {
       "version_major": 2,
       "version_minor": 0,
       "model_id": "2de62b17ca8e4bc180938313d668a038"
      }
     },
     "metadata": {},
     "output_type": "display_data"
    },
    {
     "data": {
      "text/plain": [
       "README.md:   0%|          | 0.00/3.99k [00:00<?, ?B/s]"
      ],
      "application/vnd.jupyter.widget-view+json": {
       "version_major": 2,
       "version_minor": 0,
       "model_id": "8629796591dc41f18081b098fbb84c96"
      }
     },
     "metadata": {},
     "output_type": "display_data"
    },
    {
     "data": {
      "text/plain": [
       "sentence_bert_config.json:   0%|          | 0.00/53.0 [00:00<?, ?B/s]"
      ],
      "application/vnd.jupyter.widget-view+json": {
       "version_major": 2,
       "version_minor": 0,
       "model_id": "21217b89a4474268a38ecd2f0a3d0e8f"
      }
     },
     "metadata": {},
     "output_type": "display_data"
    },
    {
     "data": {
      "text/plain": [
       "config.json:   0%|          | 0.00/625 [00:00<?, ?B/s]"
      ],
      "application/vnd.jupyter.widget-view+json": {
       "version_major": 2,
       "version_minor": 0,
       "model_id": "bcad6f10d457442bbfaf0955b7cd8a22"
      }
     },
     "metadata": {},
     "output_type": "display_data"
    },
    {
     "data": {
      "text/plain": [
       "model.safetensors:   0%|          | 0.00/438M [00:00<?, ?B/s]"
      ],
      "application/vnd.jupyter.widget-view+json": {
       "version_major": 2,
       "version_minor": 0,
       "model_id": "e85fed7afe284bf6b57b35314c95f4b2"
      }
     },
     "metadata": {},
     "output_type": "display_data"
    },
    {
     "data": {
      "text/plain": [
       "tokenizer_config.json:   0%|          | 0.00/399 [00:00<?, ?B/s]"
      ],
      "application/vnd.jupyter.widget-view+json": {
       "version_major": 2,
       "version_minor": 0,
       "model_id": "cee979eb7de741898209364b363c86bc"
      }
     },
     "metadata": {},
     "output_type": "display_data"
    },
    {
     "data": {
      "text/plain": [
       "vocab.txt:   0%|          | 0.00/232k [00:00<?, ?B/s]"
      ],
      "application/vnd.jupyter.widget-view+json": {
       "version_major": 2,
       "version_minor": 0,
       "model_id": "a75544222dd54a089d2ce6575d8920df"
      }
     },
     "metadata": {},
     "output_type": "display_data"
    },
    {
     "data": {
      "text/plain": [
       "tokenizer.json:   0%|          | 0.00/466k [00:00<?, ?B/s]"
      ],
      "application/vnd.jupyter.widget-view+json": {
       "version_major": 2,
       "version_minor": 0,
       "model_id": "ccb2362301224c0da388e402ce0dd8cb"
      }
     },
     "metadata": {},
     "output_type": "display_data"
    },
    {
     "data": {
      "text/plain": [
       "added_tokens.json:   0%|          | 0.00/2.00 [00:00<?, ?B/s]"
      ],
      "application/vnd.jupyter.widget-view+json": {
       "version_major": 2,
       "version_minor": 0,
       "model_id": "c1db6f3110d042d1b1ba7c81c52edf22"
      }
     },
     "metadata": {},
     "output_type": "display_data"
    },
    {
     "data": {
      "text/plain": [
       "special_tokens_map.json:   0%|          | 0.00/112 [00:00<?, ?B/s]"
      ],
      "application/vnd.jupyter.widget-view+json": {
       "version_major": 2,
       "version_minor": 0,
       "model_id": "dd692c42aa9d4a96b43b9044509eb28b"
      }
     },
     "metadata": {},
     "output_type": "display_data"
    },
    {
     "data": {
      "text/plain": [
       "1_Pooling/config.json:   0%|          | 0.00/190 [00:00<?, ?B/s]"
      ],
      "application/vnd.jupyter.widget-view+json": {
       "version_major": 2,
       "version_minor": 0,
       "model_id": "34856eab93a84f91a9bffdc07b71069f"
      }
     },
     "metadata": {},
     "output_type": "display_data"
    },
    {
     "data": {
      "text/plain": [
       "Batches:   0%|          | 0/7 [00:00<?, ?it/s]"
      ],
      "application/vnd.jupyter.widget-view+json": {
       "version_major": 2,
       "version_minor": 0,
       "model_id": "131780647d18417e8d58ad4836aa20ab"
      }
     },
     "metadata": {},
     "output_type": "display_data"
    },
    {
     "name": "stdout",
     "output_type": "stream",
     "text": [
      "Information about the corpus embedding:\n",
      "Number of document embedded: 200\n",
      "Vector size of each embedding: torch.Size([768])\n"
     ]
    }
   ],
   "execution_count": 3
  },
  {
   "metadata": {
    "ExecuteTime": {
     "end_time": "2024-10-10T07:48:07.589095Z",
     "start_time": "2024-10-10T07:48:06.732481Z"
    }
   },
   "cell_type": "code",
   "source": [
    "query = \"Quelles sont les informations révélées par la Société norvégienne de radiodiffusion (NRK) concernant les adresses et les numéros des employés du complexe de l'abri antiatomique norvégien ?\"  # wanted document: doc-fr-4878\n",
    "top_k=10\n",
    "\n",
    "query_embedding = model.encode(query)\n",
    "\n",
    "# Using build-in method\n",
    "search_hits = semantic_search(query_embedding, corpus_embeddings, score_function=dot_score)\n",
    "scores, indices = ([hit['score'] for hit in search_hits[0]][:top_k], \n",
    "                   [hit['corpus_id'] for hit in search_hits[0]][:top_k])\n",
    "\n",
    "print(f\"Query: {query}\\n\\n\"\n",
    "      f\"{'#'*50}\\n\"\n",
    "      f\"Top {top_k} most similar sentences in corpus:\\n\"\n",
    "      f\"{'#'*50}\\n\")\n",
    "\n",
    "for score, idx in zip(scores, indices):\n",
    "        print(f\"Docid: {docids[idx]}\\n\"\n",
    "              f\"Text:{corpus[idx][:500]}\\n\"\n",
    "              f\"(Score: {score:.4f})\\n\")"
   ],
   "id": "1172b87db5bf59d8",
   "outputs": [
    {
     "name": "stdout",
     "output_type": "stream",
     "text": [
      "Query: Quelles sont les informations révélées par la Société norvégienne de radiodiffusion (NRK) concernant les adresses et les numéros des employés du complexe de l'abri antiatomique norvégien ?\n",
      "\n",
      "##################################################\n",
      "Top 10 most similar sentences in corpus:\n",
      "##################################################\n",
      "\n",
      "Docid: doc-fr-4878\n",
      "Text:continuité gouvernement cog principe établissement procédures définies permettent gouvernement poursuivre activités essentielles cas événement catastrophique comme guerre nucléaire continuité gouvernement a élaboré gouvernement britannique avant pendant seconde guerre mondiale afin contrer menaces telles bombardements luftwaffe pendant bataille angleterre besoin plans continuité gouvernementale a gagné urgence prolifération nucléaire pendant après guerre froide pays développé tels plans afin évi\n",
      "(Score: 11.0440)\n",
      "\n",
      "Docid: doc-fr-3771\n",
      "Text:éphores littéralement surveillants oráô surveiller composent directoire cinq magistrats annuels sparte dont forment véritable gouvernement créé selon plutarque environ 130 ans après lycurgue éphorat supprimé 227 av cléomène iii puis rétabli antigone iii doson roi macédoine avant être définitivement aboli empereur hadrien création magistrature sources anciennes accordent point éminemment politique époque contexte rivalité entre rois éphores hérodote xénophon création lycurgue aristote contraire i\n",
      "(Score: 10.7494)\n",
      "\n",
      "Docid: doc-fr-1292\n",
      "Text:artima maison édition française bandes dessinées basée tourcoing dirigée émile keirsbilk années 1950 1960 nom signifie artisans imagerie 1962 presses cité rachètent artima alors difficulté financière notamment but publier sous nom arédit adaptations catalogue romans sous forme bande dessinée 1943 1962 sous nom artima premières publications artima paraissent 1943 format dit italienne 1952 cette maison édition a idée publier fascicules mensuels bandes dessinées nouveau format 17 5 x dit française \n",
      "(Score: 10.7155)\n",
      "\n",
      "Docid: doc-fr-2408\n",
      "Text:cette page ouvre série a objet présenter arbre phylogénétique vivant cellulaire dire cladogramme mettant lumière relations évolutives complexes existant entre différents organismes vivants éteints hormis monde viral regroupés taxa telles dernières analyses reconnues proposent possibilité cet arbre comme suivants articles suivre indiqués constante actualisation fait méthodes nouvelles phylogénie science récente origine classification phylogénétique vivant plein essor propose parfois résultats con\n",
      "(Score: 10.6868)\n",
      "\n",
      "Docid: doc-fr-6889\n",
      "Text:vignette alt formule scientifique formule démontrant hypothèse entropie trous noirs formulée stephen hawking vignette vue artiste deux trous noirs train fusionner entropie trous noirs notion issue étude trous noirs cadre relativité générale théorie quantique champs relation thermodynamique depuis années 1970 a montré physiciens stephen hawking jacob bekenstein trous noirs possédaient tout comme objets ordinaires entropie dire mesure quantité information renferment contexte historique concept ent\n",
      "(Score: 10.6707)\n",
      "\n",
      "Docid: doc-fr-7180\n",
      "Text:billy saison 3 série télévisée angel synopsis angel apprend cordelia battre épée jeune femme révèle être élève très douée pendant temps lilah morgan surprend gavin park pleine discussion billy jeune homme angel a sauvé enfer martyre cordelia billy part ensuite oncle politicien influent lilah dispute park dernier prend violemment cordelia découvre wesley a sentiments fred avant avoir vision femme battue mari équipe angel investigations découvre cette femme morte depuis semaine enquêtant angel rec\n",
      "(Score: 10.6549)\n",
      "\n",
      "Docid: doc-fr-7264\n",
      "Text:utilisation faisceau électrons tracer motifs surface connue sous nom lithographie faisceau électrons parle également lithographie électronique rapport photolithographie avantage cette technique permet repousser limites diffraction lumière dessiner motifs résolution pouvant aller jusqu nanomètre cette forme lithographie a trouvé diverses formes application recherche industrie semi conducteurs convenu appeler nanotechnologies vue ensemble lithographie électronique implique faisceau électrons doit \n",
      "(Score: 10.6178)\n",
      "\n",
      "Docid: doc-fr-2240\n",
      "Text:elizabeth riddle graves physicienne américaine pionnière physique neutrons détection mesure neutrons rapides a travaillé pendant seconde guerre mondiale metallurgical laboratory laboratoire los alamos devenant chef service après guerre probablement femmes scientifique plus gradée los alamos jeunesse formation elizabeth riddle naît nashville tennessee 23 janvier 1916 james marion riddle caroline sud georgia clymetra boykin arkansas a deux frères james marion riddle jr john burwell boykin riddle v\n",
      "(Score: 10.4148)\n",
      "\n",
      "Docid: doc-fr-6823\n",
      "Text:linstitut international transcultura appelé communément transcultura réseau universitaire international créé 1988 umberto eco alain pichon a principales missions organiser développer pratique anthropologie réciproque entre europe aires culturelles non occidentales vue susciter nouvelles approches évolution sociétés organiser équipes mixtes chercheurs venant pays européens pays afrique amérique latine asie afin mener travaux recherche engager réflexion interculturelle transformations monde contem\n",
      "(Score: 10.3665)\n",
      "\n",
      "Docid: doc-fr-2083\n",
      "Text:cet article présente personnages série télévisée sauvés gong tous personnages habitent quartier palissade hills los angeles californie zachary zack morris interprété mark paul gosselaar fils unique dereck morris riche homme affaires très occupé offre beaucoup temps monique morris personnage principal série parfait cancre feignant coquet roublard vaniteux adore faire bêtises monter arnaques autres coups tordus inséparable ami screech conduisent immanquablement atterrir bureau principal richard be\n",
      "(Score: 10.3627)\n",
      "\n"
     ]
    }
   ],
   "execution_count": 4
  }
 ],
 "metadata": {
  "kernelspec": {
   "display_name": "Python 3",
   "language": "python",
   "name": "python3"
  },
  "language_info": {
   "codemirror_mode": {
    "name": "ipython",
    "version": 2
   },
   "file_extension": ".py",
   "mimetype": "text/x-python",
   "name": "python",
   "nbconvert_exporter": "python",
   "pygments_lexer": "ipython2",
   "version": "2.7.6"
  }
 },
 "nbformat": 4,
 "nbformat_minor": 5
}

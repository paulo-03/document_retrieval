{
 "cells": [
  {
   "metadata": {},
   "cell_type": "markdown",
   "source": [
    "# LLM Embedding\n",
    "\n",
    "This notebook shows the embedding process of our full corpus that will be used later to retrieve documents relevant to given queries."
   ],
   "id": "565394d3f88b2632"
  },
  {
   "metadata": {
    "ExecuteTime": {
     "end_time": "2024-10-05T14:12:24.134432Z",
     "start_time": "2024-10-05T14:12:21.509003Z"
    }
   },
   "cell_type": "code",
   "source": [
    "import warnings\n",
    "import json\n",
    "import torch\n",
    "\n",
    "warnings.filterwarnings('ignore')\n",
    "from sentence_transformers import SentenceTransformer"
   ],
   "id": "e8e0d291262d2e8d",
   "outputs": [],
   "execution_count": 1
  },
  {
   "metadata": {},
   "cell_type": "markdown",
   "source": "## Data Loading",
   "id": "32ea47eebed5732d"
  },
  {
   "metadata": {
    "ExecuteTime": {
     "end_time": "2024-10-05T14:12:35.585286Z",
     "start_time": "2024-10-05T14:12:34.020916Z"
    }
   },
   "cell_type": "code",
   "source": [
    "file_path = '../data/corpus.json/clean_corpus_fr.json'\n",
    "\n",
    "with open(file_path, 'r') as f:\n",
    "        # Parse each line as an independent JSON object\n",
    "        data = [json.loads(line) for line in f]\n",
    "        \n",
    "print(len(data), 'documents loaded.')"
   ],
   "id": "4eaf10945260231b",
   "outputs": [
    {
     "name": "stdout",
     "output_type": "stream",
     "text": [
      "10676 documents loaded.\n"
     ]
    }
   ],
   "execution_count": 2
  },
  {
   "metadata": {},
   "cell_type": "markdown",
   "source": [
    "## Embedding\n",
    "\n",
    "Start to vectorize the text by embedding them with the DistillBERT encoder."
   ],
   "id": "4436f34ebae8879f"
  },
  {
   "metadata": {
    "ExecuteTime": {
     "end_time": "2024-10-05T14:12:50.117704Z",
     "start_time": "2024-10-05T14:12:36.070219Z"
    }
   },
   "cell_type": "code",
   "source": [
    "# Create a list containing all text from the corpus\n",
    "corpus = [document['text'] for document in data[:100]]\n",
    "docids = [document['docid'] for document in data[:100]]\n",
    "\n",
    "# Select the LLM used to perform the embeddings\n",
    "model = SentenceTransformer('sentence-transformers/all-MiniLM-L6-v2')\n",
    "\n",
    "# Encode all the text\n",
    "corpus_embeddings = model.encode(corpus, show_progress_bar=True)\n",
    "\n",
    "# Display some information to the user\n",
    "print(\"Information about the corpus embedding:\\n\"\n",
    "      f\"Number of document embedded: {len(corpus_embeddings)}\\n\"\n",
    "      f\"Vector size of each embedding: {corpus_embeddings[0].shape}\")"
   ],
   "id": "d7d62d7016195e1e",
   "outputs": [
    {
     "data": {
      "text/plain": [
       "Batches:   0%|          | 0/4 [00:00<?, ?it/s]"
      ],
      "application/vnd.jupyter.widget-view+json": {
       "version_major": 2,
       "version_minor": 0,
       "model_id": "0445c07a4c274893a2d662b15709565e"
      }
     },
     "metadata": {},
     "output_type": "display_data"
    },
    {
     "name": "stdout",
     "output_type": "stream",
     "text": [
      "Information about the corpus embedding:\n",
      "Number of document embedded: 100\n",
      "Vector size of each embedding: (384,)\n"
     ]
    }
   ],
   "execution_count": 3
  },
  {
   "metadata": {
    "ExecuteTime": {
     "end_time": "2024-10-05T14:12:50.421169Z",
     "start_time": "2024-10-05T14:12:50.187626Z"
    }
   },
   "cell_type": "code",
   "source": [
    "query = \"Quelles sont les informations révélées par la Société norvégienne de radiodiffusion (NRK) concernant les adresses et les numéros des employés du complexe de l'abri antiatomique norvégien ?\"  # wanted document: doc-fr-4878\n",
    "top_k=10\n",
    "\n",
    "query_embedding = model.encode(query)\n",
    "\n",
    "# We use cosine-similarity and torch.topk to find the highest 5 scores\n",
    "similarity_scores = model.similarity(query_embedding, corpus_embeddings)[0]\n",
    "scores, indices = torch.topk(similarity_scores, k=top_k)\n",
    "\n",
    "print(f\"Query: {query}\\n\\n\"\n",
    "      f\"{'#'*50}\\n\"\n",
    "      f\"Top {top_k} most similar sentences in corpus:\\n\"\n",
    "      f\"{'#'*50}\\n\")\n",
    "\n",
    "for score, idx in zip(scores, indices):\n",
    "        print(f\"Docid: {docids[idx]}\\n\"\n",
    "              f\"Text:{corpus[idx][:50]}\\n\"\n",
    "              f\"(Score: {score:.4f})\\n\")"
   ],
   "id": "734bbdf7ffb257b3",
   "outputs": [
    {
     "name": "stdout",
     "output_type": "stream",
     "text": [
      "Query: Quelles sont les informations révélées par la Société norvégienne de radiodiffusion (NRK) concernant les adresses et les numéros des employés du complexe de l'abri antiatomique norvégien ?\n",
      "\n",
      "##################################################\n",
      "Top 10 most similar sentences in corpus:\n",
      "##################################################\n",
      "\n",
      "Docid: doc-fr-1029\n",
      "Text:shōnen manga masahiro ikeno prépublié entre 2012 m\n",
      "(Score: 0.3152)\n",
      "\n",
      "Docid: doc-fr-4878\n",
      "Text:continuité gouvernement cog principe établissement\n",
      "(Score: 0.2756)\n",
      "\n",
      "Docid: doc-fr-1342\n",
      "Text:thumb 300px plan stations épuration skanstull erik\n",
      "(Score: 0.2714)\n",
      "\n",
      "Docid: doc-fr-6955\n",
      "Text:effet indésirable médicament soin effet défavorabl\n",
      "(Score: 0.2474)\n",
      "\n",
      "Docid: doc-fr-1215\n",
      "Text:centrale nucléaire golfech implantée commune golfe\n",
      "(Score: 0.2404)\n",
      "\n",
      "Docid: doc-fr-384\n",
      "Text:thumb 350px right carte postale grande synagogue i\n",
      "(Score: 0.2327)\n",
      "\n",
      "Docid: doc-fr-4174\n",
      "Text:bataille alger a opposé 1957 alger département alg\n",
      "(Score: 0.2296)\n",
      "\n",
      "Docid: doc-fr-4134\n",
      "Text:lécole hautes études commerciales nord plus couram\n",
      "(Score: 0.2228)\n",
      "\n",
      "Docid: doc-fr-6852\n",
      "Text:metalxs a débuté comme émission télévision hebdoma\n",
      "(Score: 0.2225)\n",
      "\n",
      "Docid: doc-fr-2084\n",
      "Text:carlo castelbarco pindemonte della torre di rezzon\n",
      "(Score: 0.2218)\n",
      "\n"
     ]
    }
   ],
   "execution_count": 4
  }
 ],
 "metadata": {
  "kernelspec": {
   "display_name": "Python 3",
   "language": "python",
   "name": "python3"
  },
  "language_info": {
   "codemirror_mode": {
    "name": "ipython",
    "version": 2
   },
   "file_extension": ".py",
   "mimetype": "text/x-python",
   "name": "python",
   "nbconvert_exporter": "python",
   "pygments_lexer": "ipython2",
   "version": "2.7.6"
  }
 },
 "nbformat": 4,
 "nbformat_minor": 5
}

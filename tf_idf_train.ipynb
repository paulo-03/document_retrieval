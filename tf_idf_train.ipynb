{
 "cells": [
  {
   "metadata": {},
   "cell_type": "markdown",
   "source": [
    "# TF-IDF\n",
    "\n",
    "Notebooks to show our TF-IDF method and its performances."
   ],
   "id": "fa43bcd983c73454"
  },
  {
   "metadata": {},
   "cell_type": "markdown",
   "source": "## Import",
   "id": "a0e7081e79c5faa1"
  },
  {
   "metadata": {
    "ExecuteTime": {
     "end_time": "2024-10-03T15:30:14.360126Z",
     "start_time": "2024-10-03T15:30:13.286805Z"
    }
   },
   "cell_type": "code",
   "source": [
    "from tf_idf import TFIDFTrainer\n",
    "\n",
    "%load_ext autoreload\n",
    "%autoreload 2"
   ],
   "id": "95f396ccdd199646",
   "outputs": [],
   "execution_count": 1
  },
  {
   "metadata": {},
   "cell_type": "markdown",
   "source": "## TF-IDF computation",
   "id": "b05beebc97f5aef4"
  },
  {
   "metadata": {
    "ExecuteTime": {
     "end_time": "2024-10-03T15:30:18.190326Z",
     "start_time": "2024-10-03T15:30:15.266835Z"
    }
   },
   "cell_type": "code",
   "source": "tf_idf = TFIDFTrainer(\"data/corpus.json/clean_corpus_fr.json\")",
   "id": "24df14287c4f3103",
   "outputs": [
    {
     "name": "stdout",
     "output_type": "stream",
     "text": [
      "Loading corpus...\n",
      "Corpus loaded successfully !\n",
      "\n",
      "Information about the given corpus\n",
      "###################################\n",
      "Number of documents: 10676\n",
      "Language (only one language should be displayed): ['fr']\n",
      "\n"
     ]
    }
   ],
   "execution_count": 2
  },
  {
   "metadata": {
    "ExecuteTime": {
     "end_time": "2024-10-03T15:30:18.250697Z",
     "start_time": "2024-10-03T15:30:18.205957Z"
    }
   },
   "cell_type": "code",
   "source": "tf_idf.corpus",
   "id": "d2aa2adebe330736",
   "outputs": [
    {
     "data": {
      "text/plain": [
       "             docid                                               text lang\n",
       "0      doc-fr-1447  production café costa rica représente 2016 env...   fr\n",
       "1      doc-fr-4878  continuité gouvernement cog principe établisse...   fr\n",
       "2       doc-fr-801  juan manuel fangio né balcarce mort buenos air...   fr\n",
       "3      doc-fr-1750  louis auguste mathieu legrand peintre dessinat...   fr\n",
       "4      doc-fr-5810  gare lille saint sauveur simplement gare saint...   fr\n",
       "...            ...                                                ...  ...\n",
       "10671  doc-fr-4573  frelon asiatique frelon pattes jaunes vespa ve...   fr\n",
       "10672  doc-fr-7662  surveillance épidémiologique activité santé pu...   fr\n",
       "10673  doc-fr-7669  série télévisée britannique 37 épisodes enviro...   fr\n",
       "10674  doc-fr-7683  lucien bégule né saint genis laval mort lyon 2...   fr\n",
       "10675  doc-fr-7695  élections législatives tiennent 10 mars 2019 c...   fr\n",
       "\n",
       "[10676 rows x 3 columns]"
      ],
      "text/html": [
       "<div>\n",
       "<style scoped>\n",
       "    .dataframe tbody tr th:only-of-type {\n",
       "        vertical-align: middle;\n",
       "    }\n",
       "\n",
       "    .dataframe tbody tr th {\n",
       "        vertical-align: top;\n",
       "    }\n",
       "\n",
       "    .dataframe thead th {\n",
       "        text-align: right;\n",
       "    }\n",
       "</style>\n",
       "<table border=\"1\" class=\"dataframe\">\n",
       "  <thead>\n",
       "    <tr style=\"text-align: right;\">\n",
       "      <th></th>\n",
       "      <th>docid</th>\n",
       "      <th>text</th>\n",
       "      <th>lang</th>\n",
       "    </tr>\n",
       "  </thead>\n",
       "  <tbody>\n",
       "    <tr>\n",
       "      <th>0</th>\n",
       "      <td>doc-fr-1447</td>\n",
       "      <td>production café costa rica représente 2016 env...</td>\n",
       "      <td>fr</td>\n",
       "    </tr>\n",
       "    <tr>\n",
       "      <th>1</th>\n",
       "      <td>doc-fr-4878</td>\n",
       "      <td>continuité gouvernement cog principe établisse...</td>\n",
       "      <td>fr</td>\n",
       "    </tr>\n",
       "    <tr>\n",
       "      <th>2</th>\n",
       "      <td>doc-fr-801</td>\n",
       "      <td>juan manuel fangio né balcarce mort buenos air...</td>\n",
       "      <td>fr</td>\n",
       "    </tr>\n",
       "    <tr>\n",
       "      <th>3</th>\n",
       "      <td>doc-fr-1750</td>\n",
       "      <td>louis auguste mathieu legrand peintre dessinat...</td>\n",
       "      <td>fr</td>\n",
       "    </tr>\n",
       "    <tr>\n",
       "      <th>4</th>\n",
       "      <td>doc-fr-5810</td>\n",
       "      <td>gare lille saint sauveur simplement gare saint...</td>\n",
       "      <td>fr</td>\n",
       "    </tr>\n",
       "    <tr>\n",
       "      <th>...</th>\n",
       "      <td>...</td>\n",
       "      <td>...</td>\n",
       "      <td>...</td>\n",
       "    </tr>\n",
       "    <tr>\n",
       "      <th>10671</th>\n",
       "      <td>doc-fr-4573</td>\n",
       "      <td>frelon asiatique frelon pattes jaunes vespa ve...</td>\n",
       "      <td>fr</td>\n",
       "    </tr>\n",
       "    <tr>\n",
       "      <th>10672</th>\n",
       "      <td>doc-fr-7662</td>\n",
       "      <td>surveillance épidémiologique activité santé pu...</td>\n",
       "      <td>fr</td>\n",
       "    </tr>\n",
       "    <tr>\n",
       "      <th>10673</th>\n",
       "      <td>doc-fr-7669</td>\n",
       "      <td>série télévisée britannique 37 épisodes enviro...</td>\n",
       "      <td>fr</td>\n",
       "    </tr>\n",
       "    <tr>\n",
       "      <th>10674</th>\n",
       "      <td>doc-fr-7683</td>\n",
       "      <td>lucien bégule né saint genis laval mort lyon 2...</td>\n",
       "      <td>fr</td>\n",
       "    </tr>\n",
       "    <tr>\n",
       "      <th>10675</th>\n",
       "      <td>doc-fr-7695</td>\n",
       "      <td>élections législatives tiennent 10 mars 2019 c...</td>\n",
       "      <td>fr</td>\n",
       "    </tr>\n",
       "  </tbody>\n",
       "</table>\n",
       "<p>10676 rows × 3 columns</p>\n",
       "</div>"
      ]
     },
     "execution_count": 3,
     "metadata": {},
     "output_type": "execute_result"
    }
   ],
   "execution_count": 3
  },
  {
   "metadata": {},
   "cell_type": "markdown",
   "source": [
    "## Dictionnary\n",
    "\n",
    "Let's have a look at the vocabulary of the documents. First we can see how many words are in the vocabulary.\n",
    "\n",
    "Also, we can have a look at the distribution of the words to see which words are the most common. Recall that every punctuation and stopwords have been remove from the data_cleaning part."
   ],
   "id": "6aa4d22c7e094bdc"
  },
  {
   "metadata": {
    "ExecuteTime": {
     "end_time": "2024-10-03T15:30:40.418841Z",
     "start_time": "2024-10-03T15:30:21.938235Z"
    }
   },
   "cell_type": "code",
   "source": "tf_idf.create_dictionary(top_w=1000, plot=True)",
   "id": "44d923c1384b485",
   "outputs": [
    {
     "name": "stderr",
     "output_type": "stream",
     "text": [
      "Creating dictionary: 100%|██████████| 10676/10676 [00:13<00:00, 796.42it/s] \n"
     ]
    },
    {
     "data": {
      "text/plain": [
       "<Figure size 1000x500 with 1 Axes>"
      ],
      "image/png": "[encoded data removed]"
     },
     "metadata": {},
     "output_type": "display_data"
    },
    {
     "name": "stdout",
     "output_type": "stream",
     "text": [
      "Dictionary created with 1000 unique words selected !\n",
      "(Please notice that 705413 unique words where found over all the documents, but for \n",
      "computational reasons, only the top 1000 words where selected into the dictionary.)\n"
     ]
    }
   ],
   "execution_count": 4
  },
  {
   "metadata": {},
   "cell_type": "markdown",
   "source": [
    "## Compute the TF-IDF matrix\n",
    "\n",
    "From the given corpus, compute the TF-IDF matrix of size (vocabulary_size X document_number)."
   ],
   "id": "5fcfa774a9e4361b"
  },
  {
   "metadata": {
    "ExecuteTime": {
     "end_time": "2024-10-03T15:36:05.503290Z",
     "start_time": "2024-10-03T15:30:40.489109Z"
    }
   },
   "cell_type": "code",
   "source": "tf_idf.fit()",
   "id": "4bd977ea3c770a3b",
   "outputs": [
    {
     "name": "stderr",
     "output_type": "stream",
     "text": [
      "Computation of Term Frequencies (TF): 100%|██████████| 10676/10676 [05:22<00:00, 33.14it/s]\n"
     ]
    },
    {
     "name": "stdout",
     "output_type": "stream",
     "text": [
      "\n",
      "##################################################\n",
      "\n",
      "Computation of Inverse Document Frequency...\n",
      "Finished !\n",
      "\n",
      "##################################################\n",
      "\n"
     ]
    },
    {
     "name": "stderr",
     "output_type": "stream",
     "text": [
      "Computation of the TF-IDF vectors for each document: 100%|██████████| 10676/10676 [00:02<00:00, 3956.45it/s]\n"
     ]
    }
   ],
   "execution_count": 5
  },
  {
   "metadata": {},
   "cell_type": "markdown",
   "source": [
    "## Saving the results\n",
    "\n",
    "Let's store in the disk our results. They will be used to retrieve the documents from a query later, in the tf_idf_retriever part."
   ],
   "id": "b863dc653a9beffe"
  },
  {
   "metadata": {
    "ExecuteTime": {
     "end_time": "2024-10-03T15:36:09.127279Z",
     "start_time": "2024-10-03T15:36:05.530012Z"
    }
   },
   "cell_type": "code",
   "source": "tf_idf.save_results()",
   "id": "ef3be076e7e74ff9",
   "outputs": [],
   "execution_count": 6
  }
 ],
 "metadata": {
  "kernelspec": {
   "display_name": "Python 3",
   "language": "python",
   "name": "python3"
  },
  "language_info": {
   "codemirror_mode": {
    "name": "ipython",
    "version": 2
   },
   "file_extension": ".py",
   "mimetype": "text/x-python",
   "name": "python",
   "nbconvert_exporter": "python",
   "pygments_lexer": "ipython2",
   "version": "2.7.6"
  }
 },
 "nbformat": 4,
 "nbformat_minor": 5
}

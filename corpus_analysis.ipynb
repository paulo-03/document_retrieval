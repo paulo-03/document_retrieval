{
 "cells": [
  {
   "metadata": {},
   "cell_type": "markdown",
   "source": [
    "# Raw/Clean Corpus Analysis\n",
    "\n",
    "This notebook helps to understand the data structure and content of the raw and cleaned text over the corpus."
   ],
   "id": "5d3ffd3acc5dd7c9"
  },
  {
   "metadata": {
    "ExecuteTime": {
     "end_time": "2024-10-23T08:00:18.143135Z",
     "start_time": "2024-10-23T08:00:12.842207Z"
    }
   },
   "cell_type": "code",
   "source": "from data_helpers import RawCorpusAnalysis, CleanCorpusAnalysis",
   "id": "85861eadeafe788b",
   "outputs": [],
   "execution_count": 1
  },
  {
   "metadata": {},
   "cell_type": "markdown",
   "source": [
    "## Raw Corpus\n",
    "\n",
    "First we load the raw data into a pandas DataFrame to gain insight of it."
   ],
   "id": "f0269e3dd00d9a2b"
  },
  {
   "metadata": {
    "ExecuteTime": {
     "end_time": "2024-10-23T08:00:47.872616Z",
     "start_time": "2024-10-23T08:00:18.158462Z"
    }
   },
   "cell_type": "code",
   "source": [
    "corpus = RawCorpusAnalysis(corpus_path=\"data/corpus.json/corpus.json\")\n",
    "\n",
    "corpus.corpus"
   ],
   "id": "57caccb9ad64d433",
   "outputs": [
    {
     "name": "stdout",
     "output_type": "stream",
     "text": [
      "Loading corpus... (can take up to 3 minutes)\n",
      "Corpus Loaded ! (268022 documents) \n",
      "\n"
     ]
    },
    {
     "data": {
      "text/plain": [
       "               docid                                               text lang\n",
       "0        doc-en-9633  Mars Hill Church was a Christian megachurch, f...   en\n",
       "1       doc-en-11447  Joel Chandler Harris (December 9, 1848 – July ...   en\n",
       "2        doc-en-9696  Surabaya Dock of 14,000 tons was a floating dr...   en\n",
       "3        doc-en-4033  This is a list of the cicadas found in Austral...   en\n",
       "4       doc-en-10997  John Aaron Rawlins (February 13, 1831  Septemb...   en\n",
       "...              ...                                                ...  ...\n",
       "268017   doc-ar-8463  المسيحية في بيرو هي الديانة السائدة والمهيمنة،...   ar\n",
       "268018   doc-ar-8469  المسيحية في كولومبيا هي أكبر الديانات في البلا...   ar\n",
       "268019   doc-ar-8476  تُشكل المسيحية في ليتوانيا أكثر الديانات انتشا...   ar\n",
       "268020   doc-ar-8491  المسيحية في كندا هي الديانة السائدة إذ وفقاً ل...   ar\n",
       "268021   doc-ar-8506  في مجال تجارة الحبوب يُعَرَّف مُصطَلح رافعة ال...   ar\n",
       "\n",
       "[268022 rows x 3 columns]"
      ],
      "text/html": [
       "<div>\n",
       "<style scoped>\n",
       "    .dataframe tbody tr th:only-of-type {\n",
       "        vertical-align: middle;\n",
       "    }\n",
       "\n",
       "    .dataframe tbody tr th {\n",
       "        vertical-align: top;\n",
       "    }\n",
       "\n",
       "    .dataframe thead th {\n",
       "        text-align: right;\n",
       "    }\n",
       "</style>\n",
       "<table border=\"1\" class=\"dataframe\">\n",
       "  <thead>\n",
       "    <tr style=\"text-align: right;\">\n",
       "      <th></th>\n",
       "      <th>docid</th>\n",
       "      <th>text</th>\n",
       "      <th>lang</th>\n",
       "    </tr>\n",
       "  </thead>\n",
       "  <tbody>\n",
       "    <tr>\n",
       "      <th>0</th>\n",
       "      <td>doc-en-9633</td>\n",
       "      <td>Mars Hill Church was a Christian megachurch, f...</td>\n",
       "      <td>en</td>\n",
       "    </tr>\n",
       "    <tr>\n",
       "      <th>1</th>\n",
       "      <td>doc-en-11447</td>\n",
       "      <td>Joel Chandler Harris (December 9, 1848 – July ...</td>\n",
       "      <td>en</td>\n",
       "    </tr>\n",
       "    <tr>\n",
       "      <th>2</th>\n",
       "      <td>doc-en-9696</td>\n",
       "      <td>Surabaya Dock of 14,000 tons was a floating dr...</td>\n",
       "      <td>en</td>\n",
       "    </tr>\n",
       "    <tr>\n",
       "      <th>3</th>\n",
       "      <td>doc-en-4033</td>\n",
       "      <td>This is a list of the cicadas found in Austral...</td>\n",
       "      <td>en</td>\n",
       "    </tr>\n",
       "    <tr>\n",
       "      <th>4</th>\n",
       "      <td>doc-en-10997</td>\n",
       "      <td>John Aaron Rawlins (February 13, 1831  Septemb...</td>\n",
       "      <td>en</td>\n",
       "    </tr>\n",
       "    <tr>\n",
       "      <th>...</th>\n",
       "      <td>...</td>\n",
       "      <td>...</td>\n",
       "      <td>...</td>\n",
       "    </tr>\n",
       "    <tr>\n",
       "      <th>268017</th>\n",
       "      <td>doc-ar-8463</td>\n",
       "      <td>المسيحية في بيرو هي الديانة السائدة والمهيمنة،...</td>\n",
       "      <td>ar</td>\n",
       "    </tr>\n",
       "    <tr>\n",
       "      <th>268018</th>\n",
       "      <td>doc-ar-8469</td>\n",
       "      <td>المسيحية في كولومبيا هي أكبر الديانات في البلا...</td>\n",
       "      <td>ar</td>\n",
       "    </tr>\n",
       "    <tr>\n",
       "      <th>268019</th>\n",
       "      <td>doc-ar-8476</td>\n",
       "      <td>تُشكل المسيحية في ليتوانيا أكثر الديانات انتشا...</td>\n",
       "      <td>ar</td>\n",
       "    </tr>\n",
       "    <tr>\n",
       "      <th>268020</th>\n",
       "      <td>doc-ar-8491</td>\n",
       "      <td>المسيحية في كندا هي الديانة السائدة إذ وفقاً ل...</td>\n",
       "      <td>ar</td>\n",
       "    </tr>\n",
       "    <tr>\n",
       "      <th>268021</th>\n",
       "      <td>doc-ar-8506</td>\n",
       "      <td>في مجال تجارة الحبوب يُعَرَّف مُصطَلح رافعة ال...</td>\n",
       "      <td>ar</td>\n",
       "    </tr>\n",
       "  </tbody>\n",
       "</table>\n",
       "<p>268022 rows × 3 columns</p>\n",
       "</div>"
      ]
     },
     "execution_count": 2,
     "metadata": {},
     "output_type": "execute_result"
    }
   ],
   "execution_count": 2
  },
  {
   "metadata": {},
   "cell_type": "markdown",
   "source": [
    "### Language Distribution\n",
    "\n",
    "Since we saw that our corpus is multilingual, we can have a look at the language distribution of it."
   ],
   "id": "799199b8b590db27"
  },
  {
   "metadata": {
    "ExecuteTime": {
     "end_time": "2024-10-23T08:00:47.970350Z",
     "start_time": "2024-10-23T08:00:47.928518Z"
    }
   },
   "cell_type": "code",
   "source": "corpus.langs()",
   "id": "ec07e39a863daddd",
   "outputs": [
    {
     "data": {
      "text/plain": [
       "      num_docs  ratio_full_corpus\n",
       "lang                             \n",
       "ar        8829           0.032941\n",
       "de       10992           0.041012\n",
       "en      207363           0.773679\n",
       "es       11019           0.041112\n",
       "fr       10676           0.039833\n",
       "it       11250           0.041974\n",
       "ko        7893           0.029449"
      ],
      "text/html": [
       "<div>\n",
       "<style scoped>\n",
       "    .dataframe tbody tr th:only-of-type {\n",
       "        vertical-align: middle;\n",
       "    }\n",
       "\n",
       "    .dataframe tbody tr th {\n",
       "        vertical-align: top;\n",
       "    }\n",
       "\n",
       "    .dataframe thead th {\n",
       "        text-align: right;\n",
       "    }\n",
       "</style>\n",
       "<table border=\"1\" class=\"dataframe\">\n",
       "  <thead>\n",
       "    <tr style=\"text-align: right;\">\n",
       "      <th></th>\n",
       "      <th>num_docs</th>\n",
       "      <th>ratio_full_corpus</th>\n",
       "    </tr>\n",
       "    <tr>\n",
       "      <th>lang</th>\n",
       "      <th></th>\n",
       "      <th></th>\n",
       "    </tr>\n",
       "  </thead>\n",
       "  <tbody>\n",
       "    <tr>\n",
       "      <th>ar</th>\n",
       "      <td>8829</td>\n",
       "      <td>0.032941</td>\n",
       "    </tr>\n",
       "    <tr>\n",
       "      <th>de</th>\n",
       "      <td>10992</td>\n",
       "      <td>0.041012</td>\n",
       "    </tr>\n",
       "    <tr>\n",
       "      <th>en</th>\n",
       "      <td>207363</td>\n",
       "      <td>0.773679</td>\n",
       "    </tr>\n",
       "    <tr>\n",
       "      <th>es</th>\n",
       "      <td>11019</td>\n",
       "      <td>0.041112</td>\n",
       "    </tr>\n",
       "    <tr>\n",
       "      <th>fr</th>\n",
       "      <td>10676</td>\n",
       "      <td>0.039833</td>\n",
       "    </tr>\n",
       "    <tr>\n",
       "      <th>it</th>\n",
       "      <td>11250</td>\n",
       "      <td>0.041974</td>\n",
       "    </tr>\n",
       "    <tr>\n",
       "      <th>ko</th>\n",
       "      <td>7893</td>\n",
       "      <td>0.029449</td>\n",
       "    </tr>\n",
       "  </tbody>\n",
       "</table>\n",
       "</div>"
      ]
     },
     "execution_count": 3,
     "metadata": {},
     "output_type": "execute_result"
    }
   ],
   "execution_count": 3
  },
  {
   "metadata": {},
   "cell_type": "markdown",
   "source": [
    "### Lengths Distribution\n",
    "\n",
    "Also, it is a good practice to gain information about the length of each documents, to know if with our limited resources, it will be difficult to use resource demanding techniques like dense representation of documents using LLM."
   ],
   "id": "d1fb7677f8f71ead"
  },
  {
   "metadata": {
    "ExecuteTime": {
     "end_time": "2024-10-23T08:01:10.381346Z",
     "start_time": "2024-10-23T08:00:47.993963Z"
    }
   },
   "cell_type": "code",
   "source": "corpus.text_length()",
   "id": "4d9728e8a31aabca",
   "outputs": [
    {
     "name": "stderr",
     "output_type": "stream",
     "text": [
      "Splitting the text of each document by words: 100%|██████████| 268022/268022 [00:21<00:00, 12378.71it/s]\n"
     ]
    },
    {
     "data": {
      "text/plain": [
       "<Figure size 640x480 with 1 Axes>"
      ],
      "image/png": "[encoded data removed]"
     },
     "metadata": {},
     "output_type": "display_data"
    },
    {
     "data": {
      "text/plain": [
       "                max  min         mean          std  median  95th_quantile\n",
       "words_number  75804    3  2771.880767  2897.138332  1681.0         8009.0"
      ],
      "text/html": [
       "<div>\n",
       "<style scoped>\n",
       "    .dataframe tbody tr th:only-of-type {\n",
       "        vertical-align: middle;\n",
       "    }\n",
       "\n",
       "    .dataframe tbody tr th {\n",
       "        vertical-align: top;\n",
       "    }\n",
       "\n",
       "    .dataframe thead th {\n",
       "        text-align: right;\n",
       "    }\n",
       "</style>\n",
       "<table border=\"1\" class=\"dataframe\">\n",
       "  <thead>\n",
       "    <tr style=\"text-align: right;\">\n",
       "      <th></th>\n",
       "      <th>max</th>\n",
       "      <th>min</th>\n",
       "      <th>mean</th>\n",
       "      <th>std</th>\n",
       "      <th>median</th>\n",
       "      <th>95th_quantile</th>\n",
       "    </tr>\n",
       "  </thead>\n",
       "  <tbody>\n",
       "    <tr>\n",
       "      <th>words_number</th>\n",
       "      <td>75804</td>\n",
       "      <td>3</td>\n",
       "      <td>2771.880767</td>\n",
       "      <td>2897.138332</td>\n",
       "      <td>1681.0</td>\n",
       "      <td>8009.0</td>\n",
       "    </tr>\n",
       "  </tbody>\n",
       "</table>\n",
       "</div>"
      ]
     },
     "execution_count": 4,
     "metadata": {},
     "output_type": "execute_result"
    }
   ],
   "execution_count": 4
  },
  {
   "metadata": {},
   "cell_type": "markdown",
   "source": "We conclude that from our limited time and resources, we will use only more efficient methods that will be optimized with pre-processing steps of the data and also by fine-tuning their hyperparameters. We then have clean the text in 3 ways possible that we will present here.",
   "id": "b05d842954d021d9"
  },
  {
   "metadata": {},
   "cell_type": "markdown",
   "source": [
    "## Clean Corpus\n",
    "\n",
    "First, all the clean corpora are split by languages. Second, the punctuation have been removed in all the cleaned dataset at the end of each process. "
   ],
   "id": "c5a375b3249bee21"
  },
  {
   "metadata": {},
   "cell_type": "markdown",
   "source": [
    "### LC\n",
    "\n",
    "LC dataset is referring to the Lower Case dataset, meaning all words have been only lower cased."
   ],
   "id": "6a6914101361db8c"
  },
  {
   "metadata": {
    "ExecuteTime": {
     "end_time": "2024-10-23T08:01:51.584707Z",
     "start_time": "2024-10-23T08:01:10.450517Z"
    }
   },
   "cell_type": "code",
   "source": [
    "clean_data = CleanCorpusAnalysis(\n",
    "    root_clean_corpus_path=\"clean_data/lc\"\n",
    ")"
   ],
   "id": "68b9bef1a2f2f0b8",
   "outputs": [
    {
     "name": "stdout",
     "output_type": "stream",
     "text": [
      "Loading clean corpus...\n",
      "Done.\n"
     ]
    }
   ],
   "execution_count": 5
  },
  {
   "metadata": {
    "ExecuteTime": {
     "end_time": "2024-10-23T08:02:17.645796Z",
     "start_time": "2024-10-23T08:01:51.949223Z"
    }
   },
   "cell_type": "code",
   "source": "clean_data.docs_stats()",
   "id": "7d6e4aaead10001c",
   "outputs": [
    {
     "data": {
      "text/plain": [
       "  lang  num_docs  max_words  min_words   mean_words  median_words  \\\n",
       "0   de     10992      46895          3  4481.650382        4312.5   \n",
       "1   en    207363      67765         59  2198.618857        1501.0   \n",
       "2   it     11250      50011        456  5562.456711        5040.5   \n",
       "3   es     11019      75802        301  5686.605227        5294.0   \n",
       "4   ar      8829      47040        300  4636.968966        4209.0   \n",
       "5   ko      7893      37749        216  2810.978842        2646.0   \n",
       "6   fr     10676      71296        319  5769.570532        5033.0   \n",
       "\n",
       "   95th_quantile_words  \n",
       "0             11065.45  \n",
       "1              5986.00  \n",
       "2             12199.05  \n",
       "3             12624.30  \n",
       "4             11715.00  \n",
       "5              6995.80  \n",
       "6             13985.25  "
      ],
      "text/html": [
       "<div>\n",
       "<style scoped>\n",
       "    .dataframe tbody tr th:only-of-type {\n",
       "        vertical-align: middle;\n",
       "    }\n",
       "\n",
       "    .dataframe tbody tr th {\n",
       "        vertical-align: top;\n",
       "    }\n",
       "\n",
       "    .dataframe thead th {\n",
       "        text-align: right;\n",
       "    }\n",
       "</style>\n",
       "<table border=\"1\" class=\"dataframe\">\n",
       "  <thead>\n",
       "    <tr style=\"text-align: right;\">\n",
       "      <th></th>\n",
       "      <th>lang</th>\n",
       "      <th>num_docs</th>\n",
       "      <th>max_words</th>\n",
       "      <th>min_words</th>\n",
       "      <th>mean_words</th>\n",
       "      <th>median_words</th>\n",
       "      <th>95th_quantile_words</th>\n",
       "    </tr>\n",
       "  </thead>\n",
       "  <tbody>\n",
       "    <tr>\n",
       "      <th>0</th>\n",
       "      <td>de</td>\n",
       "      <td>10992</td>\n",
       "      <td>46895</td>\n",
       "      <td>3</td>\n",
       "      <td>4481.650382</td>\n",
       "      <td>4312.5</td>\n",
       "      <td>11065.45</td>\n",
       "    </tr>\n",
       "    <tr>\n",
       "      <th>1</th>\n",
       "      <td>en</td>\n",
       "      <td>207363</td>\n",
       "      <td>67765</td>\n",
       "      <td>59</td>\n",
       "      <td>2198.618857</td>\n",
       "      <td>1501.0</td>\n",
       "      <td>5986.00</td>\n",
       "    </tr>\n",
       "    <tr>\n",
       "      <th>2</th>\n",
       "      <td>it</td>\n",
       "      <td>11250</td>\n",
       "      <td>50011</td>\n",
       "      <td>456</td>\n",
       "      <td>5562.456711</td>\n",
       "      <td>5040.5</td>\n",
       "      <td>12199.05</td>\n",
       "    </tr>\n",
       "    <tr>\n",
       "      <th>3</th>\n",
       "      <td>es</td>\n",
       "      <td>11019</td>\n",
       "      <td>75802</td>\n",
       "      <td>301</td>\n",
       "      <td>5686.605227</td>\n",
       "      <td>5294.0</td>\n",
       "      <td>12624.30</td>\n",
       "    </tr>\n",
       "    <tr>\n",
       "      <th>4</th>\n",
       "      <td>ar</td>\n",
       "      <td>8829</td>\n",
       "      <td>47040</td>\n",
       "      <td>300</td>\n",
       "      <td>4636.968966</td>\n",
       "      <td>4209.0</td>\n",
       "      <td>11715.00</td>\n",
       "    </tr>\n",
       "    <tr>\n",
       "      <th>5</th>\n",
       "      <td>ko</td>\n",
       "      <td>7893</td>\n",
       "      <td>37749</td>\n",
       "      <td>216</td>\n",
       "      <td>2810.978842</td>\n",
       "      <td>2646.0</td>\n",
       "      <td>6995.80</td>\n",
       "    </tr>\n",
       "    <tr>\n",
       "      <th>6</th>\n",
       "      <td>fr</td>\n",
       "      <td>10676</td>\n",
       "      <td>71296</td>\n",
       "      <td>319</td>\n",
       "      <td>5769.570532</td>\n",
       "      <td>5033.0</td>\n",
       "      <td>13985.25</td>\n",
       "    </tr>\n",
       "  </tbody>\n",
       "</table>\n",
       "</div>"
      ]
     },
     "execution_count": 6,
     "metadata": {},
     "output_type": "execute_result"
    }
   ],
   "execution_count": 6
  },
  {
   "metadata": {
    "ExecuteTime": {
     "end_time": "2024-10-23T08:02:17.717853Z",
     "start_time": "2024-10-23T08:02:17.702082Z"
    }
   },
   "cell_type": "code",
   "source": "clean_data.show_docs()",
   "id": "300348bf02257e8d",
   "outputs": [
    {
     "name": "stdout",
     "output_type": "stream",
     "text": [
      "--------------------------------------------------\n",
      "Current state of documents (first 500 characters):\n",
      "--------------------------------------------------\n",
      "\n",
      "Language: de\n",
      "Docid: doc-de-9933\n",
      "--------------------------------------------------\n",
      "Text: \n",
      "artikelnummer 125455rosendahl grand cru thermotasse 35 cl   kundenbewertungenaline rossleben5 von 5 sterne 06.04.2016 aline h. rosendahl grand cru thermotasse 35 clhandlich schönes material einfach zu reinigen liegt gut in der hand der preis ist super würde es immer wieder weiter empfehlen .war diese bewertung für sie hilfreich janein\n",
      "\n",
      "Language: en\n",
      "Docid: doc-en-9633\n",
      "--------------------------------------------------\n",
      "Text: \n",
      "mars hill church was a christian megachurch founded by mark driscoll lief moi and mike gunn it was a multi site church based in seattle washington and grew from a home bible study to 15 locations in 4 u.s states services were offered at its 15 locations the church also podcast content of weekend services and of conferences on the internet with more than 260,000 sermon views online every week in 2013 mars hill had a membership of 6,489 and average weekly attendance of 12,329 following controversy\n",
      "\n",
      "Language: it\n",
      "Docid: doc-it-632\n",
      "--------------------------------------------------\n",
      "Text: \n",
      "dal 1982 al 1994 ha fatto parte del trio con massimo lopez e anna marchesini eccezionalmente ricostituitosi per l' ultima volta nel 2008 in occasione dello spettacolo televisivo non esiste più la mezza stagione che ricordava i venticinque anni dalla fondazione del gruppo   biografia   a 17 anni frequenta la scuola di teatro del teatro stabile di genova dove conosce massimo lopez esordisce in teatro nel 1970 in madre coraggio e i suoi figli di bertolt brecht con lo stabile di genova con lo stabi\n",
      "\n",
      "Language: es\n",
      "Docid: doc-es-214\n",
      "--------------------------------------------------\n",
      "Text: \n",
      "beautiful boy siempre serás mi hijo   argumento   la película narra la adicción a la metanfetamina y la recuperación a través de los ojos de un padre steve carell que ve a su hijo nic timothée chalamet mientras lucha contra la adicción   producción   en 2008 se anunció que paramount pictures y plan b entertainment habían adquirido los derechos de los libros beautiful boy a father's journey through his son's addiction por david sheff y tweak growing up on methamphetamines por su hijo nic shef\n",
      "\n",
      "Language: ar\n",
      "Docid: doc-ar-2770\n",
      "--------------------------------------------------\n",
      "Text: \n",
      "دو أو شركة الإمارات للاتصالات المتكاملة هي شركة اتصالات في دولة الإمارات العربية المتحدة وقد حصلت على رخصة تشغيل خدمات الاتصالات في الدولة في 12 فبراير 2006 وقد ر مز لها بداية بأول أحرف اسم الشركة القانوني eitc قبل أن يتم تغيير اسم العلامة التجارية إلى ما هو عليه حاليا دو أو كما يستخدم في الشعار باللغة الإنجليزية du وتعد الشركة مزود اتصالات رباعي يقدم خدمات الهاتف المتحرك الموبايل والانترنت البرودباند والتلفزيون المدفوع والهاتف الثابت في الإمارات وتعرف الشركة باهتمامها بالفعاليات الفنية والثقافي\n",
      "\n",
      "Language: ko\n",
      "Docid: doc-ko-589\n",
      "--------------------------------------------------\n",
      "Text: \n",
      "강감찬 姜邯贊 또는 姜邯瓚 948년 음력 11월 19일 1031년 음력 8월 20일 은 고려의 문관이다 본관은 금주이다 983년 성종 3 과거에 장원급제하여 예부시랑 한림학사를 거쳐 문하평장사가 되었다 요나라의 3차 침입을 격퇴하였고 천수현개국남 天水縣開國男 에 봉해졌다 1030년 정종 21 에 문하시중에 이르렀다 현종의 묘정 廟廷 에 배향되고 문종 文宗 때 수태사 守太師 겸 중서령 中書令 에 추증되었다 시호는 인헌 仁憲 이다 생애 생애 초 강감찬은 948년 12월 22일 음력 11월 19일 에 삼한벽상공신 三韓壁上功臣 강궁진의 아들로 금주 지금의 서울특별시 관악구 낙성대 근처 에서 태어났고 어릴적 이름은 은천 殷川 이지만 역사적으로는 강감찬으로 남았다 5대조인 강여청 姜餘淸 이 시흥군 始興郡 으로 이주하여 금주 衿州 의 호족이 되었다 983년 성종 3 과거에 장원으로 급제하여 예부시랑이 되었다 거란의 1차 침공 993년 요나라 거란 의 성종은 송나라와 고려 사이의 친선 관계를 차단\n",
      "\n",
      "Language: fr\n",
      "Docid: doc-fr-1447\n",
      "--------------------------------------------------\n",
      "Text: \n",
      "la production de café au costa rica représente en 2016 environ 1,2 de la production mondiale de café ce qui fait le   grand producteur du monde derrière la côte d' ivoire   particularités   les grains de café du costa rica sont considérés comme parmi les meilleurs dans le monde tarrazú est pensé pour produire la plus désirable des grains de café au costa rica en 2012 le café de tarrazú est devenu le plus cher des cafés vendus par starbucks dans 48 de leurs magasins aux états-unis   histoire  \n",
      "\n"
     ]
    }
   ],
   "execution_count": 7
  },
  {
   "metadata": {},
   "cell_type": "markdown",
   "source": [
    "### LC-SW\n",
    "\n",
    "Basically the same dataset as before but without any stopwords in it.\n",
    "\n",
    "***Note:*** *Korean text still have their stop words in it, since no Korean stop words list have been found with sufficiently confidence in its content.*"
   ],
   "id": "dbe6c4a71a963824"
  },
  {
   "metadata": {
    "ExecuteTime": {
     "end_time": "2024-10-23T08:02:53.234076Z",
     "start_time": "2024-10-23T08:02:17.750317Z"
    }
   },
   "cell_type": "code",
   "source": [
    "clean_data = CleanCorpusAnalysis(\n",
    "    root_clean_corpus_path=\"clean_data/lc_sw\"\n",
    ")"
   ],
   "id": "cf0362d678e1e026",
   "outputs": [
    {
     "name": "stdout",
     "output_type": "stream",
     "text": [
      "Loading clean corpus...\n",
      "Done.\n"
     ]
    }
   ],
   "execution_count": 8
  },
  {
   "metadata": {
    "ExecuteTime": {
     "end_time": "2024-10-23T08:03:08.544393Z",
     "start_time": "2024-10-23T08:02:53.287332Z"
    }
   },
   "cell_type": "code",
   "source": "clean_data.docs_stats()",
   "id": "c323d7dbdc618179",
   "outputs": [
    {
     "data": {
      "text/plain": [
       "  lang  num_docs  max_words  min_words   mean_words  median_words  \\\n",
       "0   de     10992      46839          2  2808.098799        2514.0   \n",
       "1   en    207363      46790         54  1319.304645         895.0   \n",
       "2   it     11250      27863        281  3157.341156        2861.0   \n",
       "3   es     11019      36805        197  2759.742899        2569.0   \n",
       "4   ar      8829      37216        205  3585.059237        3236.0   \n",
       "5   ko      7893      35738        183  2700.349677        2511.0   \n",
       "6   fr     10676      36352        233  3015.331210        2659.0   \n",
       "\n",
       "   95th_quantile_words  \n",
       "0               7354.5  \n",
       "1               3535.0  \n",
       "2               6823.1  \n",
       "3               6116.2  \n",
       "4               9329.4  \n",
       "5               6702.8  \n",
       "6               7096.5  "
      ],
      "text/html": [
       "<div>\n",
       "<style scoped>\n",
       "    .dataframe tbody tr th:only-of-type {\n",
       "        vertical-align: middle;\n",
       "    }\n",
       "\n",
       "    .dataframe tbody tr th {\n",
       "        vertical-align: top;\n",
       "    }\n",
       "\n",
       "    .dataframe thead th {\n",
       "        text-align: right;\n",
       "    }\n",
       "</style>\n",
       "<table border=\"1\" class=\"dataframe\">\n",
       "  <thead>\n",
       "    <tr style=\"text-align: right;\">\n",
       "      <th></th>\n",
       "      <th>lang</th>\n",
       "      <th>num_docs</th>\n",
       "      <th>max_words</th>\n",
       "      <th>min_words</th>\n",
       "      <th>mean_words</th>\n",
       "      <th>median_words</th>\n",
       "      <th>95th_quantile_words</th>\n",
       "    </tr>\n",
       "  </thead>\n",
       "  <tbody>\n",
       "    <tr>\n",
       "      <th>0</th>\n",
       "      <td>de</td>\n",
       "      <td>10992</td>\n",
       "      <td>46839</td>\n",
       "      <td>2</td>\n",
       "      <td>2808.098799</td>\n",
       "      <td>2514.0</td>\n",
       "      <td>7354.5</td>\n",
       "    </tr>\n",
       "    <tr>\n",
       "      <th>1</th>\n",
       "      <td>en</td>\n",
       "      <td>207363</td>\n",
       "      <td>46790</td>\n",
       "      <td>54</td>\n",
       "      <td>1319.304645</td>\n",
       "      <td>895.0</td>\n",
       "      <td>3535.0</td>\n",
       "    </tr>\n",
       "    <tr>\n",
       "      <th>2</th>\n",
       "      <td>it</td>\n",
       "      <td>11250</td>\n",
       "      <td>27863</td>\n",
       "      <td>281</td>\n",
       "      <td>3157.341156</td>\n",
       "      <td>2861.0</td>\n",
       "      <td>6823.1</td>\n",
       "    </tr>\n",
       "    <tr>\n",
       "      <th>3</th>\n",
       "      <td>es</td>\n",
       "      <td>11019</td>\n",
       "      <td>36805</td>\n",
       "      <td>197</td>\n",
       "      <td>2759.742899</td>\n",
       "      <td>2569.0</td>\n",
       "      <td>6116.2</td>\n",
       "    </tr>\n",
       "    <tr>\n",
       "      <th>4</th>\n",
       "      <td>ar</td>\n",
       "      <td>8829</td>\n",
       "      <td>37216</td>\n",
       "      <td>205</td>\n",
       "      <td>3585.059237</td>\n",
       "      <td>3236.0</td>\n",
       "      <td>9329.4</td>\n",
       "    </tr>\n",
       "    <tr>\n",
       "      <th>5</th>\n",
       "      <td>ko</td>\n",
       "      <td>7893</td>\n",
       "      <td>35738</td>\n",
       "      <td>183</td>\n",
       "      <td>2700.349677</td>\n",
       "      <td>2511.0</td>\n",
       "      <td>6702.8</td>\n",
       "    </tr>\n",
       "    <tr>\n",
       "      <th>6</th>\n",
       "      <td>fr</td>\n",
       "      <td>10676</td>\n",
       "      <td>36352</td>\n",
       "      <td>233</td>\n",
       "      <td>3015.331210</td>\n",
       "      <td>2659.0</td>\n",
       "      <td>7096.5</td>\n",
       "    </tr>\n",
       "  </tbody>\n",
       "</table>\n",
       "</div>"
      ]
     },
     "execution_count": 9,
     "metadata": {},
     "output_type": "execute_result"
    }
   ],
   "execution_count": 9
  },
  {
   "metadata": {
    "ExecuteTime": {
     "end_time": "2024-10-23T08:03:08.568503Z",
     "start_time": "2024-10-23T08:03:08.564493Z"
    }
   },
   "cell_type": "code",
   "source": "clean_data.show_docs()",
   "id": "e34cd83d0c431f3b",
   "outputs": [
    {
     "name": "stdout",
     "output_type": "stream",
     "text": [
      "--------------------------------------------------\n",
      "Current state of documents (first 500 characters):\n",
      "--------------------------------------------------\n",
      "\n",
      "Language: de\n",
      "Docid: doc-de-9933\n",
      "--------------------------------------------------\n",
      "Text: \n",
      "artikelnummer 125455rosendahl grand cru thermotasse 35 cl   kundenbewertungenaline rossleben5 5 sterne 06.04.2016 aline h. rosendahl grand cru thermotasse 35 clhandlich schönes material einfach reinigen liegt hand preis super empfehlen .war bewertung hilfreich janein\n",
      "\n",
      "Language: en\n",
      "Docid: doc-en-9633\n",
      "--------------------------------------------------\n",
      "Text: \n",
      "mars hill church christian megachurch founded mark driscoll lief moi mike gunn multi site church based seattle washington grew home bible study 15 locations 4 u.s states services offered 15 locations church podcast content weekend services conferences internet 260,000 sermon views online week 2013 mars hill membership 6,489 average weekly attendance 12,329 following controversy 2014 involving founding pastor mark driscoll attendance dropped 8,0009,000 people week   end september 2014 investigat\n",
      "\n",
      "Language: it\n",
      "Docid: doc-it-632\n",
      "--------------------------------------------------\n",
      "Text: \n",
      "1982 1994 trio massimo lopez anna marchesini eccezionalmente ricostituitosi ultima 2008 occasione spettacolo televisivo esiste mezza stagione ricordava i venticinque fondazione   biografia   17 frequenta scuola teatro teatro stabile genova conosce massimo lopez esordisce teatro 1970 madre coraggio i figli bertolt brecht stabile genova stabile lavora 7 stagioni esordisce televisione pippo baudo 1976 1977 refettorio milano prende spettacolo cabaret beppe grillo 1979 rai programma luna park condot\n",
      "\n",
      "Language: es\n",
      "Docid: doc-es-214\n",
      "--------------------------------------------------\n",
      "Text: \n",
      "beautiful boy serás hijo   argumento   película narra adicción metanfetamina recuperación ojos padre steve carell ve hijo nic timothée chalamet lucha adicción   producción   2008 anunció paramount pictures plan b entertainment adquirido derechos libros beautiful boy father's journey through his son's addiction david sheff tweak growing up on methamphetamines hijo nic sheff estudio productores anunciaban utilizarían libros recientemente publicados adaptar película adicción drogas perspectiva \n",
      "\n",
      "Language: ar\n",
      "Docid: doc-ar-2770\n",
      "--------------------------------------------------\n",
      "Text: \n",
      "دو شركة الإمارات للاتصالات المتكاملة شركة اتصالات دولة الإمارات العربية المتحدة وقد حصلت رخصة تشغيل خدمات الاتصالات الدولة 12 2006 وقد مز بداية بأول أحرف اسم الشركة القانوني eitc يتم تغيير اسم العلامة التجارية حاليا دو يستخدم الشعار باللغة الإنجليزية du وتعد الشركة مزود اتصالات رباعي يقدم خدمات الهاتف المتحرك الموبايل والانترنت البرودباند والتلفزيون المدفوع والهاتف الثابت الإمارات وتعرف الشركة باهتمامها بالفعاليات الفنية والثقافية والريادية الإمارات وبكونها أوائل الشركات الإماراتية التزاما بالتو\n",
      "\n",
      "Language: ko\n",
      "Docid: doc-ko-589\n",
      "--------------------------------------------------\n",
      "Text: \n",
      "강감찬(姜邯贊 또는 姜邯瓚, 948년 음력 11월 19일 ~ 1031년 음력 8월 20일)은 고려의 문관이다. 본관은 금주이다. 983년(성종 3) 과거에 장원급제하여 예부시랑, 한림학사를 거쳐 문하평장사가 되었다. 요나라의 3차 침입을 격퇴하였고, 천수현개국남(天水縣開國男)에 봉해졌다. 1030년(정종 21)에 문하시중에 이르렀다. 현종의 묘정(廟廷)에 배향되고 문종(文宗) 때 수태사(守太師) 겸 중서령(中書令)에 추증되었다. 시호는 인헌(仁憲)이다. 생애 생애 초  강감찬은 948년 12월 22일(음력 11월 19일)에 삼한벽상공신(三韓壁上功臣) 강궁진의 아들로 금주(지금의 서울특별시 관악구 낙성대 근처)에서 태어났고. 어릴적 이름은 은천(殷川)이지만 역사적으로는 강감찬으로 남았다 5대조인 강여청(姜餘淸)이 시흥군(始興郡)으로 이주하여 금주(衿州)의 호족이 되었다. 983년(성종 3) 과거에 장원으로 급제하여 예부시랑이 되었다. 거란의 1차 침공  993년 요나라(거란)\n",
      "\n",
      "Language: fr\n",
      "Docid: doc-fr-1447\n",
      "--------------------------------------------------\n",
      "Text: \n",
      "production café costa rica représente 2016 1,2 production mondiale café   grand producteur monde côte ivoire   particularités   grains café costa rica considérés meilleurs monde tarrazú pensé produire désirable grains café costa rica 2012 café tarrazú devenu cher cafés vendus starbucks 48 magasins états-unis   histoire   histoire caféiculture costa rica débute période coloniale prend essor années 1820 1830 autorités coloniales prirent premières mesures fiscales visant développer culture caféi\n",
      "\n"
     ]
    }
   ],
   "execution_count": 10
  },
  {
   "metadata": {},
   "cell_type": "markdown",
   "source": [
    "### LC-SW-L\n",
    "\n",
    "Finally, the last clean dataset use lemmatization process at first before lowercasing the text and removing the stop words.\n",
    "\n",
    "***Note:*** *Korean text still have their stop words in it as mentioned before, but also it has not been found a korean lemmatizer, as for arabic text.*"
   ],
   "id": "497d11d0e14cee27"
  },
  {
   "metadata": {
    "ExecuteTime": {
     "end_time": "2024-10-23T08:03:35.379220Z",
     "start_time": "2024-10-23T08:03:08.626171Z"
    }
   },
   "cell_type": "code",
   "source": [
    "clean_data = CleanCorpusAnalysis(\n",
    "    root_clean_corpus_path=\"clean_data/lc_sw_l\"\n",
    ")"
   ],
   "id": "8655d21a257803a0",
   "outputs": [
    {
     "name": "stdout",
     "output_type": "stream",
     "text": [
      "Loading clean corpus...\n",
      "Done.\n"
     ]
    }
   ],
   "execution_count": 11
  },
  {
   "metadata": {
    "ExecuteTime": {
     "end_time": "2024-10-23T08:03:51.288676Z",
     "start_time": "2024-10-23T08:03:35.397739Z"
    }
   },
   "cell_type": "code",
   "source": "clean_data.docs_stats()",
   "id": "cdf850d73476303c",
   "outputs": [
    {
     "data": {
      "text/plain": [
       "  lang  num_docs  max_words  min_words   mean_words  median_words  \\\n",
       "0   de     10992      46840          2  2813.184134        2518.0   \n",
       "1   en    207363      46796         54  1319.532732         896.0   \n",
       "2   it     11250      27700        282  3188.242756        2888.5   \n",
       "3   es     11019      36957        197  2778.463744        2586.0   \n",
       "4   ar      8829      45428        293  4563.532676        4125.0   \n",
       "5   ko      7893      35738        183  2700.349677        2511.0   \n",
       "6   fr     10676      36353        233  3015.745036        2659.0   \n",
       "\n",
       "   95th_quantile_words  \n",
       "0              7366.00  \n",
       "1              3536.00  \n",
       "2              6880.20  \n",
       "3              6160.30  \n",
       "4             11775.40  \n",
       "5              6702.80  \n",
       "6              7097.25  "
      ],
      "text/html": [
       "<div>\n",
       "<style scoped>\n",
       "    .dataframe tbody tr th:only-of-type {\n",
       "        vertical-align: middle;\n",
       "    }\n",
       "\n",
       "    .dataframe tbody tr th {\n",
       "        vertical-align: top;\n",
       "    }\n",
       "\n",
       "    .dataframe thead th {\n",
       "        text-align: right;\n",
       "    }\n",
       "</style>\n",
       "<table border=\"1\" class=\"dataframe\">\n",
       "  <thead>\n",
       "    <tr style=\"text-align: right;\">\n",
       "      <th></th>\n",
       "      <th>lang</th>\n",
       "      <th>num_docs</th>\n",
       "      <th>max_words</th>\n",
       "      <th>min_words</th>\n",
       "      <th>mean_words</th>\n",
       "      <th>median_words</th>\n",
       "      <th>95th_quantile_words</th>\n",
       "    </tr>\n",
       "  </thead>\n",
       "  <tbody>\n",
       "    <tr>\n",
       "      <th>0</th>\n",
       "      <td>de</td>\n",
       "      <td>10992</td>\n",
       "      <td>46840</td>\n",
       "      <td>2</td>\n",
       "      <td>2813.184134</td>\n",
       "      <td>2518.0</td>\n",
       "      <td>7366.00</td>\n",
       "    </tr>\n",
       "    <tr>\n",
       "      <th>1</th>\n",
       "      <td>en</td>\n",
       "      <td>207363</td>\n",
       "      <td>46796</td>\n",
       "      <td>54</td>\n",
       "      <td>1319.532732</td>\n",
       "      <td>896.0</td>\n",
       "      <td>3536.00</td>\n",
       "    </tr>\n",
       "    <tr>\n",
       "      <th>2</th>\n",
       "      <td>it</td>\n",
       "      <td>11250</td>\n",
       "      <td>27700</td>\n",
       "      <td>282</td>\n",
       "      <td>3188.242756</td>\n",
       "      <td>2888.5</td>\n",
       "      <td>6880.20</td>\n",
       "    </tr>\n",
       "    <tr>\n",
       "      <th>3</th>\n",
       "      <td>es</td>\n",
       "      <td>11019</td>\n",
       "      <td>36957</td>\n",
       "      <td>197</td>\n",
       "      <td>2778.463744</td>\n",
       "      <td>2586.0</td>\n",
       "      <td>6160.30</td>\n",
       "    </tr>\n",
       "    <tr>\n",
       "      <th>4</th>\n",
       "      <td>ar</td>\n",
       "      <td>8829</td>\n",
       "      <td>45428</td>\n",
       "      <td>293</td>\n",
       "      <td>4563.532676</td>\n",
       "      <td>4125.0</td>\n",
       "      <td>11775.40</td>\n",
       "    </tr>\n",
       "    <tr>\n",
       "      <th>5</th>\n",
       "      <td>ko</td>\n",
       "      <td>7893</td>\n",
       "      <td>35738</td>\n",
       "      <td>183</td>\n",
       "      <td>2700.349677</td>\n",
       "      <td>2511.0</td>\n",
       "      <td>6702.80</td>\n",
       "    </tr>\n",
       "    <tr>\n",
       "      <th>6</th>\n",
       "      <td>fr</td>\n",
       "      <td>10676</td>\n",
       "      <td>36353</td>\n",
       "      <td>233</td>\n",
       "      <td>3015.745036</td>\n",
       "      <td>2659.0</td>\n",
       "      <td>7097.25</td>\n",
       "    </tr>\n",
       "  </tbody>\n",
       "</table>\n",
       "</div>"
      ]
     },
     "execution_count": 12,
     "metadata": {},
     "output_type": "execute_result"
    }
   ],
   "execution_count": 12
  },
  {
   "metadata": {
    "ExecuteTime": {
     "end_time": "2024-10-23T08:03:51.355521Z",
     "start_time": "2024-10-23T08:03:51.344890Z"
    }
   },
   "cell_type": "code",
   "source": "clean_data.show_docs()",
   "id": "37bd2b103d48613e",
   "outputs": [
    {
     "name": "stdout",
     "output_type": "stream",
     "text": [
      "--------------------------------------------------\n",
      "Current state of documents (first 500 characters):\n",
      "--------------------------------------------------\n",
      "\n",
      "Language: de\n",
      "Docid: doc-de-9933\n",
      "--------------------------------------------------\n",
      "Text: \n",
      "artikelnummer 125455rosendahl grand cru thermotasse 35 cl   kundenbewertungenaline rossleben5 5 stern 06.04.2016 aline h. rosendahl grand cru thermotas 35 clhandlich schön material einfach reinigen liegt hand preis super empfehl .war bewertung hilfreich janein\n",
      "\n",
      "Language: en\n",
      "Docid: doc-en-9633\n",
      "--------------------------------------------------\n",
      "Text: \n",
      "mars hill church christian megachurch found mark driscoll lief moi mike gunn multi site church base seattle washington grow home bible study 15 location 4 u.s. state service offer 15 location church podcast content weekend service conference internet 260,000 sermon view online week 2013 mars hill membership 6,489 average weekly attendance 12,329 follow controversy 2014 involve found pastor mark driscoll attendance drop 8,0009,000 people week   end september 2014 investigation church elder find \n",
      "\n",
      "Language: it\n",
      "Docid: doc-it-632\n",
      "--------------------------------------------------\n",
      "Text: \n",
      "1982 1994 trio massimo lopez anna marchesini eccezionalmente ricostituitosi ultimo 2008 occasione spettacolo televisivo esistere mezzo stagione ricordare il venticinque fondazione   biografia   17 frequentare scuola teatro teatro stabile genova conoscere massimo lopez esordisce teatro 1970 madre coraggio il figlio bertolt brecht stabile genova stabile lavorare 7 stagione esordisce televisione pippo baudo 1976 1977 refettorio milano prendere spettacolo cabaret beppe grillo 1979 rai programma lun\n",
      "\n",
      "Language: es\n",
      "Docid: doc-es-214\n",
      "--------------------------------------------------\n",
      "Text: \n",
      "beautiful boy serás hijo   argumento   película narrar adicción metanfetamina recuperación ojo padre steve carell ver hijo nic timothée chalamet luchar adicción   producción   2008 anunciar paramount pictures plan b entertainment adquirir derecho libro beautiful boy father's journey through his son's addiction david sheff tweak growing up on methamphetamines hijo nic sheff estudio productor anunciar utilizarir libro recientemente publicado adaptar película adicción droga perspectiva joven ad\n",
      "\n",
      "Language: ar\n",
      "Docid: doc-ar-2770\n",
      "--------------------------------------------------\n",
      "Text: \n",
      "دو  أو شركة الإمارات للاتصالات المتكاملة  هي شركة اتصالات في دولة الإمارات العربية المتحدة، وقد حصلت على رخصة تشغيل خدمات الاتصالات في الدولة في 12 فبراير 2006. وقد رُمز لها بدايةً بأول أحرف اسم الشركة القانوني EITC قبل أن يتم تغيير اسم العلامة التجارية إلى ما هو عليه حاليا «دو» أو كما يستخدم في الشعار باللغة الإنجليزية du. وتعد الشركة مزود اتصالات رباعي يقدم خدمات الهاتف المتحرك (الموبايل) والانترنت البرودباند والتلفزيون المدفوع والهاتف الثابت في الإمارات. وتعرف الشركة باهتمامها بالفعاليات الفن\n",
      "\n",
      "Language: ko\n",
      "Docid: doc-ko-589\n",
      "--------------------------------------------------\n",
      "Text: \n",
      "강감찬(姜邯贊 또는 姜邯瓚, 948년 음력 11월 19일 ~ 1031년 음력 8월 20일)은 고려의 문관이다. 본관은 금주이다. 983년(성종 3) 과거에 장원급제하여 예부시랑, 한림학사를 거쳐 문하평장사가 되었다. 요나라의 3차 침입을 격퇴하였고, 천수현개국남(天水縣開國男)에 봉해졌다. 1030년(정종 21)에 문하시중에 이르렀다. 현종의 묘정(廟廷)에 배향되고 문종(文宗) 때 수태사(守太師) 겸 중서령(中書令)에 추증되었다. 시호는 인헌(仁憲)이다. 생애 생애 초  강감찬은 948년 12월 22일(음력 11월 19일)에 삼한벽상공신(三韓壁上功臣) 강궁진의 아들로 금주(지금의 서울특별시 관악구 낙성대 근처)에서 태어났고. 어릴적 이름은 은천(殷川)이지만 역사적으로는 강감찬으로 남았다 5대조인 강여청(姜餘淸)이 시흥군(始興郡)으로 이주하여 금주(衿州)의 호족이 되었다. 983년(성종 3) 과거에 장원으로 급제하여 예부시랑이 되었다. 거란의 1차 침공  993년 요나라(거란)\n",
      "\n",
      "Language: fr\n",
      "Docid: doc-fr-1447\n",
      "--------------------------------------------------\n",
      "Text: \n",
      "production café costa rica représenter 2016 1,2 production mondial café   grand producteur monde côte ivoire   particularités   grain café costa rica considérer meilleur monde tarrazú penser produire désirable grain café costa rica 2012 café tarrazú devenir cher café vendre starbucks 48 magasin états-unis   histoire   histoire caféiculture costa rica débuter période colonial prendre essor année 1820 1830 autorité colonial prendre première mesure fiscal viser développer culture caféier indépen\n",
      "\n"
     ]
    }
   ],
   "execution_count": 13
  }
 ],
 "metadata": {
  "kernelspec": {
   "display_name": "Python 3",
   "language": "python",
   "name": "python3"
  },
  "language_info": {
   "codemirror_mode": {
    "name": "ipython",
    "version": 2
   },
   "file_extension": ".py",
   "mimetype": "text/x-python",
   "name": "python",
   "nbconvert_exporter": "python",
   "pygments_lexer": "ipython2",
   "version": "2.7.6"
  }
 },
 "nbformat": 4,
 "nbformat_minor": 5
}

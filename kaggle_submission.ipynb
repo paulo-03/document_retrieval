{
 "cells": [
  {
   "metadata": {},
   "cell_type": "markdown",
   "source": "# Submission notebook for Kaggle",
   "id": "2bd3121b693443ad"
  },
  {
   "metadata": {},
   "cell_type": "markdown",
   "source": "## Packages required",
   "id": "2eed4fe379d4d052"
  },
  {
   "metadata": {},
   "cell_type": "code",
   "outputs": [],
   "execution_count": null,
   "source": "!pip install numpy pandas spacy nltk tqdm scipy ",
   "id": "133a4f51f761eed5"
  },
  {
   "metadata": {},
   "cell_type": "markdown",
   "source": "## Imports",
   "id": "c09afb89d4e8f7f4"
  },
  {
   "metadata": {
    "ExecuteTime": {
     "end_time": "2024-10-16T17:16:53.446165Z",
     "start_time": "2024-10-16T17:16:52.675333Z"
    }
   },
   "cell_type": "code",
   "source": [
    "from data_helpers import QueryClean\n",
    "from models.BM25s.bm25s import BM25sRetriever\n",
    "import pandas as pd"
   ],
   "id": "9a029c782c7e42ea",
   "outputs": [],
   "execution_count": 1
  },
  {
   "metadata": {},
   "cell_type": "markdown",
   "source": "## Parameters",
   "id": "ecc0c6bf8b0dce66"
  },
  {
   "metadata": {},
   "cell_type": "code",
   "outputs": [],
   "execution_count": null,
   "source": [
    "test_output_path = '/kaggle/temp/test_submission.csv'\n",
    "submission_output_path = '/kaggle/working/submission.csv'\n",
    "\n",
    "processing_wanted='lc',  # 'lc', 'lc_sw' or 'lc_sw_l'\n",
    "k1=1.6"
   ],
   "id": "3973d46c6378c40c"
  },
  {
   "metadata": {},
   "cell_type": "markdown",
   "source": "## Query Preprocessing",
   "id": "66eb7f20dc1e7349"
  },
  {
   "metadata": {},
   "cell_type": "code",
   "outputs": [],
   "execution_count": null,
   "source": [
    "query = QueryClean(\n",
    "        queries_path=f'/kaggle/input/dis-project-1-document-retrieval/test.csv',\n",
    "        processing_wanted=processing_wanted,\n",
    "        show_progress=False\n",
    "    )\n",
    "\n",
    "# Perform the pre-processing step chosen\n",
    "langs = query.pre_process()"
   ],
   "id": "cef942448bfdb202"
  },
  {
   "metadata": {},
   "cell_type": "markdown",
   "source": "## Model BM25 initialization and document retrieval",
   "id": "d09e368336dbfb56"
  },
  {
   "metadata": {},
   "cell_type": "code",
   "source": [
    "# Initiate the list to stack all the matches per language in one .csv file\n",
    "match_per_lang = []\n",
    "\n",
    "# For each lang, initialize the corresponding BM25Retriever and compute the queries matching\n",
    "for lang in langs:\n",
    "    bm25s = BM25sRetriever(queries_df=query.data_clean[lang],\n",
    "                         model_path=f'models/BM25s/bm25s_matrix/{processing_wanted}/k1_{k1}/bm25s_{lang}.pkl', #TODO\n",
    "                         top_k=10)\n",
    "    bm25s.match()\n",
    "    match_per_lang.append(bm25s.matches)"
   ],
   "id": "1c18bbe2b3d2c350",
   "outputs": [],
   "execution_count": null
  },
  {
   "metadata": {},
   "cell_type": "markdown",
   "source": "## Submission.csv output",
   "id": "4952631aa66942be"
  },
  {
   "metadata": {},
   "cell_type": "code",
   "outputs": [],
   "execution_count": null,
   "source": [
    "# Stack all the pd.Series to create a unified pd.Series with all the matches\n",
    "matches = pd.concat(match_per_lang, ignore_index=True)\n",
    "\n",
    "# Output on Kaggle\n",
    "matches.to_csv(test_output_path,\n",
    "               index=True,\n",
    "               index_label='id')"
   ],
   "id": "1327e9c575f31cb6"
  }
 ],
 "metadata": {
  "kernelspec": {
   "display_name": "Python 3",
   "language": "python",
   "name": "python3"
  },
  "language_info": {
   "codemirror_mode": {
    "name": "ipython",
    "version": 2
   },
   "file_extension": ".py",
   "mimetype": "text/x-python",
   "name": "python",
   "nbconvert_exporter": "python",
   "pygments_lexer": "ipython2",
   "version": "2.7.6"
  }
 },
 "nbformat": 4,
 "nbformat_minor": 5
}

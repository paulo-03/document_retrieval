{
 "cells": [
  {
   "metadata": {},
   "cell_type": "markdown",
   "source": [
    "# Data Pre-Processing\n",
    "\n",
    "Jupyter notebook that will contain all our methods and compare them about performance with few metrics.\n",
    "\n",
    "***Author:*** Paulo Ribeiro"
   ],
   "id": "ae2c63841d3d31c4"
  },
  {
   "metadata": {},
   "cell_type": "markdown",
   "source": "## Import ",
   "id": "b1fa188c7cea3ada"
  },
  {
   "metadata": {
    "ExecuteTime": {
     "end_time": "2024-10-14T21:50:52.347869Z",
     "start_time": "2024-10-14T21:50:48.021840Z"
    }
   },
   "cell_type": "code",
   "source": [
    "from data_helpers import CorpusClean\n",
    "import warnings\n",
    "warnings.filterwarnings('ignore')\n",
    "\n",
    "%load_ext autoreload\n",
    "%autoreload 2"
   ],
   "id": "7792b50061ef8a5e",
   "outputs": [],
   "execution_count": 1
  },
  {
   "metadata": {},
   "cell_type": "markdown",
   "source": [
    "## Data\n",
    "\n",
    "First we initiate the corpus loader."
   ],
   "id": "d02715f70be61e97"
  },
  {
   "metadata": {
    "ExecuteTime": {
     "end_time": "2024-10-14T21:51:09.937167Z",
     "start_time": "2024-10-14T21:50:52.354358Z"
    }
   },
   "cell_type": "code",
   "source": [
    "corpus = CorpusClean(\n",
    "    corpus_path=\"data/corpus.json/corpus.json\",\n",
    ")"
   ],
   "id": "8c51e6fc4bb7a5d4",
   "outputs": [
    {
     "name": "stdout",
     "output_type": "stream",
     "text": [
      "Loading corpus... (can take up to 3 minutes)\n",
      "Corpus Loaded ! \n",
      "\n"
     ]
    }
   ],
   "execution_count": 2
  },
  {
   "metadata": {},
   "cell_type": "markdown",
   "source": [
    "## Split by Languages\n",
    "\n",
    "First step is to separate the corpus in function of their languages."
   ],
   "id": "6cacc6d8b204aaef"
  },
  {
   "metadata": {
    "ExecuteTime": {
     "end_time": "2024-10-14T21:51:33.229285Z",
     "start_time": "2024-10-14T21:51:09.965075Z"
    }
   },
   "cell_type": "code",
   "source": "corpus.split_per_lang()",
   "id": "5a314c506ba00939",
   "outputs": [
    {
     "data": {
      "text/plain": [
       "Stats for 'en' docs:   0%|          | 0/207363 [00:00<?, ?it/s]"
      ],
      "application/vnd.jupyter.widget-view+json": {
       "version_major": 2,
       "version_minor": 0,
       "model_id": "31515f5883144567be9ce3b8b066308c"
      }
     },
     "metadata": {},
     "output_type": "display_data"
    },
    {
     "data": {
      "text/plain": [
       "Stats for 'fr' docs:   0%|          | 0/10676 [00:00<?, ?it/s]"
      ],
      "application/vnd.jupyter.widget-view+json": {
       "version_major": 2,
       "version_minor": 0,
       "model_id": "df4865aee6af4459a41e6165a3ec3a2e"
      }
     },
     "metadata": {},
     "output_type": "display_data"
    },
    {
     "data": {
      "text/plain": [
       "Stats for 'de' docs:   0%|          | 0/10992 [00:00<?, ?it/s]"
      ],
      "application/vnd.jupyter.widget-view+json": {
       "version_major": 2,
       "version_minor": 0,
       "model_id": "7fa52bdf30824dd2971e888e81a62817"
      }
     },
     "metadata": {},
     "output_type": "display_data"
    },
    {
     "data": {
      "text/plain": [
       "Stats for 'es' docs:   0%|          | 0/11019 [00:00<?, ?it/s]"
      ],
      "application/vnd.jupyter.widget-view+json": {
       "version_major": 2,
       "version_minor": 0,
       "model_id": "9173956884ca4235a5319d9817335d4a"
      }
     },
     "metadata": {},
     "output_type": "display_data"
    },
    {
     "data": {
      "text/plain": [
       "Stats for 'it' docs:   0%|          | 0/11250 [00:00<?, ?it/s]"
      ],
      "application/vnd.jupyter.widget-view+json": {
       "version_major": 2,
       "version_minor": 0,
       "model_id": "0141a83f991d40eeb2df7342129dd218"
      }
     },
     "metadata": {},
     "output_type": "display_data"
    },
    {
     "data": {
      "text/plain": [
       "Stats for 'ko' docs:   0%|          | 0/7893 [00:00<?, ?it/s]"
      ],
      "application/vnd.jupyter.widget-view+json": {
       "version_major": 2,
       "version_minor": 0,
       "model_id": "7b7a434d66634079baa8d9239c1b0634"
      }
     },
     "metadata": {},
     "output_type": "display_data"
    },
    {
     "data": {
      "text/plain": [
       "Stats for 'ar' docs:   0%|          | 0/8829 [00:00<?, ?it/s]"
      ],
      "application/vnd.jupyter.widget-view+json": {
       "version_major": 2,
       "version_minor": 0,
       "model_id": "11dd2eeb14fd4dc9b4f20d68e7878c9d"
      }
     },
     "metadata": {},
     "output_type": "display_data"
    },
    {
     "data": {
      "text/plain": [
       "  lang  num_docs  max_words  min_words   mean_words  median_words  \\\n",
       "0   en    207363      66333         80  2163.921269        1478.0   \n",
       "1   fr     10676      68896        311  5596.369520        4886.5   \n",
       "2   de     10992      28677          3  4474.812591        4339.0   \n",
       "3   es     11019      75804        294  5689.988021        5298.0   \n",
       "4   it     11250      49172        404  5419.606400        4910.5   \n",
       "5   ko      7893      35738        183  2700.349677        2511.0   \n",
       "6   ar      8829      45428        293  4563.532676        4125.0   \n",
       "\n",
       "   95th_quantile_words  \n",
       "0              5892.00  \n",
       "1             13543.75  \n",
       "2             11067.15  \n",
       "3             12636.70  \n",
       "4             11942.40  \n",
       "5              6702.80  \n",
       "6             11775.40  "
      ],
      "text/html": [
       "<div>\n",
       "<style scoped>\n",
       "    .dataframe tbody tr th:only-of-type {\n",
       "        vertical-align: middle;\n",
       "    }\n",
       "\n",
       "    .dataframe tbody tr th {\n",
       "        vertical-align: top;\n",
       "    }\n",
       "\n",
       "    .dataframe thead th {\n",
       "        text-align: right;\n",
       "    }\n",
       "</style>\n",
       "<table border=\"1\" class=\"dataframe\">\n",
       "  <thead>\n",
       "    <tr style=\"text-align: right;\">\n",
       "      <th></th>\n",
       "      <th>lang</th>\n",
       "      <th>num_docs</th>\n",
       "      <th>max_words</th>\n",
       "      <th>min_words</th>\n",
       "      <th>mean_words</th>\n",
       "      <th>median_words</th>\n",
       "      <th>95th_quantile_words</th>\n",
       "    </tr>\n",
       "  </thead>\n",
       "  <tbody>\n",
       "    <tr>\n",
       "      <th>0</th>\n",
       "      <td>en</td>\n",
       "      <td>207363</td>\n",
       "      <td>66333</td>\n",
       "      <td>80</td>\n",
       "      <td>2163.921269</td>\n",
       "      <td>1478.0</td>\n",
       "      <td>5892.00</td>\n",
       "    </tr>\n",
       "    <tr>\n",
       "      <th>1</th>\n",
       "      <td>fr</td>\n",
       "      <td>10676</td>\n",
       "      <td>68896</td>\n",
       "      <td>311</td>\n",
       "      <td>5596.369520</td>\n",
       "      <td>4886.5</td>\n",
       "      <td>13543.75</td>\n",
       "    </tr>\n",
       "    <tr>\n",
       "      <th>2</th>\n",
       "      <td>de</td>\n",
       "      <td>10992</td>\n",
       "      <td>28677</td>\n",
       "      <td>3</td>\n",
       "      <td>4474.812591</td>\n",
       "      <td>4339.0</td>\n",
       "      <td>11067.15</td>\n",
       "    </tr>\n",
       "    <tr>\n",
       "      <th>3</th>\n",
       "      <td>es</td>\n",
       "      <td>11019</td>\n",
       "      <td>75804</td>\n",
       "      <td>294</td>\n",
       "      <td>5689.988021</td>\n",
       "      <td>5298.0</td>\n",
       "      <td>12636.70</td>\n",
       "    </tr>\n",
       "    <tr>\n",
       "      <th>4</th>\n",
       "      <td>it</td>\n",
       "      <td>11250</td>\n",
       "      <td>49172</td>\n",
       "      <td>404</td>\n",
       "      <td>5419.606400</td>\n",
       "      <td>4910.5</td>\n",
       "      <td>11942.40</td>\n",
       "    </tr>\n",
       "    <tr>\n",
       "      <th>5</th>\n",
       "      <td>ko</td>\n",
       "      <td>7893</td>\n",
       "      <td>35738</td>\n",
       "      <td>183</td>\n",
       "      <td>2700.349677</td>\n",
       "      <td>2511.0</td>\n",
       "      <td>6702.80</td>\n",
       "    </tr>\n",
       "    <tr>\n",
       "      <th>6</th>\n",
       "      <td>ar</td>\n",
       "      <td>8829</td>\n",
       "      <td>45428</td>\n",
       "      <td>293</td>\n",
       "      <td>4563.532676</td>\n",
       "      <td>4125.0</td>\n",
       "      <td>11775.40</td>\n",
       "    </tr>\n",
       "  </tbody>\n",
       "</table>\n",
       "</div>"
      ]
     },
     "execution_count": 3,
     "metadata": {},
     "output_type": "execute_result"
    }
   ],
   "execution_count": 3
  },
  {
   "metadata": {
    "ExecuteTime": {
     "end_time": "2024-10-14T21:51:33.560949Z",
     "start_time": "2024-10-14T21:51:33.547853Z"
    }
   },
   "cell_type": "code",
   "source": "corpus.show_current_docs()",
   "id": "eec885d7a18a3f92",
   "outputs": [
    {
     "name": "stdout",
     "output_type": "stream",
     "text": [
      "--------------------------------------------------\n",
      "Current state of documents (first 300 characters):\n",
      "--------------------------------------------------\n",
      "\n",
      "Language: en\n",
      "Docid: doc-en-9633\n",
      "--------------------------------------------------\n",
      "Text:\n",
      "Mars Hill Church was a Christian megachurch, founded by Mark Driscoll, Lief Moi, and Mike Gunn. It was a multi-site church based in Seattle, Washington and grew from a home Bible study to 15 locations in 4 U.S. states. Services were offered at its 15 locations; the church also podcast content of wee\n",
      "\n",
      "Language: fr\n",
      "Docid: doc-fr-1447\n",
      "--------------------------------------------------\n",
      "Text:\n",
      "La production de café au Costa Rica représente en 2016 environ 1,2 % de la production mondiale de café, ce qui fait le  grand producteur du monde derrière la Côte d'Ivoire.\n",
      "\n",
      "Particularités \n",
      "Les grains de café du Costa Rica, sont considérés comme parmi les meilleurs dans le monde. Tarrazú est pensé p\n",
      "\n",
      "Language: de\n",
      "Docid: doc-de-9933\n",
      "--------------------------------------------------\n",
      "Text:\n",
      "Artikelnummer 125455Rosendahl - Grand Cru Thermotasse, 35 cl\n",
      "KundenbewertungenAline Rossleben5 von 5 Sterne 06.04.2016, Aline H., Rosendahl - Grand Cru Thermotasse, 35 clHandlich schönes Material. Einfach zu reinigen . Liegt gut in der Hand . Der Preis ist super . Würde es immer wieder weiter empfeh\n",
      "\n",
      "Language: es\n",
      "Docid: doc-es-214\n",
      "--------------------------------------------------\n",
      "Text:\n",
      "Beautiful Boy: Siempre serás mi hijo\n",
      "\n",
      "Argumento\n",
      "\n",
      "La película narra la adicción a la metanfetamina y la recuperación a través de los ojos de un padre (Steve Carell) que ve a su hijo Nic (Timothée Chalamet) mientras lucha contra la adicción.\n",
      "\n",
      "Producción\n",
      "\n",
      "En 2008, se anunció que Paramount Pictures y Pl\n",
      "\n",
      "Language: it\n",
      "Docid: doc-it-632\n",
      "--------------------------------------------------\n",
      "Text:\n",
      "Dal 1982 al 1994 ha fatto parte del Trio con Massimo Lopez e Anna Marchesini, eccezionalmente ricostituitosi per l'ultima volta nel 2008 in occasione dello spettacolo televisivo Non esiste più la mezza stagione, che ricordava i venticinque anni dalla fondazione del gruppo.\n",
      "\n",
      "Biografia\n",
      "A 17 anni frequ\n",
      "\n",
      "Language: ko\n",
      "Docid: doc-ko-589\n",
      "--------------------------------------------------\n",
      "Text:\n",
      "강감찬(姜邯贊 또는 姜邯瓚, 948년 음력 11월 19일 ~ 1031년 음력 8월 20일)은 고려의 문관이다. 본관은 금주이다.\n",
      "\n",
      "983년(성종 3) 과거에 장원급제하여 예부시랑, 한림학사를 거쳐 문하평장사가 되었다. 요나라의 3차 침입을 격퇴하였고, 천수현개국남(天水縣開國男)에 봉해졌다. 1030년(정종 21)에 문하시중에 이르렀다. 현종의 묘정(廟廷)에 배향되고 문종(文宗) 때 수태사(守太師) 겸 중서령(中書令)에 추증되었다. 시호는 인헌(仁憲)이다.\n",
      "\n",
      "생애\n",
      "\n",
      "생애 초 \n",
      "강감찬은 948년 12월 22일(음력 11월 19일)에 삼\n",
      "\n",
      "Language: ar\n",
      "Docid: doc-ar-2770\n",
      "--------------------------------------------------\n",
      "Text:\n",
      "دو  أو شركة الإمارات للاتصالات المتكاملة  هي شركة اتصالات في دولة الإمارات العربية المتحدة، وقد حصلت على رخصة تشغيل خدمات الاتصالات في الدولة في 12 فبراير 2006. وقد رُمز لها بدايةً بأول أحرف اسم الشركة القانوني EITC قبل أن يتم تغيير اسم العلامة التجارية إلى ما هو عليه حاليا «دو» أو كما يستخدم في الش\n",
      "\n"
     ]
    }
   ],
   "execution_count": 4
  },
  {
   "metadata": {},
   "cell_type": "markdown",
   "source": [
    "## Lower-Case\n",
    "\n",
    "Second step is to make sure that texts are written in lowercase. Such step is necessary since methods like TF-IDF or even BM25 are case sensitive."
   ],
   "id": "5a877b57ef986442"
  },
  {
   "metadata": {
    "ExecuteTime": {
     "end_time": "2024-10-14T21:51:53.964117Z",
     "start_time": "2024-10-14T21:51:33.640482Z"
    }
   },
   "cell_type": "code",
   "source": "corpus.lower_case()",
   "id": "7768e5f59036146d",
   "outputs": [
    {
     "data": {
      "text/plain": [
       "Lower casing 'en' docs:   0%|          | 0/207363 [00:00<?, ?it/s]"
      ],
      "application/vnd.jupyter.widget-view+json": {
       "version_major": 2,
       "version_minor": 0,
       "model_id": "c4757d82465c4e92b4b41d69c66bf176"
      }
     },
     "metadata": {},
     "output_type": "display_data"
    },
    {
     "data": {
      "text/plain": [
       "Lower casing 'fr' docs:   0%|          | 0/10676 [00:00<?, ?it/s]"
      ],
      "application/vnd.jupyter.widget-view+json": {
       "version_major": 2,
       "version_minor": 0,
       "model_id": "2c968064353e4e6387872969d30d7e93"
      }
     },
     "metadata": {},
     "output_type": "display_data"
    },
    {
     "data": {
      "text/plain": [
       "Lower casing 'de' docs:   0%|          | 0/10992 [00:00<?, ?it/s]"
      ],
      "application/vnd.jupyter.widget-view+json": {
       "version_major": 2,
       "version_minor": 0,
       "model_id": "8375fad06c5b4d9da1a094fec73aed9b"
      }
     },
     "metadata": {},
     "output_type": "display_data"
    },
    {
     "data": {
      "text/plain": [
       "Lower casing 'es' docs:   0%|          | 0/11019 [00:00<?, ?it/s]"
      ],
      "application/vnd.jupyter.widget-view+json": {
       "version_major": 2,
       "version_minor": 0,
       "model_id": "83df30cba2724d2d982c52b5831d9214"
      }
     },
     "metadata": {},
     "output_type": "display_data"
    },
    {
     "data": {
      "text/plain": [
       "Lower casing 'it' docs:   0%|          | 0/11250 [00:00<?, ?it/s]"
      ],
      "application/vnd.jupyter.widget-view+json": {
       "version_major": 2,
       "version_minor": 0,
       "model_id": "da60e5bc5cfa4eb992f0d6405e30fc91"
      }
     },
     "metadata": {},
     "output_type": "display_data"
    },
    {
     "data": {
      "text/plain": [
       "Lower casing 'ko' docs:   0%|          | 0/7893 [00:00<?, ?it/s]"
      ],
      "application/vnd.jupyter.widget-view+json": {
       "version_major": 2,
       "version_minor": 0,
       "model_id": "3092b9c95d5b431b83489ffc30991aa7"
      }
     },
     "metadata": {},
     "output_type": "display_data"
    },
    {
     "data": {
      "text/plain": [
       "Lower casing 'ar' docs:   0%|          | 0/8829 [00:00<?, ?it/s]"
      ],
      "application/vnd.jupyter.widget-view+json": {
       "version_major": 2,
       "version_minor": 0,
       "model_id": "43118106879b494289b6970c596f0108"
      }
     },
     "metadata": {},
     "output_type": "display_data"
    }
   ],
   "execution_count": 5
  },
  {
   "metadata": {
    "ExecuteTime": {
     "end_time": "2024-10-14T21:51:53.997785Z",
     "start_time": "2024-10-14T21:51:53.984352Z"
    }
   },
   "cell_type": "code",
   "source": "corpus.show_current_docs()",
   "id": "43a5d936c2f61353",
   "outputs": [
    {
     "name": "stdout",
     "output_type": "stream",
     "text": [
      "--------------------------------------------------\n",
      "Current state of documents (first 300 characters):\n",
      "--------------------------------------------------\n",
      "\n",
      "Language: en\n",
      "Docid: doc-en-9633\n",
      "--------------------------------------------------\n",
      "Text:\n",
      "mars hill church was a christian megachurch, founded by mark driscoll, lief moi, and mike gunn. it was a multi-site church based in seattle, washington and grew from a home bible study to 15 locations in 4 u.s. states. services were offered at its 15 locations; the church also podcast content of wee\n",
      "\n",
      "Language: fr\n",
      "Docid: doc-fr-1447\n",
      "--------------------------------------------------\n",
      "Text:\n",
      "la production de café au costa rica représente en 2016 environ 1,2 % de la production mondiale de café, ce qui fait le  grand producteur du monde derrière la côte d'ivoire.\n",
      "\n",
      "particularités \n",
      "les grains de café du costa rica, sont considérés comme parmi les meilleurs dans le monde. tarrazú est pensé p\n",
      "\n",
      "Language: de\n",
      "Docid: doc-de-9933\n",
      "--------------------------------------------------\n",
      "Text:\n",
      "artikelnummer 125455rosendahl - grand cru thermotasse, 35 cl\n",
      "kundenbewertungenaline rossleben5 von 5 sterne 06.04.2016, aline h., rosendahl - grand cru thermotasse, 35 clhandlich schönes material. einfach zu reinigen . liegt gut in der hand . der preis ist super . würde es immer wieder weiter empfeh\n",
      "\n",
      "Language: es\n",
      "Docid: doc-es-214\n",
      "--------------------------------------------------\n",
      "Text:\n",
      "beautiful boy: siempre serás mi hijo\n",
      "\n",
      "argumento\n",
      "\n",
      "la película narra la adicción a la metanfetamina y la recuperación a través de los ojos de un padre (steve carell) que ve a su hijo nic (timothée chalamet) mientras lucha contra la adicción.\n",
      "\n",
      "producción\n",
      "\n",
      "en 2008, se anunció que paramount pictures y pl\n",
      "\n",
      "Language: it\n",
      "Docid: doc-it-632\n",
      "--------------------------------------------------\n",
      "Text:\n",
      "dal 1982 al 1994 ha fatto parte del trio con massimo lopez e anna marchesini, eccezionalmente ricostituitosi per l'ultima volta nel 2008 in occasione dello spettacolo televisivo non esiste più la mezza stagione, che ricordava i venticinque anni dalla fondazione del gruppo.\n",
      "\n",
      "biografia\n",
      "a 17 anni frequ\n",
      "\n",
      "Language: ko\n",
      "Docid: doc-ko-589\n",
      "--------------------------------------------------\n",
      "Text:\n",
      "강감찬(姜邯贊 또는 姜邯瓚, 948년 음력 11월 19일 ~ 1031년 음력 8월 20일)은 고려의 문관이다. 본관은 금주이다.\n",
      "\n",
      "983년(성종 3) 과거에 장원급제하여 예부시랑, 한림학사를 거쳐 문하평장사가 되었다. 요나라의 3차 침입을 격퇴하였고, 천수현개국남(天水縣開國男)에 봉해졌다. 1030년(정종 21)에 문하시중에 이르렀다. 현종의 묘정(廟廷)에 배향되고 문종(文宗) 때 수태사(守太師) 겸 중서령(中書令)에 추증되었다. 시호는 인헌(仁憲)이다.\n",
      "\n",
      "생애\n",
      "\n",
      "생애 초 \n",
      "강감찬은 948년 12월 22일(음력 11월 19일)에 삼\n",
      "\n",
      "Language: ar\n",
      "Docid: doc-ar-2770\n",
      "--------------------------------------------------\n",
      "Text:\n",
      "دو  أو شركة الإمارات للاتصالات المتكاملة  هي شركة اتصالات في دولة الإمارات العربية المتحدة، وقد حصلت على رخصة تشغيل خدمات الاتصالات في الدولة في 12 فبراير 2006. وقد رُمز لها بدايةً بأول أحرف اسم الشركة القانوني eitc قبل أن يتم تغيير اسم العلامة التجارية إلى ما هو عليه حاليا «دو» أو كما يستخدم في الش\n",
      "\n"
     ]
    }
   ],
   "execution_count": 6
  },
  {
   "metadata": {
    "ExecuteTime": {
     "end_time": "2024-10-14T21:51:54.095778Z",
     "start_time": "2024-10-14T21:51:54.081803Z"
    }
   },
   "cell_type": "code",
   "source": "#corpus.store(path='clean_data/lower_case')",
   "id": "36651d6cac05f31f",
   "outputs": [],
   "execution_count": 7
  },
  {
   "metadata": {},
   "cell_type": "markdown",
   "source": [
    "## Remove StopWords\n",
    "\n",
    "Third step is to remove the stop-words to only keep the more relevant words."
   ],
   "id": "d093445946e95a29"
  },
  {
   "metadata": {
    "ExecuteTime": {
     "end_time": "2024-10-14T21:53:14.388134Z",
     "start_time": "2024-10-14T21:51:54.131553Z"
    }
   },
   "cell_type": "code",
   "source": "corpus.stop_words()",
   "id": "902b08efcbb529ef",
   "outputs": [
    {
     "data": {
      "text/plain": [
       "Removing stop words for 'en' docs:   0%|          | 0/207363 [00:00<?, ?it/s]"
      ],
      "application/vnd.jupyter.widget-view+json": {
       "version_major": 2,
       "version_minor": 0,
       "model_id": "ec159f2f8afb4903a47d36e73a6b3cd1"
      }
     },
     "metadata": {},
     "output_type": "display_data"
    },
    {
     "data": {
      "text/plain": [
       "Removing stop words for 'fr' docs:   0%|          | 0/10676 [00:00<?, ?it/s]"
      ],
      "application/vnd.jupyter.widget-view+json": {
       "version_major": 2,
       "version_minor": 0,
       "model_id": "ec1f33f3119a4496a4187506dfe61a7c"
      }
     },
     "metadata": {},
     "output_type": "display_data"
    },
    {
     "data": {
      "text/plain": [
       "Removing stop words for 'de' docs:   0%|          | 0/10992 [00:00<?, ?it/s]"
      ],
      "application/vnd.jupyter.widget-view+json": {
       "version_major": 2,
       "version_minor": 0,
       "model_id": "bf0d7b3f3f744c2bb89eb19890111aee"
      }
     },
     "metadata": {},
     "output_type": "display_data"
    },
    {
     "data": {
      "text/plain": [
       "Removing stop words for 'es' docs:   0%|          | 0/11019 [00:00<?, ?it/s]"
      ],
      "application/vnd.jupyter.widget-view+json": {
       "version_major": 2,
       "version_minor": 0,
       "model_id": "50c2c07f2fc74df58699dbd513d1a463"
      }
     },
     "metadata": {},
     "output_type": "display_data"
    },
    {
     "data": {
      "text/plain": [
       "Removing stop words for 'it' docs:   0%|          | 0/11250 [00:00<?, ?it/s]"
      ],
      "application/vnd.jupyter.widget-view+json": {
       "version_major": 2,
       "version_minor": 0,
       "model_id": "84c8506c84af49f488576d2aae016e94"
      }
     },
     "metadata": {},
     "output_type": "display_data"
    },
    {
     "data": {
      "text/plain": [
       "Removing stop words for 'ar' docs:   0%|          | 0/8829 [00:00<?, ?it/s]"
      ],
      "application/vnd.jupyter.widget-view+json": {
       "version_major": 2,
       "version_minor": 0,
       "model_id": "1cd76e9d42304a59a13a10ea188d96a4"
      }
     },
     "metadata": {},
     "output_type": "display_data"
    },
    {
     "data": {
      "text/plain": [
       "Stats for 'en' docs:   0%|          | 0/207363 [00:00<?, ?it/s]"
      ],
      "application/vnd.jupyter.widget-view+json": {
       "version_major": 2,
       "version_minor": 0,
       "model_id": "26ee4cf173934878baa9481661cdb33d"
      }
     },
     "metadata": {},
     "output_type": "display_data"
    },
    {
     "data": {
      "text/plain": [
       "Stats for 'fr' docs:   0%|          | 0/10676 [00:00<?, ?it/s]"
      ],
      "application/vnd.jupyter.widget-view+json": {
       "version_major": 2,
       "version_minor": 0,
       "model_id": "9a9ae3d7280d4f6ba4320adfae7ce6bb"
      }
     },
     "metadata": {},
     "output_type": "display_data"
    },
    {
     "data": {
      "text/plain": [
       "Stats for 'de' docs:   0%|          | 0/10992 [00:00<?, ?it/s]"
      ],
      "application/vnd.jupyter.widget-view+json": {
       "version_major": 2,
       "version_minor": 0,
       "model_id": "32ac84b6a17241498d313cd518177b12"
      }
     },
     "metadata": {},
     "output_type": "display_data"
    },
    {
     "data": {
      "text/plain": [
       "Stats for 'es' docs:   0%|          | 0/11019 [00:00<?, ?it/s]"
      ],
      "application/vnd.jupyter.widget-view+json": {
       "version_major": 2,
       "version_minor": 0,
       "model_id": "f6580bfd3f024dae8eb0b59d894fd465"
      }
     },
     "metadata": {},
     "output_type": "display_data"
    },
    {
     "data": {
      "text/plain": [
       "Stats for 'it' docs:   0%|          | 0/11250 [00:00<?, ?it/s]"
      ],
      "application/vnd.jupyter.widget-view+json": {
       "version_major": 2,
       "version_minor": 0,
       "model_id": "fafbe8de6e83498eb05bda0d2f4b1d5a"
      }
     },
     "metadata": {},
     "output_type": "display_data"
    },
    {
     "data": {
      "text/plain": [
       "Stats for 'ko' docs:   0%|          | 0/7893 [00:00<?, ?it/s]"
      ],
      "application/vnd.jupyter.widget-view+json": {
       "version_major": 2,
       "version_minor": 0,
       "model_id": "75d3b5eb37ea4d62bbbf36b0ba08488c"
      }
     },
     "metadata": {},
     "output_type": "display_data"
    },
    {
     "data": {
      "text/plain": [
       "Stats for 'ar' docs:   0%|          | 0/8829 [00:00<?, ?it/s]"
      ],
      "application/vnd.jupyter.widget-view+json": {
       "version_major": 2,
       "version_minor": 0,
       "model_id": "ba02e61cca734a369856f239ad4b9fb6"
      }
     },
     "metadata": {},
     "output_type": "display_data"
    },
    {
     "data": {
      "text/plain": [
       "  lang  num_docs  max_words  min_words   mean_words  median_words  \\\n",
       "0   en    207363      46759         64  1399.159247         950.0   \n",
       "1   fr     10676      42867        255  3593.587018        3168.0   \n",
       "2   de     10992      22234          2  3098.057041        2848.5   \n",
       "3   es     11019      41715        198  3126.667846        2913.0   \n",
       "4   it     11250      31037        319  3492.448800        3167.0   \n",
       "5   ko      7893      35738        183  2700.349677        2511.0   \n",
       "6   ar      8829      37106        235  3692.840072        3270.0   \n",
       "\n",
       "   95th_quantile_words  \n",
       "0              3769.00  \n",
       "1              8512.50  \n",
       "2              7979.85  \n",
       "3              6916.40  \n",
       "4              7575.05  \n",
       "5              6702.80  \n",
       "6              9346.00  "
      ],
      "text/html": [
       "<div>\n",
       "<style scoped>\n",
       "    .dataframe tbody tr th:only-of-type {\n",
       "        vertical-align: middle;\n",
       "    }\n",
       "\n",
       "    .dataframe tbody tr th {\n",
       "        vertical-align: top;\n",
       "    }\n",
       "\n",
       "    .dataframe thead th {\n",
       "        text-align: right;\n",
       "    }\n",
       "</style>\n",
       "<table border=\"1\" class=\"dataframe\">\n",
       "  <thead>\n",
       "    <tr style=\"text-align: right;\">\n",
       "      <th></th>\n",
       "      <th>lang</th>\n",
       "      <th>num_docs</th>\n",
       "      <th>max_words</th>\n",
       "      <th>min_words</th>\n",
       "      <th>mean_words</th>\n",
       "      <th>median_words</th>\n",
       "      <th>95th_quantile_words</th>\n",
       "    </tr>\n",
       "  </thead>\n",
       "  <tbody>\n",
       "    <tr>\n",
       "      <th>0</th>\n",
       "      <td>en</td>\n",
       "      <td>207363</td>\n",
       "      <td>46759</td>\n",
       "      <td>64</td>\n",
       "      <td>1399.159247</td>\n",
       "      <td>950.0</td>\n",
       "      <td>3769.00</td>\n",
       "    </tr>\n",
       "    <tr>\n",
       "      <th>1</th>\n",
       "      <td>fr</td>\n",
       "      <td>10676</td>\n",
       "      <td>42867</td>\n",
       "      <td>255</td>\n",
       "      <td>3593.587018</td>\n",
       "      <td>3168.0</td>\n",
       "      <td>8512.50</td>\n",
       "    </tr>\n",
       "    <tr>\n",
       "      <th>2</th>\n",
       "      <td>de</td>\n",
       "      <td>10992</td>\n",
       "      <td>22234</td>\n",
       "      <td>2</td>\n",
       "      <td>3098.057041</td>\n",
       "      <td>2848.5</td>\n",
       "      <td>7979.85</td>\n",
       "    </tr>\n",
       "    <tr>\n",
       "      <th>3</th>\n",
       "      <td>es</td>\n",
       "      <td>11019</td>\n",
       "      <td>41715</td>\n",
       "      <td>198</td>\n",
       "      <td>3126.667846</td>\n",
       "      <td>2913.0</td>\n",
       "      <td>6916.40</td>\n",
       "    </tr>\n",
       "    <tr>\n",
       "      <th>4</th>\n",
       "      <td>it</td>\n",
       "      <td>11250</td>\n",
       "      <td>31037</td>\n",
       "      <td>319</td>\n",
       "      <td>3492.448800</td>\n",
       "      <td>3167.0</td>\n",
       "      <td>7575.05</td>\n",
       "    </tr>\n",
       "    <tr>\n",
       "      <th>5</th>\n",
       "      <td>ko</td>\n",
       "      <td>7893</td>\n",
       "      <td>35738</td>\n",
       "      <td>183</td>\n",
       "      <td>2700.349677</td>\n",
       "      <td>2511.0</td>\n",
       "      <td>6702.80</td>\n",
       "    </tr>\n",
       "    <tr>\n",
       "      <th>6</th>\n",
       "      <td>ar</td>\n",
       "      <td>8829</td>\n",
       "      <td>37106</td>\n",
       "      <td>235</td>\n",
       "      <td>3692.840072</td>\n",
       "      <td>3270.0</td>\n",
       "      <td>9346.00</td>\n",
       "    </tr>\n",
       "  </tbody>\n",
       "</table>\n",
       "</div>"
      ]
     },
     "execution_count": 8,
     "metadata": {},
     "output_type": "execute_result"
    }
   ],
   "execution_count": 8
  },
  {
   "metadata": {
    "ExecuteTime": {
     "end_time": "2024-10-14T21:53:14.610477Z",
     "start_time": "2024-10-14T21:53:14.454583Z"
    }
   },
   "cell_type": "code",
   "source": "corpus.show_current_docs()",
   "id": "c22f2ff332f7d4e0",
   "outputs": [
    {
     "name": "stdout",
     "output_type": "stream",
     "text": [
      "--------------------------------------------------\n",
      "Current state of documents (first 300 characters):\n",
      "--------------------------------------------------\n",
      "\n",
      "Language: en\n",
      "Docid: doc-en-9633\n",
      "--------------------------------------------------\n",
      "Text:\n",
      "mars hill church christian megachurch, founded mark driscoll, lief moi, mike gunn. multi-site church based seattle, washington grew home bible study 15 locations 4 u.s. states. services offered 15 locations; church also podcast content weekend services, conferences, internet 260,000 sermon views onl\n",
      "\n",
      "Language: fr\n",
      "Docid: doc-fr-1447\n",
      "--------------------------------------------------\n",
      "Text:\n",
      "production café costa rica représente 2016 environ 1,2 % production mondiale café, fait grand producteur monde derrière côte d'ivoire. particularités grains café costa rica, considérés comme parmi meilleurs monde. tarrazú pensé produire plus désirable grains café costa rica. 2012, café tarrazú deven\n",
      "\n",
      "Language: de\n",
      "Docid: doc-de-9933\n",
      "--------------------------------------------------\n",
      "Text:\n",
      "artikelnummer 125455rosendahl - grand cru thermotasse, 35 cl kundenbewertungenaline rossleben5 5 sterne 06.04.2016, aline h., rosendahl - grand cru thermotasse, 35 clhandlich schönes material. einfach reinigen . liegt gut hand . preis super . immer empfehlen .war bewertung hilfreich?janein\n",
      "\n",
      "Language: es\n",
      "Docid: doc-es-214\n",
      "--------------------------------------------------\n",
      "Text:\n",
      "beautiful boy: siempre hijo argumento película narra adicción metanfetamina recuperación través ojos padre (steve carell) ve hijo nic (timothée chalamet) mientras lucha adicción. producción 2008, anunció paramount pictures plan b entertainment adquirido derechos libros \"beautiful boy: father's journ\n",
      "\n",
      "Language: it\n",
      "Docid: doc-it-632\n",
      "--------------------------------------------------\n",
      "Text:\n",
      "1982 1994 fatto parte trio massimo lopez anna marchesini, eccezionalmente ricostituitosi l'ultima volta 2008 occasione spettacolo televisivo esiste mezza stagione, ricordava venticinque anni fondazione gruppo. biografia 17 anni frequenta scuola teatro teatro stabile genova, conosce massimo lopez. es\n",
      "\n",
      "Language: ko\n",
      "Docid: doc-ko-589\n",
      "--------------------------------------------------\n",
      "Text:\n",
      "강감찬(姜邯贊 또는 姜邯瓚, 948년 음력 11월 19일 ~ 1031년 음력 8월 20일)은 고려의 문관이다. 본관은 금주이다.\n",
      "\n",
      "983년(성종 3) 과거에 장원급제하여 예부시랑, 한림학사를 거쳐 문하평장사가 되었다. 요나라의 3차 침입을 격퇴하였고, 천수현개국남(天水縣開國男)에 봉해졌다. 1030년(정종 21)에 문하시중에 이르렀다. 현종의 묘정(廟廷)에 배향되고 문종(文宗) 때 수태사(守太師) 겸 중서령(中書令)에 추증되었다. 시호는 인헌(仁憲)이다.\n",
      "\n",
      "생애\n",
      "\n",
      "생애 초 \n",
      "강감찬은 948년 12월 22일(음력 11월 19일)에 삼\n",
      "\n",
      "Language: ar\n",
      "Docid: doc-ar-2770\n",
      "--------------------------------------------------\n",
      "Text:\n",
      "دو شركة الإمارات للاتصالات المتكاملة شركة اتصالات دولة الإمارات العربية المتحدة، وقد حصلت رخصة تشغيل خدمات الاتصالات الدولة 12 2006. وقد رُمز بدايةً بأول أحرف اسم الشركة القانوني eitc يتم تغيير اسم العلامة التجارية حاليا «دو» يستخدم الشعار باللغة الإنجليزية du. وتعد الشركة مزود اتصالات رباعي يقدم خد\n",
      "\n"
     ]
    }
   ],
   "execution_count": 9
  },
  {
   "metadata": {
    "ExecuteTime": {
     "end_time": "2024-10-14T21:53:14.698626Z",
     "start_time": "2024-10-14T21:53:14.683108Z"
    }
   },
   "cell_type": "code",
   "source": "#corpus.store(path='clean_data/lower_case_stop_words')",
   "id": "61cced88ebce81e6",
   "outputs": [],
   "execution_count": 10
  },
  {
   "metadata": {},
   "cell_type": "markdown",
   "source": [
    "## Lemmatization\n",
    "\n",
    "Final step, use a lemmatizer to only keep the essence of a word to make sure that same words are not written in too many ways possible, i.e. plural and singular, present and other verb tense, ..."
   ],
   "id": "64922285262f476a"
  },
  {
   "metadata": {
    "ExecuteTime": {
     "end_time": "2024-10-15T01:53:24.160020Z",
     "start_time": "2024-10-14T21:53:42.773789Z"
    }
   },
   "cell_type": "code",
   "source": "corpus.lemmatization()",
   "id": "76e1e9c35f654161",
   "outputs": [
    {
     "name": "stdout",
     "output_type": "stream",
     "text": [
      "Starting lemmatizing 'en' docs!\n"
     ]
    },
    {
     "data": {
      "text/plain": [
       "Lemmatizing 'en' docs:   0%|          | 0/207363 [00:00<?, ?it/s]"
      ],
      "application/vnd.jupyter.widget-view+json": {
       "version_major": 2,
       "version_minor": 0,
       "model_id": "45db32255eca4421959c7da362b3dc56"
      }
     },
     "metadata": {},
     "output_type": "display_data"
    },
    {
     "name": "stdout",
     "output_type": "stream",
     "text": [
      "Finished lemmatizing 'en' docs!\n",
      "\n",
      "Starting lemmatizing 'fr' docs!\n"
     ]
    },
    {
     "data": {
      "text/plain": [
       "Lemmatizing 'fr' docs:   0%|          | 0/10676 [00:00<?, ?it/s]"
      ],
      "application/vnd.jupyter.widget-view+json": {
       "version_major": 2,
       "version_minor": 0,
       "model_id": "eaebf09cf7b240c28387b95121b1fafa"
      }
     },
     "metadata": {},
     "output_type": "display_data"
    },
    {
     "name": "stdout",
     "output_type": "stream",
     "text": [
      "Finished lemmatizing 'fr' docs!\n",
      "\n",
      "Starting lemmatizing 'de' docs!\n"
     ]
    },
    {
     "data": {
      "text/plain": [
       "Lemmatizing 'de' docs:   0%|          | 0/10992 [00:00<?, ?it/s]"
      ],
      "application/vnd.jupyter.widget-view+json": {
       "version_major": 2,
       "version_minor": 0,
       "model_id": "f35a18da19a24c0780b52e0a3cb32769"
      }
     },
     "metadata": {},
     "output_type": "display_data"
    },
    {
     "name": "stdout",
     "output_type": "stream",
     "text": [
      "Finished lemmatizing 'de' docs!\n",
      "\n",
      "Starting lemmatizing 'es' docs!\n"
     ]
    },
    {
     "data": {
      "text/plain": [
       "Lemmatizing 'es' docs:   0%|          | 0/11019 [00:00<?, ?it/s]"
      ],
      "application/vnd.jupyter.widget-view+json": {
       "version_major": 2,
       "version_minor": 0,
       "model_id": "c4e15a05ee1d46918966740f84887bcf"
      }
     },
     "metadata": {},
     "output_type": "display_data"
    },
    {
     "name": "stdout",
     "output_type": "stream",
     "text": [
      "Finished lemmatizing 'es' docs!\n",
      "\n",
      "Starting lemmatizing 'it' docs!\n"
     ]
    },
    {
     "data": {
      "text/plain": [
       "Lemmatizing 'it' docs:   0%|          | 0/11250 [00:00<?, ?it/s]"
      ],
      "application/vnd.jupyter.widget-view+json": {
       "version_major": 2,
       "version_minor": 0,
       "model_id": "a9283dc677dc4862919e101661cab268"
      }
     },
     "metadata": {},
     "output_type": "display_data"
    },
    {
     "name": "stdout",
     "output_type": "stream",
     "text": [
      "Finished lemmatizing 'it' docs!\n",
      "\n",
      "No Lemmatizer found for 'ko' docs!\n",
      "\n",
      "No Lemmatizer found for 'ar' docs!\n",
      "\n"
     ]
    },
    {
     "data": {
      "text/plain": [
       "Stats for 'en' docs:   0%|          | 0/207363 [00:00<?, ?it/s]"
      ],
      "application/vnd.jupyter.widget-view+json": {
       "version_major": 2,
       "version_minor": 0,
       "model_id": "1b9915a0df34474ca3219d3457863d47"
      }
     },
     "metadata": {},
     "output_type": "display_data"
    },
    {
     "data": {
      "text/plain": [
       "Stats for 'fr' docs:   0%|          | 0/10676 [00:00<?, ?it/s]"
      ],
      "application/vnd.jupyter.widget-view+json": {
       "version_major": 2,
       "version_minor": 0,
       "model_id": "1d9e4d929fb147d8bb83376fe39e963f"
      }
     },
     "metadata": {},
     "output_type": "display_data"
    },
    {
     "data": {
      "text/plain": [
       "Stats for 'de' docs:   0%|          | 0/10992 [00:00<?, ?it/s]"
      ],
      "application/vnd.jupyter.widget-view+json": {
       "version_major": 2,
       "version_minor": 0,
       "model_id": "495a0dff8bff41579897d5c50ce6b174"
      }
     },
     "metadata": {},
     "output_type": "display_data"
    },
    {
     "data": {
      "text/plain": [
       "Stats for 'es' docs:   0%|          | 0/11019 [00:00<?, ?it/s]"
      ],
      "application/vnd.jupyter.widget-view+json": {
       "version_major": 2,
       "version_minor": 0,
       "model_id": "2538e4b7934346bf8f91aa6c041d9b7a"
      }
     },
     "metadata": {},
     "output_type": "display_data"
    },
    {
     "data": {
      "text/plain": [
       "Stats for 'it' docs:   0%|          | 0/11250 [00:00<?, ?it/s]"
      ],
      "application/vnd.jupyter.widget-view+json": {
       "version_major": 2,
       "version_minor": 0,
       "model_id": "ac2cec8c33b94ffaa4efa36cbe68b7b3"
      }
     },
     "metadata": {},
     "output_type": "display_data"
    },
    {
     "data": {
      "text/plain": [
       "Stats for 'ko' docs:   0%|          | 0/7893 [00:00<?, ?it/s]"
      ],
      "application/vnd.jupyter.widget-view+json": {
       "version_major": 2,
       "version_minor": 0,
       "model_id": "ead2db478c9c4fca8834399427d309ec"
      }
     },
     "metadata": {},
     "output_type": "display_data"
    },
    {
     "data": {
      "text/plain": [
       "Stats for 'ar' docs:   0%|          | 0/8829 [00:00<?, ?it/s]"
      ],
      "application/vnd.jupyter.widget-view+json": {
       "version_major": 2,
       "version_minor": 0,
       "model_id": "bbb08e9a41924f1fa8cb3da7227f8c45"
      }
     },
     "metadata": {},
     "output_type": "display_data"
    },
    {
     "data": {
      "text/plain": [
       "  lang  num_docs  max_words  min_words   mean_words  median_words  \\\n",
       "0   en    207363      69239        162  1804.754754        1223.0   \n",
       "1   fr     10676      74077        312  4689.487167        4132.0   \n",
       "2   de     10992      53865          3  4031.856623        3699.0   \n",
       "3   es     11019      51713        246  3784.977040        3536.0   \n",
       "4   it     11250      47355        444  4575.546133        4153.0   \n",
       "5   ko      7893      35738        183  2700.349677        2511.0   \n",
       "6   ar      8829      37106        235  3692.840072        3270.0   \n",
       "\n",
       "   95th_quantile_words  \n",
       "0              4860.00  \n",
       "1             11018.50  \n",
       "2             10232.80  \n",
       "3              8368.90  \n",
       "4              9973.75  \n",
       "5              6702.80  \n",
       "6              9346.00  "
      ],
      "text/html": [
       "<div>\n",
       "<style scoped>\n",
       "    .dataframe tbody tr th:only-of-type {\n",
       "        vertical-align: middle;\n",
       "    }\n",
       "\n",
       "    .dataframe tbody tr th {\n",
       "        vertical-align: top;\n",
       "    }\n",
       "\n",
       "    .dataframe thead th {\n",
       "        text-align: right;\n",
       "    }\n",
       "</style>\n",
       "<table border=\"1\" class=\"dataframe\">\n",
       "  <thead>\n",
       "    <tr style=\"text-align: right;\">\n",
       "      <th></th>\n",
       "      <th>lang</th>\n",
       "      <th>num_docs</th>\n",
       "      <th>max_words</th>\n",
       "      <th>min_words</th>\n",
       "      <th>mean_words</th>\n",
       "      <th>median_words</th>\n",
       "      <th>95th_quantile_words</th>\n",
       "    </tr>\n",
       "  </thead>\n",
       "  <tbody>\n",
       "    <tr>\n",
       "      <th>0</th>\n",
       "      <td>en</td>\n",
       "      <td>207363</td>\n",
       "      <td>69239</td>\n",
       "      <td>162</td>\n",
       "      <td>1804.754754</td>\n",
       "      <td>1223.0</td>\n",
       "      <td>4860.00</td>\n",
       "    </tr>\n",
       "    <tr>\n",
       "      <th>1</th>\n",
       "      <td>fr</td>\n",
       "      <td>10676</td>\n",
       "      <td>74077</td>\n",
       "      <td>312</td>\n",
       "      <td>4689.487167</td>\n",
       "      <td>4132.0</td>\n",
       "      <td>11018.50</td>\n",
       "    </tr>\n",
       "    <tr>\n",
       "      <th>2</th>\n",
       "      <td>de</td>\n",
       "      <td>10992</td>\n",
       "      <td>53865</td>\n",
       "      <td>3</td>\n",
       "      <td>4031.856623</td>\n",
       "      <td>3699.0</td>\n",
       "      <td>10232.80</td>\n",
       "    </tr>\n",
       "    <tr>\n",
       "      <th>3</th>\n",
       "      <td>es</td>\n",
       "      <td>11019</td>\n",
       "      <td>51713</td>\n",
       "      <td>246</td>\n",
       "      <td>3784.977040</td>\n",
       "      <td>3536.0</td>\n",
       "      <td>8368.90</td>\n",
       "    </tr>\n",
       "    <tr>\n",
       "      <th>4</th>\n",
       "      <td>it</td>\n",
       "      <td>11250</td>\n",
       "      <td>47355</td>\n",
       "      <td>444</td>\n",
       "      <td>4575.546133</td>\n",
       "      <td>4153.0</td>\n",
       "      <td>9973.75</td>\n",
       "    </tr>\n",
       "    <tr>\n",
       "      <th>5</th>\n",
       "      <td>ko</td>\n",
       "      <td>7893</td>\n",
       "      <td>35738</td>\n",
       "      <td>183</td>\n",
       "      <td>2700.349677</td>\n",
       "      <td>2511.0</td>\n",
       "      <td>6702.80</td>\n",
       "    </tr>\n",
       "    <tr>\n",
       "      <th>6</th>\n",
       "      <td>ar</td>\n",
       "      <td>8829</td>\n",
       "      <td>37106</td>\n",
       "      <td>235</td>\n",
       "      <td>3692.840072</td>\n",
       "      <td>3270.0</td>\n",
       "      <td>9346.00</td>\n",
       "    </tr>\n",
       "  </tbody>\n",
       "</table>\n",
       "</div>"
      ]
     },
     "execution_count": 11,
     "metadata": {},
     "output_type": "execute_result"
    }
   ],
   "execution_count": 11
  },
  {
   "metadata": {
    "ExecuteTime": {
     "end_time": "2024-10-15T01:53:24.279070Z",
     "start_time": "2024-10-15T01:53:24.240022Z"
    }
   },
   "cell_type": "code",
   "source": "corpus.show_current_docs()",
   "id": "229d50dbf2dae082",
   "outputs": [
    {
     "name": "stdout",
     "output_type": "stream",
     "text": [
      "--------------------------------------------------\n",
      "Current state of documents (first 300 characters):\n",
      "--------------------------------------------------\n",
      "\n",
      "Language: en\n",
      "Docid: doc-en-9633\n",
      "--------------------------------------------------\n",
      "Text:\n",
      "mars hill church christian megachurch , found mark driscoll , lief moi , mike gunn . multi - site church base seattle , washington grow home bible study 15 location 4 u.s . state . service offer 15 location ; church also podcast content weekend service , conference , internet 260,000 sermon view onl\n",
      "\n",
      "Language: fr\n",
      "Docid: doc-fr-1447\n",
      "--------------------------------------------------\n",
      "Text:\n",
      "production café costa ricer représenter 2016 environ 1,2 pourcent production mondial café , faire grand producteur monde derrière côte de ivoire . particularité grain café costa ricer , considérer comme parmi meilleur monde . tarrazú penser produire plus désirable grain café costa ricer . 2012 , caf\n",
      "\n",
      "Language: de\n",
      "Docid: doc-de-9933\n",
      "--------------------------------------------------\n",
      "Text:\n",
      "Artikelnummer 125455rosendahl -- Grand cru thermotasse -- 35 cl kundenbewertungenalin rossleben5 5 stern 06.04.2016 -- alin h. -- Rosendahl -- Grand cru thermotasse -- 35 Clhandlich schön Material -- einfach reinigen -- liegen gut Hand -- Preis Super -- immer empfehlen .war Bewertung hilfreich -- Ja\n",
      "\n",
      "Language: es\n",
      "Docid: doc-es-214\n",
      "--------------------------------------------------\n",
      "Text:\n",
      "beautiful boy : siempre hijo argumento película narrar adicción metanfetamín recuperación través ojo padre ( steve carell ) ver hijo nic ( timothée chalamet ) mientras luchar adicción . producción 2008 , anunciar paramount pictures plar b entertainment adquirido derechos libro \" beautiful boy : fath\n",
      "\n",
      "Language: it\n",
      "Docid: doc-it-632\n",
      "--------------------------------------------------\n",
      "Text:\n",
      "1982 1994 fare parte trio massimo Lopez Anna marchesino , eccezionalmente ricostituitosi il ultimo volta 2008 occasione spettacolo televisivo esistere mezzo stagione , ricordare venticinque anno fondazione gruppo . biografia 17 anno frequentare scuola teatro teatro stabile genova , conosce massimo L\n",
      "\n",
      "Language: ko\n",
      "Docid: doc-ko-589\n",
      "--------------------------------------------------\n",
      "Text:\n",
      "강감찬(姜邯贊 또는 姜邯瓚, 948년 음력 11월 19일 ~ 1031년 음력 8월 20일)은 고려의 문관이다. 본관은 금주이다.\n",
      "\n",
      "983년(성종 3) 과거에 장원급제하여 예부시랑, 한림학사를 거쳐 문하평장사가 되었다. 요나라의 3차 침입을 격퇴하였고, 천수현개국남(天水縣開國男)에 봉해졌다. 1030년(정종 21)에 문하시중에 이르렀다. 현종의 묘정(廟廷)에 배향되고 문종(文宗) 때 수태사(守太師) 겸 중서령(中書令)에 추증되었다. 시호는 인헌(仁憲)이다.\n",
      "\n",
      "생애\n",
      "\n",
      "생애 초 \n",
      "강감찬은 948년 12월 22일(음력 11월 19일)에 삼\n",
      "\n",
      "Language: ar\n",
      "Docid: doc-ar-2770\n",
      "--------------------------------------------------\n",
      "Text:\n",
      "دو شركة الإمارات للاتصالات المتكاملة شركة اتصالات دولة الإمارات العربية المتحدة، وقد حصلت رخصة تشغيل خدمات الاتصالات الدولة 12 2006. وقد رُمز بدايةً بأول أحرف اسم الشركة القانوني eitc يتم تغيير اسم العلامة التجارية حاليا «دو» يستخدم الشعار باللغة الإنجليزية du. وتعد الشركة مزود اتصالات رباعي يقدم خد\n",
      "\n"
     ]
    }
   ],
   "execution_count": 12
  },
  {
   "metadata": {
    "ExecuteTime": {
     "end_time": "2024-10-15T01:54:16.578150Z",
     "start_time": "2024-10-15T01:53:24.306445Z"
    }
   },
   "cell_type": "code",
   "source": "corpus.store(path='clean_data/lower_case_stop_words_lemmatization')",
   "id": "6608042cccc6ac73",
   "outputs": [
    {
     "data": {
      "text/plain": [
       "Storing current clean dataset into disk:   0%|          | 0/7 [00:00<?, ?it/s]"
      ],
      "application/vnd.jupyter.widget-view+json": {
       "version_major": 2,
       "version_minor": 0,
       "model_id": "f147e8e246cd49cd877a534f55abb64c"
      }
     },
     "metadata": {},
     "output_type": "display_data"
    }
   ],
   "execution_count": 13
  }
 ],
 "metadata": {
  "kernelspec": {
   "display_name": "Python 3",
   "language": "python",
   "name": "python3"
  },
  "language_info": {
   "codemirror_mode": {
    "name": "ipython",
    "version": 2
   },
   "file_extension": ".py",
   "mimetype": "text/x-python",
   "name": "python",
   "nbconvert_exporter": "python",
   "pygments_lexer": "ipython2",
   "version": "2.7.6"
  }
 },
 "nbformat": 4,
 "nbformat_minor": 5
}

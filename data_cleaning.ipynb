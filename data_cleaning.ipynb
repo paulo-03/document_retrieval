{
 "cells": [
  {
   "metadata": {},
   "cell_type": "markdown",
   "source": [
    "# Data Pre-Processing\n",
    "\n",
    "Jupyter notebook that will contain all our methods and compare them about performance with few metrics.\n",
    "\n",
    "***Author:*** Paulo Ribeiro"
   ],
   "id": "ae2c63841d3d31c4"
  },
  {
   "metadata": {},
   "cell_type": "markdown",
   "source": "## Import ",
   "id": "b1fa188c7cea3ada"
  },
  {
   "metadata": {
    "ExecuteTime": {
     "end_time": "2024-10-10T18:11:26.338631Z",
     "start_time": "2024-10-10T18:11:11.168192Z"
    }
   },
   "cell_type": "code",
   "source": [
    "from data_helpers import CorpusClean\n",
    "import warnings\n",
    "warnings.filterwarnings('ignore')\n",
    "\n",
    "%load_ext autoreload\n",
    "%autoreload 2"
   ],
   "id": "7792b50061ef8a5e",
   "outputs": [],
   "execution_count": 1
  },
  {
   "metadata": {},
   "cell_type": "markdown",
   "source": [
    "## Data\n",
    "\n",
    "First we initiate the corpus loader."
   ],
   "id": "d02715f70be61e97"
  },
  {
   "metadata": {
    "ExecuteTime": {
     "end_time": "2024-10-10T18:13:33.056165Z",
     "start_time": "2024-10-10T18:11:26.350862Z"
    }
   },
   "cell_type": "code",
   "source": [
    "corpus = CorpusClean(\n",
    "    corpus_path=\"data/corpus.json/corpus.json\",\n",
    ")"
   ],
   "id": "8c51e6fc4bb7a5d4",
   "outputs": [
    {
     "name": "stdout",
     "output_type": "stream",
     "text": [
      "Loading corpus... (can take up to 3 minutes)\n",
      "Corpus Loaded ! \n",
      "\n"
     ]
    }
   ],
   "execution_count": 2
  },
  {
   "metadata": {},
   "cell_type": "markdown",
   "source": [
    "## Split by Languages\n",
    "\n",
    "First step is to separate the corpus in function of their languages."
   ],
   "id": "6cacc6d8b204aaef"
  },
  {
   "metadata": {
    "ExecuteTime": {
     "end_time": "2024-10-10T18:15:05.680515Z",
     "start_time": "2024-10-10T18:13:33.543876Z"
    }
   },
   "cell_type": "code",
   "source": "corpus.split_per_lang()",
   "id": "5a314c506ba00939",
   "outputs": [
    {
     "data": {
      "text/plain": [
       "Stats for 'en' docs:   0%|          | 0/207363 [00:00<?, ?it/s]"
      ],
      "application/vnd.jupyter.widget-view+json": {
       "version_major": 2,
       "version_minor": 0,
       "model_id": "20a2275280a44eef892081a6aff9ebb3"
      }
     },
     "metadata": {},
     "output_type": "display_data"
    },
    {
     "data": {
      "text/plain": [
       "Stats for 'fr' docs:   0%|          | 0/10676 [00:00<?, ?it/s]"
      ],
      "application/vnd.jupyter.widget-view+json": {
       "version_major": 2,
       "version_minor": 0,
       "model_id": "1b27611492b64b319a320b552c6f6bba"
      }
     },
     "metadata": {},
     "output_type": "display_data"
    },
    {
     "data": {
      "text/plain": [
       "Stats for 'de' docs:   0%|          | 0/10992 [00:00<?, ?it/s]"
      ],
      "application/vnd.jupyter.widget-view+json": {
       "version_major": 2,
       "version_minor": 0,
       "model_id": "83bc0e8967684c2ca6c1b161ddfa8e2c"
      }
     },
     "metadata": {},
     "output_type": "display_data"
    },
    {
     "data": {
      "text/plain": [
       "Stats for 'es' docs:   0%|          | 0/11019 [00:00<?, ?it/s]"
      ],
      "application/vnd.jupyter.widget-view+json": {
       "version_major": 2,
       "version_minor": 0,
       "model_id": "7e2a19bf85384528b9e71aaac802fe5d"
      }
     },
     "metadata": {},
     "output_type": "display_data"
    },
    {
     "data": {
      "text/plain": [
       "Stats for 'it' docs:   0%|          | 0/11250 [00:00<?, ?it/s]"
      ],
      "application/vnd.jupyter.widget-view+json": {
       "version_major": 2,
       "version_minor": 0,
       "model_id": "da0ff7b7026c484d996961285a2d4696"
      }
     },
     "metadata": {},
     "output_type": "display_data"
    },
    {
     "data": {
      "text/plain": [
       "Stats for 'ko' docs:   0%|          | 0/7893 [00:00<?, ?it/s]"
      ],
      "application/vnd.jupyter.widget-view+json": {
       "version_major": 2,
       "version_minor": 0,
       "model_id": "c6358137df7c4d499b9380aba7da1097"
      }
     },
     "metadata": {},
     "output_type": "display_data"
    },
    {
     "data": {
      "text/plain": [
       "Stats for 'ar' docs:   0%|          | 0/8829 [00:00<?, ?it/s]"
      ],
      "application/vnd.jupyter.widget-view+json": {
       "version_major": 2,
       "version_minor": 0,
       "model_id": "3b49c7f558a54c649b1ece96f6f5b34f"
      }
     },
     "metadata": {},
     "output_type": "display_data"
    }
   ],
   "execution_count": 3
  },
  {
   "metadata": {
    "ExecuteTime": {
     "end_time": "2024-10-10T18:15:06.496187Z",
     "start_time": "2024-10-10T18:15:06.443902Z"
    }
   },
   "cell_type": "code",
   "source": "corpus.show_current_docs()",
   "id": "eec885d7a18a3f92",
   "outputs": [
    {
     "name": "stdout",
     "output_type": "stream",
     "text": [
      "--------------------------------------------------\n",
      "Current state of documents (first 300 characters):\n",
      "--------------------------------------------------\n",
      "\n",
      "Language: en\n",
      "Docid: doc-en-9633\n",
      "--------------------------------------------------\n",
      "Text:\n",
      "Mars Hill Church was a Christian megachurch, founded by Mark Driscoll, Lief Moi, and Mike Gunn. It was a multi-site church based in Seattle, Washington and grew from a home Bible study to 15 locations in 4 U.S. states. Services were offered at its 15 locations; the church also podcast content of wee\n",
      "\n",
      "Language: fr\n",
      "Docid: doc-fr-1447\n",
      "--------------------------------------------------\n",
      "Text:\n",
      "La production de café au Costa Rica représente en 2016 environ 1,2 % de la production mondiale de café, ce qui fait le  grand producteur du monde derrière la Côte d'Ivoire.\n",
      "\n",
      "Particularités \n",
      "Les grains de café du Costa Rica, sont considérés comme parmi les meilleurs dans le monde. Tarrazú est pensé p\n",
      "\n",
      "Language: de\n",
      "Docid: doc-de-9933\n",
      "--------------------------------------------------\n",
      "Text:\n",
      "Artikelnummer 125455Rosendahl - Grand Cru Thermotasse, 35 cl\n",
      "KundenbewertungenAline Rossleben5 von 5 Sterne 06.04.2016, Aline H., Rosendahl - Grand Cru Thermotasse, 35 clHandlich schönes Material. Einfach zu reinigen . Liegt gut in der Hand . Der Preis ist super . Würde es immer wieder weiter empfeh\n",
      "\n",
      "Language: es\n",
      "Docid: doc-es-214\n",
      "--------------------------------------------------\n",
      "Text:\n",
      "Beautiful Boy: Siempre serás mi hijo\n",
      "\n",
      "Argumento\n",
      "\n",
      "La película narra la adicción a la metanfetamina y la recuperación a través de los ojos de un padre (Steve Carell) que ve a su hijo Nic (Timothée Chalamet) mientras lucha contra la adicción.\n",
      "\n",
      "Producción\n",
      "\n",
      "En 2008, se anunció que Paramount Pictures y Pl\n",
      "\n",
      "Language: it\n",
      "Docid: doc-it-632\n",
      "--------------------------------------------------\n",
      "Text:\n",
      "Dal 1982 al 1994 ha fatto parte del Trio con Massimo Lopez e Anna Marchesini, eccezionalmente ricostituitosi per l'ultima volta nel 2008 in occasione dello spettacolo televisivo Non esiste più la mezza stagione, che ricordava i venticinque anni dalla fondazione del gruppo.\n",
      "\n",
      "Biografia\n",
      "A 17 anni frequ\n",
      "\n",
      "Language: ko\n",
      "Docid: doc-ko-589\n",
      "--------------------------------------------------\n",
      "Text:\n",
      "강감찬(姜邯贊 또는 姜邯瓚, 948년 음력 11월 19일 ~ 1031년 음력 8월 20일)은 고려의 문관이다. 본관은 금주이다.\n",
      "\n",
      "983년(성종 3) 과거에 장원급제하여 예부시랑, 한림학사를 거쳐 문하평장사가 되었다. 요나라의 3차 침입을 격퇴하였고, 천수현개국남(天水縣開國男)에 봉해졌다. 1030년(정종 21)에 문하시중에 이르렀다. 현종의 묘정(廟廷)에 배향되고 문종(文宗) 때 수태사(守太師) 겸 중서령(中書令)에 추증되었다. 시호는 인헌(仁憲)이다.\n",
      "\n",
      "생애\n",
      "\n",
      "생애 초 \n",
      "강감찬은 948년 12월 22일(음력 11월 19일)에 삼\n",
      "\n",
      "Language: ar\n",
      "Docid: doc-ar-2770\n",
      "--------------------------------------------------\n",
      "Text:\n",
      "دو  أو شركة الإمارات للاتصالات المتكاملة  هي شركة اتصالات في دولة الإمارات العربية المتحدة، وقد حصلت على رخصة تشغيل خدمات الاتصالات في الدولة في 12 فبراير 2006. وقد رُمز لها بدايةً بأول أحرف اسم الشركة القانوني EITC قبل أن يتم تغيير اسم العلامة التجارية إلى ما هو عليه حاليا «دو» أو كما يستخدم في الش\n",
      "\n"
     ]
    }
   ],
   "execution_count": 4
  },
  {
   "metadata": {},
   "cell_type": "markdown",
   "source": [
    "## Lower-Case\n",
    "\n",
    "Second step is to make sure that texts are written in lowercase. Such step is necessary since methods like TF-IDF or even BM25 are case sensitive."
   ],
   "id": "5a877b57ef986442"
  },
  {
   "metadata": {
    "ExecuteTime": {
     "end_time": "2024-10-10T18:16:38.140260Z",
     "start_time": "2024-10-10T18:15:06.988027Z"
    }
   },
   "cell_type": "code",
   "source": "corpus.lower_case()",
   "id": "7768e5f59036146d",
   "outputs": [
    {
     "data": {
      "text/plain": [
       "Lower casing 'en' docs:   0%|          | 0/207363 [00:00<?, ?it/s]"
      ],
      "application/vnd.jupyter.widget-view+json": {
       "version_major": 2,
       "version_minor": 0,
       "model_id": "050e59075854426093e2795b0a3ffb02"
      }
     },
     "metadata": {},
     "output_type": "display_data"
    },
    {
     "data": {
      "text/plain": [
       "Lower casing 'fr' docs:   0%|          | 0/10676 [00:00<?, ?it/s]"
      ],
      "application/vnd.jupyter.widget-view+json": {
       "version_major": 2,
       "version_minor": 0,
       "model_id": "13068970c1084ffdbc3c379f05322b83"
      }
     },
     "metadata": {},
     "output_type": "display_data"
    },
    {
     "data": {
      "text/plain": [
       "Lower casing 'de' docs:   0%|          | 0/10992 [00:00<?, ?it/s]"
      ],
      "application/vnd.jupyter.widget-view+json": {
       "version_major": 2,
       "version_minor": 0,
       "model_id": "2bfd5364655447d4bfe543d22b31eb2c"
      }
     },
     "metadata": {},
     "output_type": "display_data"
    },
    {
     "data": {
      "text/plain": [
       "Lower casing 'es' docs:   0%|          | 0/11019 [00:00<?, ?it/s]"
      ],
      "application/vnd.jupyter.widget-view+json": {
       "version_major": 2,
       "version_minor": 0,
       "model_id": "ca956ce63b4641619ad3fc56d66dc4ce"
      }
     },
     "metadata": {},
     "output_type": "display_data"
    },
    {
     "data": {
      "text/plain": [
       "Lower casing 'it' docs:   0%|          | 0/11250 [00:00<?, ?it/s]"
      ],
      "application/vnd.jupyter.widget-view+json": {
       "version_major": 2,
       "version_minor": 0,
       "model_id": "5f8ddfe46353487fb9cffbc40197a7a8"
      }
     },
     "metadata": {},
     "output_type": "display_data"
    },
    {
     "data": {
      "text/plain": [
       "Lower casing 'ko' docs:   0%|          | 0/7893 [00:00<?, ?it/s]"
      ],
      "application/vnd.jupyter.widget-view+json": {
       "version_major": 2,
       "version_minor": 0,
       "model_id": "1a66fd369ece44baaf9cfc8fafd8a153"
      }
     },
     "metadata": {},
     "output_type": "display_data"
    },
    {
     "data": {
      "text/plain": [
       "Lower casing 'ar' docs:   0%|          | 0/8829 [00:00<?, ?it/s]"
      ],
      "application/vnd.jupyter.widget-view+json": {
       "version_major": 2,
       "version_minor": 0,
       "model_id": "47e74cad11d74d729fc5d51c3c2842e1"
      }
     },
     "metadata": {},
     "output_type": "display_data"
    }
   ],
   "execution_count": 5
  },
  {
   "metadata": {
    "ExecuteTime": {
     "end_time": "2024-10-10T18:16:38.577606Z",
     "start_time": "2024-10-10T18:16:38.429359Z"
    }
   },
   "cell_type": "code",
   "source": "corpus.show_current_docs()",
   "id": "43a5d936c2f61353",
   "outputs": [
    {
     "name": "stdout",
     "output_type": "stream",
     "text": [
      "--------------------------------------------------\n",
      "Current state of documents (first 300 characters):\n",
      "--------------------------------------------------\n",
      "\n",
      "Language: en\n",
      "Docid: doc-en-9633\n",
      "--------------------------------------------------\n",
      "Text:\n",
      "mars hill church was a christian megachurch, founded by mark driscoll, lief moi, and mike gunn. it was a multi-site church based in seattle, washington and grew from a home bible study to 15 locations in 4 u.s. states. services were offered at its 15 locations; the church also podcast content of wee\n",
      "\n",
      "Language: fr\n",
      "Docid: doc-fr-1447\n",
      "--------------------------------------------------\n",
      "Text:\n",
      "la production de café au costa rica représente en 2016 environ 1,2 % de la production mondiale de café, ce qui fait le  grand producteur du monde derrière la côte d'ivoire.\n",
      "\n",
      "particularités \n",
      "les grains de café du costa rica, sont considérés comme parmi les meilleurs dans le monde. tarrazú est pensé p\n",
      "\n",
      "Language: de\n",
      "Docid: doc-de-9933\n",
      "--------------------------------------------------\n",
      "Text:\n",
      "artikelnummer 125455rosendahl - grand cru thermotasse, 35 cl\n",
      "kundenbewertungenaline rossleben5 von 5 sterne 06.04.2016, aline h., rosendahl - grand cru thermotasse, 35 clhandlich schönes material. einfach zu reinigen . liegt gut in der hand . der preis ist super . würde es immer wieder weiter empfeh\n",
      "\n",
      "Language: es\n",
      "Docid: doc-es-214\n",
      "--------------------------------------------------\n",
      "Text:\n",
      "beautiful boy: siempre serás mi hijo\n",
      "\n",
      "argumento\n",
      "\n",
      "la película narra la adicción a la metanfetamina y la recuperación a través de los ojos de un padre (steve carell) que ve a su hijo nic (timothée chalamet) mientras lucha contra la adicción.\n",
      "\n",
      "producción\n",
      "\n",
      "en 2008, se anunció que paramount pictures y pl\n",
      "\n",
      "Language: it\n",
      "Docid: doc-it-632\n",
      "--------------------------------------------------\n",
      "Text:\n",
      "dal 1982 al 1994 ha fatto parte del trio con massimo lopez e anna marchesini, eccezionalmente ricostituitosi per l'ultima volta nel 2008 in occasione dello spettacolo televisivo non esiste più la mezza stagione, che ricordava i venticinque anni dalla fondazione del gruppo.\n",
      "\n",
      "biografia\n",
      "a 17 anni frequ\n",
      "\n",
      "Language: ko\n",
      "Docid: doc-ko-589\n",
      "--------------------------------------------------\n",
      "Text:\n",
      "강감찬(姜邯贊 또는 姜邯瓚, 948년 음력 11월 19일 ~ 1031년 음력 8월 20일)은 고려의 문관이다. 본관은 금주이다.\n",
      "\n",
      "983년(성종 3) 과거에 장원급제하여 예부시랑, 한림학사를 거쳐 문하평장사가 되었다. 요나라의 3차 침입을 격퇴하였고, 천수현개국남(天水縣開國男)에 봉해졌다. 1030년(정종 21)에 문하시중에 이르렀다. 현종의 묘정(廟廷)에 배향되고 문종(文宗) 때 수태사(守太師) 겸 중서령(中書令)에 추증되었다. 시호는 인헌(仁憲)이다.\n",
      "\n",
      "생애\n",
      "\n",
      "생애 초 \n",
      "강감찬은 948년 12월 22일(음력 11월 19일)에 삼\n",
      "\n",
      "Language: ar\n",
      "Docid: doc-ar-2770\n",
      "--------------------------------------------------\n",
      "Text:\n",
      "دو  أو شركة الإمارات للاتصالات المتكاملة  هي شركة اتصالات في دولة الإمارات العربية المتحدة، وقد حصلت على رخصة تشغيل خدمات الاتصالات في الدولة في 12 فبراير 2006. وقد رُمز لها بدايةً بأول أحرف اسم الشركة القانوني eitc قبل أن يتم تغيير اسم العلامة التجارية إلى ما هو عليه حاليا «دو» أو كما يستخدم في الش\n",
      "\n"
     ]
    }
   ],
   "execution_count": 6
  },
  {
   "metadata": {},
   "cell_type": "markdown",
   "source": [
    "## Remove StopWords\n",
    "\n",
    "Third step is to remove the stop-words to only keep the more relevant words."
   ],
   "id": "d093445946e95a29"
  },
  {
   "metadata": {
    "ExecuteTime": {
     "end_time": "2024-10-10T18:21:10.525511Z",
     "start_time": "2024-10-10T18:16:38.669990Z"
    }
   },
   "cell_type": "code",
   "source": "corpus.stop_words()",
   "id": "902b08efcbb529ef",
   "outputs": [
    {
     "data": {
      "text/plain": [
       "Removing stop words for 'en' docs:   0%|          | 0/207363 [00:00<?, ?it/s]"
      ],
      "application/vnd.jupyter.widget-view+json": {
       "version_major": 2,
       "version_minor": 0,
       "model_id": "1946b8facec14fdcaaaaae2b982a3caf"
      }
     },
     "metadata": {},
     "output_type": "display_data"
    },
    {
     "data": {
      "text/plain": [
       "Removing stop words for 'fr' docs:   0%|          | 0/10676 [00:00<?, ?it/s]"
      ],
      "application/vnd.jupyter.widget-view+json": {
       "version_major": 2,
       "version_minor": 0,
       "model_id": "1bafc3ad73e54ea9862c04b4b03e1db3"
      }
     },
     "metadata": {},
     "output_type": "display_data"
    },
    {
     "data": {
      "text/plain": [
       "Removing stop words for 'de' docs:   0%|          | 0/10992 [00:00<?, ?it/s]"
      ],
      "application/vnd.jupyter.widget-view+json": {
       "version_major": 2,
       "version_minor": 0,
       "model_id": "fe798556640d4c489a47c17e81da5e2c"
      }
     },
     "metadata": {},
     "output_type": "display_data"
    },
    {
     "data": {
      "text/plain": [
       "Removing stop words for 'es' docs:   0%|          | 0/11019 [00:00<?, ?it/s]"
      ],
      "application/vnd.jupyter.widget-view+json": {
       "version_major": 2,
       "version_minor": 0,
       "model_id": "acd95f63a8e7488280630b47ac872061"
      }
     },
     "metadata": {},
     "output_type": "display_data"
    },
    {
     "data": {
      "text/plain": [
       "Removing stop words for 'it' docs:   0%|          | 0/11250 [00:00<?, ?it/s]"
      ],
      "application/vnd.jupyter.widget-view+json": {
       "version_major": 2,
       "version_minor": 0,
       "model_id": "59b7a620515c429b9c92b6c9a4c7aa2a"
      }
     },
     "metadata": {},
     "output_type": "display_data"
    },
    {
     "data": {
      "text/plain": [
       "Removing stop words for 'ar' docs:   0%|          | 0/8829 [00:00<?, ?it/s]"
      ],
      "application/vnd.jupyter.widget-view+json": {
       "version_major": 2,
       "version_minor": 0,
       "model_id": "86de6b83f86a48dd8f4ef9a7c76ef23c"
      }
     },
     "metadata": {},
     "output_type": "display_data"
    },
    {
     "data": {
      "text/plain": [
       "Stats for 'en' docs:   0%|          | 0/207363 [00:00<?, ?it/s]"
      ],
      "application/vnd.jupyter.widget-view+json": {
       "version_major": 2,
       "version_minor": 0,
       "model_id": "7b8e4e196a9e4eb7b6def813c480f88d"
      }
     },
     "metadata": {},
     "output_type": "display_data"
    },
    {
     "data": {
      "text/plain": [
       "Stats for 'fr' docs:   0%|          | 0/10676 [00:00<?, ?it/s]"
      ],
      "application/vnd.jupyter.widget-view+json": {
       "version_major": 2,
       "version_minor": 0,
       "model_id": "b4b8c8c55294439c9ab3a4ad8f2baae3"
      }
     },
     "metadata": {},
     "output_type": "display_data"
    },
    {
     "data": {
      "text/plain": [
       "Stats for 'de' docs:   0%|          | 0/10992 [00:00<?, ?it/s]"
      ],
      "application/vnd.jupyter.widget-view+json": {
       "version_major": 2,
       "version_minor": 0,
       "model_id": "65f9b518442b48b2815ab137f5ebd905"
      }
     },
     "metadata": {},
     "output_type": "display_data"
    },
    {
     "data": {
      "text/plain": [
       "Stats for 'es' docs:   0%|          | 0/11019 [00:00<?, ?it/s]"
      ],
      "application/vnd.jupyter.widget-view+json": {
       "version_major": 2,
       "version_minor": 0,
       "model_id": "ef74648416924c0597b8ddf526d599cc"
      }
     },
     "metadata": {},
     "output_type": "display_data"
    },
    {
     "data": {
      "text/plain": [
       "Stats for 'it' docs:   0%|          | 0/11250 [00:00<?, ?it/s]"
      ],
      "application/vnd.jupyter.widget-view+json": {
       "version_major": 2,
       "version_minor": 0,
       "model_id": "8ed8b25416604ac086514029e76000df"
      }
     },
     "metadata": {},
     "output_type": "display_data"
    },
    {
     "data": {
      "text/plain": [
       "Stats for 'ko' docs:   0%|          | 0/7893 [00:00<?, ?it/s]"
      ],
      "application/vnd.jupyter.widget-view+json": {
       "version_major": 2,
       "version_minor": 0,
       "model_id": "ff0de370ad1148d3991d900707a07476"
      }
     },
     "metadata": {},
     "output_type": "display_data"
    },
    {
     "data": {
      "text/plain": [
       "Stats for 'ar' docs:   0%|          | 0/8829 [00:00<?, ?it/s]"
      ],
      "application/vnd.jupyter.widget-view+json": {
       "version_major": 2,
       "version_minor": 0,
       "model_id": "6a54d17910034346843dad55801e7bee"
      }
     },
     "metadata": {},
     "output_type": "display_data"
    }
   ],
   "execution_count": 7
  },
  {
   "metadata": {
    "ExecuteTime": {
     "end_time": "2024-10-10T18:21:11.400551Z",
     "start_time": "2024-10-10T18:21:11.256963Z"
    }
   },
   "cell_type": "code",
   "source": "corpus.show_current_docs()",
   "id": "c22f2ff332f7d4e0",
   "outputs": [
    {
     "name": "stdout",
     "output_type": "stream",
     "text": [
      "--------------------------------------------------\n",
      "Current state of documents (first 300 characters):\n",
      "--------------------------------------------------\n",
      "\n",
      "Language: en\n",
      "Docid: doc-en-9633\n",
      "--------------------------------------------------\n",
      "Text:\n",
      "mars hill church christian megachurch, founded mark driscoll, lief moi, mike gunn. multi-site church based seattle, washington grew home bible study 15 locations 4 u.s. states. services offered 15 locations; church also podcast content weekend services, conferences, internet 260,000 sermon views onl\n",
      "\n",
      "Language: fr\n",
      "Docid: doc-fr-1447\n",
      "--------------------------------------------------\n",
      "Text:\n",
      "production café costa rica représente 2016 environ 1,2 % production mondiale café, fait grand producteur monde derrière côte d'ivoire. particularités grains café costa rica, considérés comme parmi meilleurs monde. tarrazú pensé produire plus désirable grains café costa rica. 2012, café tarrazú deven\n",
      "\n",
      "Language: de\n",
      "Docid: doc-de-9933\n",
      "--------------------------------------------------\n",
      "Text:\n",
      "artikelnummer 125455rosendahl - grand cru thermotasse, 35 cl kundenbewertungenaline rossleben5 5 sterne 06.04.2016, aline h., rosendahl - grand cru thermotasse, 35 clhandlich schönes material. einfach reinigen . liegt gut hand . preis super . immer empfehlen .war bewertung hilfreich?janein\n",
      "\n",
      "Language: es\n",
      "Docid: doc-es-214\n",
      "--------------------------------------------------\n",
      "Text:\n",
      "beautiful boy: siempre hijo argumento película narra adicción metanfetamina recuperación través ojos padre (steve carell) ve hijo nic (timothée chalamet) mientras lucha adicción. producción 2008, anunció paramount pictures plan b entertainment adquirido derechos libros \"beautiful boy: father's journ\n",
      "\n",
      "Language: it\n",
      "Docid: doc-it-632\n",
      "--------------------------------------------------\n",
      "Text:\n",
      "1982 1994 fatto parte trio massimo lopez anna marchesini, eccezionalmente ricostituitosi l'ultima volta 2008 occasione spettacolo televisivo esiste mezza stagione, ricordava venticinque anni fondazione gruppo. biografia 17 anni frequenta scuola teatro teatro stabile genova, conosce massimo lopez. es\n",
      "\n",
      "Language: ko\n",
      "Docid: doc-ko-589\n",
      "--------------------------------------------------\n",
      "Text:\n",
      "강감찬(姜邯贊 또는 姜邯瓚, 948년 음력 11월 19일 ~ 1031년 음력 8월 20일)은 고려의 문관이다. 본관은 금주이다.\n",
      "\n",
      "983년(성종 3) 과거에 장원급제하여 예부시랑, 한림학사를 거쳐 문하평장사가 되었다. 요나라의 3차 침입을 격퇴하였고, 천수현개국남(天水縣開國男)에 봉해졌다. 1030년(정종 21)에 문하시중에 이르렀다. 현종의 묘정(廟廷)에 배향되고 문종(文宗) 때 수태사(守太師) 겸 중서령(中書令)에 추증되었다. 시호는 인헌(仁憲)이다.\n",
      "\n",
      "생애\n",
      "\n",
      "생애 초 \n",
      "강감찬은 948년 12월 22일(음력 11월 19일)에 삼\n",
      "\n",
      "Language: ar\n",
      "Docid: doc-ar-2770\n",
      "--------------------------------------------------\n",
      "Text:\n",
      "دو شركة الإمارات للاتصالات المتكاملة شركة اتصالات دولة الإمارات العربية المتحدة، وقد حصلت رخصة تشغيل خدمات الاتصالات الدولة 12 2006. وقد رُمز بدايةً بأول أحرف اسم الشركة القانوني eitc يتم تغيير اسم العلامة التجارية حاليا «دو» يستخدم الشعار باللغة الإنجليزية du. وتعد الشركة مزود اتصالات رباعي يقدم خد\n",
      "\n"
     ]
    }
   ],
   "execution_count": 8
  },
  {
   "metadata": {},
   "cell_type": "markdown",
   "source": [
    "## Lemmatization\n",
    "\n",
    "Final step, use a lemmatizer to only keep the essence of a word to make sure that same words are not written in too many ways possible, i.e. plural and singular, present and other verb tense, ..."
   ],
   "id": "64922285262f476a"
  },
  {
   "metadata": {},
   "cell_type": "code",
   "outputs": [],
   "execution_count": null,
   "source": "corpus.lemmatization()",
   "id": "b27255dfe7a52b85"
  },
  {
   "metadata": {},
   "cell_type": "code",
   "outputs": [],
   "execution_count": null,
   "source": "corpus.show_current_docs()",
   "id": "8528491a3d3be5f1"
  },
  {
   "metadata": {},
   "cell_type": "markdown",
   "source": [
    "## Store\n",
    "\n",
    "Once our corpus is well pre-processed, we can store into the disk the new split and cleaned corpus. "
   ],
   "id": "7b676cc05025c88d"
  },
  {
   "metadata": {},
   "cell_type": "code",
   "outputs": [],
   "execution_count": null,
   "source": "corpus.store(folder_path=\"\")",
   "id": "8bc14f038b4c5bdb"
  }
 ],
 "metadata": {
  "kernelspec": {
   "display_name": "Python 3",
   "language": "python",
   "name": "python3"
  },
  "language_info": {
   "codemirror_mode": {
    "name": "ipython",
    "version": 2
   },
   "file_extension": ".py",
   "mimetype": "text/x-python",
   "name": "python",
   "nbconvert_exporter": "python",
   "pygments_lexer": "ipython2",
   "version": "2.7.6"
  }
 },
 "nbformat": 4,
 "nbformat_minor": 5
}

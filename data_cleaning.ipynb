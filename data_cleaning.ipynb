{
 "cells": [
  {
   "metadata": {},
   "cell_type": "markdown",
   "source": [
    "# Data Pre-Processing\n",
    "\n",
    "Jupyter notebook that will contain all our methods and compare them about performance with few metrics.\n",
    "\n",
    "***Author:*** Paulo Ribeiro"
   ],
   "id": "ae2c63841d3d31c4"
  },
  {
   "metadata": {},
   "cell_type": "markdown",
   "source": "## Import ",
   "id": "b1fa188c7cea3ada"
  },
  {
   "metadata": {
    "ExecuteTime": {
     "end_time": "2024-10-11T16:02:08.548354Z",
     "start_time": "2024-10-11T16:02:03.798637Z"
    }
   },
   "cell_type": "code",
   "source": [
    "from data_helpers import CorpusClean\n",
    "import warnings\n",
    "warnings.filterwarnings('ignore')\n",
    "\n",
    "%load_ext autoreload\n",
    "%autoreload 2"
   ],
   "id": "7792b50061ef8a5e",
   "outputs": [],
   "execution_count": 1
  },
  {
   "metadata": {},
   "cell_type": "markdown",
   "source": [
    "## Data\n",
    "\n",
    "First we initiate the corpus loader."
   ],
   "id": "d02715f70be61e97"
  },
  {
   "metadata": {
    "ExecuteTime": {
     "end_time": "2024-10-11T16:02:37.209756Z",
     "start_time": "2024-10-11T16:02:08.552454Z"
    }
   },
   "cell_type": "code",
   "source": [
    "corpus = CorpusClean(\n",
    "    corpus_path=\"data/corpus.json/corpus.json\",\n",
    ")"
   ],
   "id": "8c51e6fc4bb7a5d4",
   "outputs": [
    {
     "name": "stdout",
     "output_type": "stream",
     "text": [
      "Loading corpus... (can take up to 3 minutes)\n",
      "Corpus Loaded ! \n",
      "\n"
     ]
    }
   ],
   "execution_count": 2
  },
  {
   "metadata": {},
   "cell_type": "markdown",
   "source": [
    "## Split by Languages\n",
    "\n",
    "First step is to separate the corpus in function of their languages."
   ],
   "id": "6cacc6d8b204aaef"
  },
  {
   "metadata": {
    "ExecuteTime": {
     "end_time": "2024-10-11T16:03:00.228644Z",
     "start_time": "2024-10-11T16:02:37.259636Z"
    }
   },
   "cell_type": "code",
   "source": "corpus.split_per_lang()",
   "id": "5a314c506ba00939",
   "outputs": [
    {
     "data": {
      "text/plain": [
       "Stats for 'en' docs:   0%|          | 0/207363 [00:00<?, ?it/s]"
      ],
      "application/vnd.jupyter.widget-view+json": {
       "version_major": 2,
       "version_minor": 0,
       "model_id": "3ede4b5f2e5c412caf1d4434b53b1a8b"
      }
     },
     "metadata": {},
     "output_type": "display_data"
    },
    {
     "data": {
      "text/plain": [
       "Stats for 'fr' docs:   0%|          | 0/10676 [00:00<?, ?it/s]"
      ],
      "application/vnd.jupyter.widget-view+json": {
       "version_major": 2,
       "version_minor": 0,
       "model_id": "c34c67e295b84cf8a6a705a94c261328"
      }
     },
     "metadata": {},
     "output_type": "display_data"
    },
    {
     "data": {
      "text/plain": [
       "Stats for 'de' docs:   0%|          | 0/10992 [00:00<?, ?it/s]"
      ],
      "application/vnd.jupyter.widget-view+json": {
       "version_major": 2,
       "version_minor": 0,
       "model_id": "5756a875fbce47a890b78b6e2f9d240c"
      }
     },
     "metadata": {},
     "output_type": "display_data"
    },
    {
     "data": {
      "text/plain": [
       "Stats for 'es' docs:   0%|          | 0/11019 [00:00<?, ?it/s]"
      ],
      "application/vnd.jupyter.widget-view+json": {
       "version_major": 2,
       "version_minor": 0,
       "model_id": "427386f146154ca7b56d1329a8c9f5dc"
      }
     },
     "metadata": {},
     "output_type": "display_data"
    },
    {
     "data": {
      "text/plain": [
       "Stats for 'it' docs:   0%|          | 0/11250 [00:00<?, ?it/s]"
      ],
      "application/vnd.jupyter.widget-view+json": {
       "version_major": 2,
       "version_minor": 0,
       "model_id": "5f6d9d31f9cb4adabdb445875fc38294"
      }
     },
     "metadata": {},
     "output_type": "display_data"
    },
    {
     "data": {
      "text/plain": [
       "Stats for 'ko' docs:   0%|          | 0/7893 [00:00<?, ?it/s]"
      ],
      "application/vnd.jupyter.widget-view+json": {
       "version_major": 2,
       "version_minor": 0,
       "model_id": "354c75c6d7aa4d25b7fc9726785cfb80"
      }
     },
     "metadata": {},
     "output_type": "display_data"
    },
    {
     "data": {
      "text/plain": [
       "Stats for 'ar' docs:   0%|          | 0/8829 [00:00<?, ?it/s]"
      ],
      "application/vnd.jupyter.widget-view+json": {
       "version_major": 2,
       "version_minor": 0,
       "model_id": "692de2a2405346c7a2a79510a01f991d"
      }
     },
     "metadata": {},
     "output_type": "display_data"
    },
    {
     "data": {
      "text/plain": [
       "  lang  num_docs  max_words  min_words   mean_words  median_words  \\\n",
       "0   en    207363      66333         80  2163.921269        1478.0   \n",
       "1   fr     10676      68896        311  5596.369520        4886.5   \n",
       "2   de     10992      28677          3  4474.812591        4339.0   \n",
       "3   es     11019      75804        294  5689.988021        5298.0   \n",
       "4   it     11250      49172        404  5419.606400        4910.5   \n",
       "5   ko      7893      35738        183  2700.349677        2511.0   \n",
       "6   ar      8829      45428        293  4563.532676        4125.0   \n",
       "\n",
       "   95th_quantile_words  \n",
       "0              5892.00  \n",
       "1             13543.75  \n",
       "2             11067.15  \n",
       "3             12636.70  \n",
       "4             11942.40  \n",
       "5              6702.80  \n",
       "6             11775.40  "
      ],
      "text/html": [
       "<div>\n",
       "<style scoped>\n",
       "    .dataframe tbody tr th:only-of-type {\n",
       "        vertical-align: middle;\n",
       "    }\n",
       "\n",
       "    .dataframe tbody tr th {\n",
       "        vertical-align: top;\n",
       "    }\n",
       "\n",
       "    .dataframe thead th {\n",
       "        text-align: right;\n",
       "    }\n",
       "</style>\n",
       "<table border=\"1\" class=\"dataframe\">\n",
       "  <thead>\n",
       "    <tr style=\"text-align: right;\">\n",
       "      <th></th>\n",
       "      <th>lang</th>\n",
       "      <th>num_docs</th>\n",
       "      <th>max_words</th>\n",
       "      <th>min_words</th>\n",
       "      <th>mean_words</th>\n",
       "      <th>median_words</th>\n",
       "      <th>95th_quantile_words</th>\n",
       "    </tr>\n",
       "  </thead>\n",
       "  <tbody>\n",
       "    <tr>\n",
       "      <th>0</th>\n",
       "      <td>en</td>\n",
       "      <td>207363</td>\n",
       "      <td>66333</td>\n",
       "      <td>80</td>\n",
       "      <td>2163.921269</td>\n",
       "      <td>1478.0</td>\n",
       "      <td>5892.00</td>\n",
       "    </tr>\n",
       "    <tr>\n",
       "      <th>1</th>\n",
       "      <td>fr</td>\n",
       "      <td>10676</td>\n",
       "      <td>68896</td>\n",
       "      <td>311</td>\n",
       "      <td>5596.369520</td>\n",
       "      <td>4886.5</td>\n",
       "      <td>13543.75</td>\n",
       "    </tr>\n",
       "    <tr>\n",
       "      <th>2</th>\n",
       "      <td>de</td>\n",
       "      <td>10992</td>\n",
       "      <td>28677</td>\n",
       "      <td>3</td>\n",
       "      <td>4474.812591</td>\n",
       "      <td>4339.0</td>\n",
       "      <td>11067.15</td>\n",
       "    </tr>\n",
       "    <tr>\n",
       "      <th>3</th>\n",
       "      <td>es</td>\n",
       "      <td>11019</td>\n",
       "      <td>75804</td>\n",
       "      <td>294</td>\n",
       "      <td>5689.988021</td>\n",
       "      <td>5298.0</td>\n",
       "      <td>12636.70</td>\n",
       "    </tr>\n",
       "    <tr>\n",
       "      <th>4</th>\n",
       "      <td>it</td>\n",
       "      <td>11250</td>\n",
       "      <td>49172</td>\n",
       "      <td>404</td>\n",
       "      <td>5419.606400</td>\n",
       "      <td>4910.5</td>\n",
       "      <td>11942.40</td>\n",
       "    </tr>\n",
       "    <tr>\n",
       "      <th>5</th>\n",
       "      <td>ko</td>\n",
       "      <td>7893</td>\n",
       "      <td>35738</td>\n",
       "      <td>183</td>\n",
       "      <td>2700.349677</td>\n",
       "      <td>2511.0</td>\n",
       "      <td>6702.80</td>\n",
       "    </tr>\n",
       "    <tr>\n",
       "      <th>6</th>\n",
       "      <td>ar</td>\n",
       "      <td>8829</td>\n",
       "      <td>45428</td>\n",
       "      <td>293</td>\n",
       "      <td>4563.532676</td>\n",
       "      <td>4125.0</td>\n",
       "      <td>11775.40</td>\n",
       "    </tr>\n",
       "  </tbody>\n",
       "</table>\n",
       "</div>"
      ]
     },
     "execution_count": 3,
     "metadata": {},
     "output_type": "execute_result"
    }
   ],
   "execution_count": 3
  },
  {
   "metadata": {
    "ExecuteTime": {
     "end_time": "2024-10-11T16:03:00.543658Z",
     "start_time": "2024-10-11T16:03:00.532112Z"
    }
   },
   "cell_type": "code",
   "source": "corpus.show_current_docs()",
   "id": "eec885d7a18a3f92",
   "outputs": [
    {
     "name": "stdout",
     "output_type": "stream",
     "text": [
      "--------------------------------------------------\n",
      "Current state of documents (first 300 characters):\n",
      "--------------------------------------------------\n",
      "\n",
      "Language: en\n",
      "Docid: doc-en-9633\n",
      "--------------------------------------------------\n",
      "Text:\n",
      "Mars Hill Church was a Christian megachurch, founded by Mark Driscoll, Lief Moi, and Mike Gunn. It was a multi-site church based in Seattle, Washington and grew from a home Bible study to 15 locations in 4 U.S. states. Services were offered at its 15 locations; the church also podcast content of wee\n",
      "\n",
      "Language: fr\n",
      "Docid: doc-fr-1447\n",
      "--------------------------------------------------\n",
      "Text:\n",
      "La production de café au Costa Rica représente en 2016 environ 1,2 % de la production mondiale de café, ce qui fait le  grand producteur du monde derrière la Côte d'Ivoire.\n",
      "\n",
      "Particularités \n",
      "Les grains de café du Costa Rica, sont considérés comme parmi les meilleurs dans le monde. Tarrazú est pensé p\n",
      "\n",
      "Language: de\n",
      "Docid: doc-de-9933\n",
      "--------------------------------------------------\n",
      "Text:\n",
      "Artikelnummer 125455Rosendahl - Grand Cru Thermotasse, 35 cl\n",
      "KundenbewertungenAline Rossleben5 von 5 Sterne 06.04.2016, Aline H., Rosendahl - Grand Cru Thermotasse, 35 clHandlich schönes Material. Einfach zu reinigen . Liegt gut in der Hand . Der Preis ist super . Würde es immer wieder weiter empfeh\n",
      "\n",
      "Language: es\n",
      "Docid: doc-es-214\n",
      "--------------------------------------------------\n",
      "Text:\n",
      "Beautiful Boy: Siempre serás mi hijo\n",
      "\n",
      "Argumento\n",
      "\n",
      "La película narra la adicción a la metanfetamina y la recuperación a través de los ojos de un padre (Steve Carell) que ve a su hijo Nic (Timothée Chalamet) mientras lucha contra la adicción.\n",
      "\n",
      "Producción\n",
      "\n",
      "En 2008, se anunció que Paramount Pictures y Pl\n",
      "\n",
      "Language: it\n",
      "Docid: doc-it-632\n",
      "--------------------------------------------------\n",
      "Text:\n",
      "Dal 1982 al 1994 ha fatto parte del Trio con Massimo Lopez e Anna Marchesini, eccezionalmente ricostituitosi per l'ultima volta nel 2008 in occasione dello spettacolo televisivo Non esiste più la mezza stagione, che ricordava i venticinque anni dalla fondazione del gruppo.\n",
      "\n",
      "Biografia\n",
      "A 17 anni frequ\n",
      "\n",
      "Language: ko\n",
      "Docid: doc-ko-589\n",
      "--------------------------------------------------\n",
      "Text:\n",
      "강감찬(姜邯贊 또는 姜邯瓚, 948년 음력 11월 19일 ~ 1031년 음력 8월 20일)은 고려의 문관이다. 본관은 금주이다.\n",
      "\n",
      "983년(성종 3) 과거에 장원급제하여 예부시랑, 한림학사를 거쳐 문하평장사가 되었다. 요나라의 3차 침입을 격퇴하였고, 천수현개국남(天水縣開國男)에 봉해졌다. 1030년(정종 21)에 문하시중에 이르렀다. 현종의 묘정(廟廷)에 배향되고 문종(文宗) 때 수태사(守太師) 겸 중서령(中書令)에 추증되었다. 시호는 인헌(仁憲)이다.\n",
      "\n",
      "생애\n",
      "\n",
      "생애 초 \n",
      "강감찬은 948년 12월 22일(음력 11월 19일)에 삼\n",
      "\n",
      "Language: ar\n",
      "Docid: doc-ar-2770\n",
      "--------------------------------------------------\n",
      "Text:\n",
      "دو  أو شركة الإمارات للاتصالات المتكاملة  هي شركة اتصالات في دولة الإمارات العربية المتحدة، وقد حصلت على رخصة تشغيل خدمات الاتصالات في الدولة في 12 فبراير 2006. وقد رُمز لها بدايةً بأول أحرف اسم الشركة القانوني EITC قبل أن يتم تغيير اسم العلامة التجارية إلى ما هو عليه حاليا «دو» أو كما يستخدم في الش\n",
      "\n"
     ]
    }
   ],
   "execution_count": 4
  },
  {
   "metadata": {},
   "cell_type": "markdown",
   "source": [
    "## Lower-Case\n",
    "\n",
    "Second step is to make sure that texts are written in lowercase. Such step is necessary since methods like TF-IDF or even BM25 are case sensitive."
   ],
   "id": "5a877b57ef986442"
  },
  {
   "metadata": {
    "ExecuteTime": {
     "end_time": "2024-10-11T16:03:20.883917Z",
     "start_time": "2024-10-11T16:03:00.570035Z"
    }
   },
   "cell_type": "code",
   "source": "corpus.lower_case()",
   "id": "7768e5f59036146d",
   "outputs": [
    {
     "data": {
      "text/plain": [
       "Lower casing 'en' docs:   0%|          | 0/207363 [00:00<?, ?it/s]"
      ],
      "application/vnd.jupyter.widget-view+json": {
       "version_major": 2,
       "version_minor": 0,
       "model_id": "c2d00bed260840918218470b4a2bcb4b"
      }
     },
     "metadata": {},
     "output_type": "display_data"
    },
    {
     "data": {
      "text/plain": [
       "Lower casing 'fr' docs:   0%|          | 0/10676 [00:00<?, ?it/s]"
      ],
      "application/vnd.jupyter.widget-view+json": {
       "version_major": 2,
       "version_minor": 0,
       "model_id": "f56b2bda9b47475286836e93c90d8167"
      }
     },
     "metadata": {},
     "output_type": "display_data"
    },
    {
     "data": {
      "text/plain": [
       "Lower casing 'de' docs:   0%|          | 0/10992 [00:00<?, ?it/s]"
      ],
      "application/vnd.jupyter.widget-view+json": {
       "version_major": 2,
       "version_minor": 0,
       "model_id": "aba426ee28ef4a83886e980e16079b10"
      }
     },
     "metadata": {},
     "output_type": "display_data"
    },
    {
     "data": {
      "text/plain": [
       "Lower casing 'es' docs:   0%|          | 0/11019 [00:00<?, ?it/s]"
      ],
      "application/vnd.jupyter.widget-view+json": {
       "version_major": 2,
       "version_minor": 0,
       "model_id": "f0fb8e1ff44b45a69c0496738d8267ea"
      }
     },
     "metadata": {},
     "output_type": "display_data"
    },
    {
     "data": {
      "text/plain": [
       "Lower casing 'it' docs:   0%|          | 0/11250 [00:00<?, ?it/s]"
      ],
      "application/vnd.jupyter.widget-view+json": {
       "version_major": 2,
       "version_minor": 0,
       "model_id": "52e0af460e314f289dd14d401fa6fee3"
      }
     },
     "metadata": {},
     "output_type": "display_data"
    },
    {
     "data": {
      "text/plain": [
       "Lower casing 'ko' docs:   0%|          | 0/7893 [00:00<?, ?it/s]"
      ],
      "application/vnd.jupyter.widget-view+json": {
       "version_major": 2,
       "version_minor": 0,
       "model_id": "68c3a87234ee44418798455f39c858a6"
      }
     },
     "metadata": {},
     "output_type": "display_data"
    },
    {
     "data": {
      "text/plain": [
       "Lower casing 'ar' docs:   0%|          | 0/8829 [00:00<?, ?it/s]"
      ],
      "application/vnd.jupyter.widget-view+json": {
       "version_major": 2,
       "version_minor": 0,
       "model_id": "4f7bb28037cf42a2be6a5c3575ed8401"
      }
     },
     "metadata": {},
     "output_type": "display_data"
    }
   ],
   "execution_count": 5
  },
  {
   "metadata": {
    "ExecuteTime": {
     "end_time": "2024-10-11T16:03:20.916156Z",
     "start_time": "2024-10-11T16:03:20.903683Z"
    }
   },
   "cell_type": "code",
   "source": "corpus.show_current_docs()",
   "id": "43a5d936c2f61353",
   "outputs": [
    {
     "name": "stdout",
     "output_type": "stream",
     "text": [
      "--------------------------------------------------\n",
      "Current state of documents (first 300 characters):\n",
      "--------------------------------------------------\n",
      "\n",
      "Language: en\n",
      "Docid: doc-en-9633\n",
      "--------------------------------------------------\n",
      "Text:\n",
      "mars hill church was a christian megachurch, founded by mark driscoll, lief moi, and mike gunn. it was a multi-site church based in seattle, washington and grew from a home bible study to 15 locations in 4 u.s. states. services were offered at its 15 locations; the church also podcast content of wee\n",
      "\n",
      "Language: fr\n",
      "Docid: doc-fr-1447\n",
      "--------------------------------------------------\n",
      "Text:\n",
      "la production de café au costa rica représente en 2016 environ 1,2 % de la production mondiale de café, ce qui fait le  grand producteur du monde derrière la côte d'ivoire.\n",
      "\n",
      "particularités \n",
      "les grains de café du costa rica, sont considérés comme parmi les meilleurs dans le monde. tarrazú est pensé p\n",
      "\n",
      "Language: de\n",
      "Docid: doc-de-9933\n",
      "--------------------------------------------------\n",
      "Text:\n",
      "artikelnummer 125455rosendahl - grand cru thermotasse, 35 cl\n",
      "kundenbewertungenaline rossleben5 von 5 sterne 06.04.2016, aline h., rosendahl - grand cru thermotasse, 35 clhandlich schönes material. einfach zu reinigen . liegt gut in der hand . der preis ist super . würde es immer wieder weiter empfeh\n",
      "\n",
      "Language: es\n",
      "Docid: doc-es-214\n",
      "--------------------------------------------------\n",
      "Text:\n",
      "beautiful boy: siempre serás mi hijo\n",
      "\n",
      "argumento\n",
      "\n",
      "la película narra la adicción a la metanfetamina y la recuperación a través de los ojos de un padre (steve carell) que ve a su hijo nic (timothée chalamet) mientras lucha contra la adicción.\n",
      "\n",
      "producción\n",
      "\n",
      "en 2008, se anunció que paramount pictures y pl\n",
      "\n",
      "Language: it\n",
      "Docid: doc-it-632\n",
      "--------------------------------------------------\n",
      "Text:\n",
      "dal 1982 al 1994 ha fatto parte del trio con massimo lopez e anna marchesini, eccezionalmente ricostituitosi per l'ultima volta nel 2008 in occasione dello spettacolo televisivo non esiste più la mezza stagione, che ricordava i venticinque anni dalla fondazione del gruppo.\n",
      "\n",
      "biografia\n",
      "a 17 anni frequ\n",
      "\n",
      "Language: ko\n",
      "Docid: doc-ko-589\n",
      "--------------------------------------------------\n",
      "Text:\n",
      "강감찬(姜邯贊 또는 姜邯瓚, 948년 음력 11월 19일 ~ 1031년 음력 8월 20일)은 고려의 문관이다. 본관은 금주이다.\n",
      "\n",
      "983년(성종 3) 과거에 장원급제하여 예부시랑, 한림학사를 거쳐 문하평장사가 되었다. 요나라의 3차 침입을 격퇴하였고, 천수현개국남(天水縣開國男)에 봉해졌다. 1030년(정종 21)에 문하시중에 이르렀다. 현종의 묘정(廟廷)에 배향되고 문종(文宗) 때 수태사(守太師) 겸 중서령(中書令)에 추증되었다. 시호는 인헌(仁憲)이다.\n",
      "\n",
      "생애\n",
      "\n",
      "생애 초 \n",
      "강감찬은 948년 12월 22일(음력 11월 19일)에 삼\n",
      "\n",
      "Language: ar\n",
      "Docid: doc-ar-2770\n",
      "--------------------------------------------------\n",
      "Text:\n",
      "دو  أو شركة الإمارات للاتصالات المتكاملة  هي شركة اتصالات في دولة الإمارات العربية المتحدة، وقد حصلت على رخصة تشغيل خدمات الاتصالات في الدولة في 12 فبراير 2006. وقد رُمز لها بدايةً بأول أحرف اسم الشركة القانوني eitc قبل أن يتم تغيير اسم العلامة التجارية إلى ما هو عليه حاليا «دو» أو كما يستخدم في الش\n",
      "\n"
     ]
    }
   ],
   "execution_count": 6
  },
  {
   "metadata": {
    "ExecuteTime": {
     "end_time": "2024-10-11T16:03:20.963559Z",
     "start_time": "2024-10-11T16:03:20.951180Z"
    }
   },
   "cell_type": "code",
   "source": "#corpus.store(path='clean_data/lower_case')",
   "id": "36651d6cac05f31f",
   "outputs": [],
   "execution_count": 7
  },
  {
   "metadata": {},
   "cell_type": "markdown",
   "source": [
    "## Remove StopWords\n",
    "\n",
    "Third step is to remove the stop-words to only keep the more relevant words."
   ],
   "id": "d093445946e95a29"
  },
  {
   "metadata": {
    "ExecuteTime": {
     "end_time": "2024-10-11T16:04:41.683474Z",
     "start_time": "2024-10-11T16:03:21.007016Z"
    }
   },
   "cell_type": "code",
   "source": "corpus.stop_words()",
   "id": "902b08efcbb529ef",
   "outputs": [
    {
     "data": {
      "text/plain": [
       "Removing stop words for 'en' docs:   0%|          | 0/207363 [00:00<?, ?it/s]"
      ],
      "application/vnd.jupyter.widget-view+json": {
       "version_major": 2,
       "version_minor": 0,
       "model_id": "09703343db3f404388f0da35caf86ebe"
      }
     },
     "metadata": {},
     "output_type": "display_data"
    },
    {
     "data": {
      "text/plain": [
       "Removing stop words for 'fr' docs:   0%|          | 0/10676 [00:00<?, ?it/s]"
      ],
      "application/vnd.jupyter.widget-view+json": {
       "version_major": 2,
       "version_minor": 0,
       "model_id": "9e47ad2245494fb9beb9d58c13a3b974"
      }
     },
     "metadata": {},
     "output_type": "display_data"
    },
    {
     "data": {
      "text/plain": [
       "Removing stop words for 'de' docs:   0%|          | 0/10992 [00:00<?, ?it/s]"
      ],
      "application/vnd.jupyter.widget-view+json": {
       "version_major": 2,
       "version_minor": 0,
       "model_id": "520717e274bd46589d717ac7f1aa1ca2"
      }
     },
     "metadata": {},
     "output_type": "display_data"
    },
    {
     "data": {
      "text/plain": [
       "Removing stop words for 'es' docs:   0%|          | 0/11019 [00:00<?, ?it/s]"
      ],
      "application/vnd.jupyter.widget-view+json": {
       "version_major": 2,
       "version_minor": 0,
       "model_id": "fdfdf004f9bb4878bfb1ae3a472d973e"
      }
     },
     "metadata": {},
     "output_type": "display_data"
    },
    {
     "data": {
      "text/plain": [
       "Removing stop words for 'it' docs:   0%|          | 0/11250 [00:00<?, ?it/s]"
      ],
      "application/vnd.jupyter.widget-view+json": {
       "version_major": 2,
       "version_minor": 0,
       "model_id": "594adcdb3ac64332b89e9b6f24507b0e"
      }
     },
     "metadata": {},
     "output_type": "display_data"
    },
    {
     "data": {
      "text/plain": [
       "Removing stop words for 'ar' docs:   0%|          | 0/8829 [00:00<?, ?it/s]"
      ],
      "application/vnd.jupyter.widget-view+json": {
       "version_major": 2,
       "version_minor": 0,
       "model_id": "2f9cf02eeb2048fdbfed3087610a7396"
      }
     },
     "metadata": {},
     "output_type": "display_data"
    },
    {
     "data": {
      "text/plain": [
       "Stats for 'en' docs:   0%|          | 0/207363 [00:00<?, ?it/s]"
      ],
      "application/vnd.jupyter.widget-view+json": {
       "version_major": 2,
       "version_minor": 0,
       "model_id": "feb73aea2c0141e9af6a9d0e12658875"
      }
     },
     "metadata": {},
     "output_type": "display_data"
    },
    {
     "data": {
      "text/plain": [
       "Stats for 'fr' docs:   0%|          | 0/10676 [00:00<?, ?it/s]"
      ],
      "application/vnd.jupyter.widget-view+json": {
       "version_major": 2,
       "version_minor": 0,
       "model_id": "9d15d2422e8148c6960240ad9743d712"
      }
     },
     "metadata": {},
     "output_type": "display_data"
    },
    {
     "data": {
      "text/plain": [
       "Stats for 'de' docs:   0%|          | 0/10992 [00:00<?, ?it/s]"
      ],
      "application/vnd.jupyter.widget-view+json": {
       "version_major": 2,
       "version_minor": 0,
       "model_id": "b0e4ff4f326148d1b3d4147463301ddf"
      }
     },
     "metadata": {},
     "output_type": "display_data"
    },
    {
     "data": {
      "text/plain": [
       "Stats for 'es' docs:   0%|          | 0/11019 [00:00<?, ?it/s]"
      ],
      "application/vnd.jupyter.widget-view+json": {
       "version_major": 2,
       "version_minor": 0,
       "model_id": "452490ed48d3465f9d3e26a4e4d624bd"
      }
     },
     "metadata": {},
     "output_type": "display_data"
    },
    {
     "data": {
      "text/plain": [
       "Stats for 'it' docs:   0%|          | 0/11250 [00:00<?, ?it/s]"
      ],
      "application/vnd.jupyter.widget-view+json": {
       "version_major": 2,
       "version_minor": 0,
       "model_id": "a0390a81e7034146a4c174fd38b02558"
      }
     },
     "metadata": {},
     "output_type": "display_data"
    },
    {
     "data": {
      "text/plain": [
       "Stats for 'ko' docs:   0%|          | 0/7893 [00:00<?, ?it/s]"
      ],
      "application/vnd.jupyter.widget-view+json": {
       "version_major": 2,
       "version_minor": 0,
       "model_id": "340083ace9564282bafef84a763408d4"
      }
     },
     "metadata": {},
     "output_type": "display_data"
    },
    {
     "data": {
      "text/plain": [
       "Stats for 'ar' docs:   0%|          | 0/8829 [00:00<?, ?it/s]"
      ],
      "application/vnd.jupyter.widget-view+json": {
       "version_major": 2,
       "version_minor": 0,
       "model_id": "603fbcd4bb3d49a8a81d642c3084ea05"
      }
     },
     "metadata": {},
     "output_type": "display_data"
    },
    {
     "data": {
      "text/plain": [
       "  lang  num_docs  max_words  min_words   mean_words  median_words  \\\n",
       "0   en    207363      46759         64  1399.159247         950.0   \n",
       "1   fr     10676      42867        255  3593.587018        3168.0   \n",
       "2   de     10992      22234          2  3098.057041        2848.5   \n",
       "3   es     11019      41715        198  3126.667846        2913.0   \n",
       "4   it     11250      31037        319  3492.448800        3167.0   \n",
       "5   ko      7893      35738        183  2700.349677        2511.0   \n",
       "6   ar      8829      37106        235  3692.840072        3270.0   \n",
       "\n",
       "   95th_quantile_words  \n",
       "0              3769.00  \n",
       "1              8512.50  \n",
       "2              7979.85  \n",
       "3              6916.40  \n",
       "4              7575.05  \n",
       "5              6702.80  \n",
       "6              9346.00  "
      ],
      "text/html": [
       "<div>\n",
       "<style scoped>\n",
       "    .dataframe tbody tr th:only-of-type {\n",
       "        vertical-align: middle;\n",
       "    }\n",
       "\n",
       "    .dataframe tbody tr th {\n",
       "        vertical-align: top;\n",
       "    }\n",
       "\n",
       "    .dataframe thead th {\n",
       "        text-align: right;\n",
       "    }\n",
       "</style>\n",
       "<table border=\"1\" class=\"dataframe\">\n",
       "  <thead>\n",
       "    <tr style=\"text-align: right;\">\n",
       "      <th></th>\n",
       "      <th>lang</th>\n",
       "      <th>num_docs</th>\n",
       "      <th>max_words</th>\n",
       "      <th>min_words</th>\n",
       "      <th>mean_words</th>\n",
       "      <th>median_words</th>\n",
       "      <th>95th_quantile_words</th>\n",
       "    </tr>\n",
       "  </thead>\n",
       "  <tbody>\n",
       "    <tr>\n",
       "      <th>0</th>\n",
       "      <td>en</td>\n",
       "      <td>207363</td>\n",
       "      <td>46759</td>\n",
       "      <td>64</td>\n",
       "      <td>1399.159247</td>\n",
       "      <td>950.0</td>\n",
       "      <td>3769.00</td>\n",
       "    </tr>\n",
       "    <tr>\n",
       "      <th>1</th>\n",
       "      <td>fr</td>\n",
       "      <td>10676</td>\n",
       "      <td>42867</td>\n",
       "      <td>255</td>\n",
       "      <td>3593.587018</td>\n",
       "      <td>3168.0</td>\n",
       "      <td>8512.50</td>\n",
       "    </tr>\n",
       "    <tr>\n",
       "      <th>2</th>\n",
       "      <td>de</td>\n",
       "      <td>10992</td>\n",
       "      <td>22234</td>\n",
       "      <td>2</td>\n",
       "      <td>3098.057041</td>\n",
       "      <td>2848.5</td>\n",
       "      <td>7979.85</td>\n",
       "    </tr>\n",
       "    <tr>\n",
       "      <th>3</th>\n",
       "      <td>es</td>\n",
       "      <td>11019</td>\n",
       "      <td>41715</td>\n",
       "      <td>198</td>\n",
       "      <td>3126.667846</td>\n",
       "      <td>2913.0</td>\n",
       "      <td>6916.40</td>\n",
       "    </tr>\n",
       "    <tr>\n",
       "      <th>4</th>\n",
       "      <td>it</td>\n",
       "      <td>11250</td>\n",
       "      <td>31037</td>\n",
       "      <td>319</td>\n",
       "      <td>3492.448800</td>\n",
       "      <td>3167.0</td>\n",
       "      <td>7575.05</td>\n",
       "    </tr>\n",
       "    <tr>\n",
       "      <th>5</th>\n",
       "      <td>ko</td>\n",
       "      <td>7893</td>\n",
       "      <td>35738</td>\n",
       "      <td>183</td>\n",
       "      <td>2700.349677</td>\n",
       "      <td>2511.0</td>\n",
       "      <td>6702.80</td>\n",
       "    </tr>\n",
       "    <tr>\n",
       "      <th>6</th>\n",
       "      <td>ar</td>\n",
       "      <td>8829</td>\n",
       "      <td>37106</td>\n",
       "      <td>235</td>\n",
       "      <td>3692.840072</td>\n",
       "      <td>3270.0</td>\n",
       "      <td>9346.00</td>\n",
       "    </tr>\n",
       "  </tbody>\n",
       "</table>\n",
       "</div>"
      ]
     },
     "execution_count": 8,
     "metadata": {},
     "output_type": "execute_result"
    }
   ],
   "execution_count": 8
  },
  {
   "metadata": {
    "ExecuteTime": {
     "end_time": "2024-10-11T16:04:41.761812Z",
     "start_time": "2024-10-11T16:04:41.744526Z"
    }
   },
   "cell_type": "code",
   "source": "corpus.show_current_docs()",
   "id": "c22f2ff332f7d4e0",
   "outputs": [
    {
     "name": "stdout",
     "output_type": "stream",
     "text": [
      "--------------------------------------------------\n",
      "Current state of documents (first 300 characters):\n",
      "--------------------------------------------------\n",
      "\n",
      "Language: en\n",
      "Docid: doc-en-9633\n",
      "--------------------------------------------------\n",
      "Text:\n",
      "mars hill church christian megachurch, founded mark driscoll, lief moi, mike gunn. multi-site church based seattle, washington grew home bible study 15 locations 4 u.s. states. services offered 15 locations; church also podcast content weekend services, conferences, internet 260,000 sermon views onl\n",
      "\n",
      "Language: fr\n",
      "Docid: doc-fr-1447\n",
      "--------------------------------------------------\n",
      "Text:\n",
      "production café costa rica représente 2016 environ 1,2 % production mondiale café, fait grand producteur monde derrière côte d'ivoire. particularités grains café costa rica, considérés comme parmi meilleurs monde. tarrazú pensé produire plus désirable grains café costa rica. 2012, café tarrazú deven\n",
      "\n",
      "Language: de\n",
      "Docid: doc-de-9933\n",
      "--------------------------------------------------\n",
      "Text:\n",
      "artikelnummer 125455rosendahl - grand cru thermotasse, 35 cl kundenbewertungenaline rossleben5 5 sterne 06.04.2016, aline h., rosendahl - grand cru thermotasse, 35 clhandlich schönes material. einfach reinigen . liegt gut hand . preis super . immer empfehlen .war bewertung hilfreich?janein\n",
      "\n",
      "Language: es\n",
      "Docid: doc-es-214\n",
      "--------------------------------------------------\n",
      "Text:\n",
      "beautiful boy: siempre hijo argumento película narra adicción metanfetamina recuperación través ojos padre (steve carell) ve hijo nic (timothée chalamet) mientras lucha adicción. producción 2008, anunció paramount pictures plan b entertainment adquirido derechos libros \"beautiful boy: father's journ\n",
      "\n",
      "Language: it\n",
      "Docid: doc-it-632\n",
      "--------------------------------------------------\n",
      "Text:\n",
      "1982 1994 fatto parte trio massimo lopez anna marchesini, eccezionalmente ricostituitosi l'ultima volta 2008 occasione spettacolo televisivo esiste mezza stagione, ricordava venticinque anni fondazione gruppo. biografia 17 anni frequenta scuola teatro teatro stabile genova, conosce massimo lopez. es\n",
      "\n",
      "Language: ko\n",
      "Docid: doc-ko-589\n",
      "--------------------------------------------------\n",
      "Text:\n",
      "강감찬(姜邯贊 또는 姜邯瓚, 948년 음력 11월 19일 ~ 1031년 음력 8월 20일)은 고려의 문관이다. 본관은 금주이다.\n",
      "\n",
      "983년(성종 3) 과거에 장원급제하여 예부시랑, 한림학사를 거쳐 문하평장사가 되었다. 요나라의 3차 침입을 격퇴하였고, 천수현개국남(天水縣開國男)에 봉해졌다. 1030년(정종 21)에 문하시중에 이르렀다. 현종의 묘정(廟廷)에 배향되고 문종(文宗) 때 수태사(守太師) 겸 중서령(中書令)에 추증되었다. 시호는 인헌(仁憲)이다.\n",
      "\n",
      "생애\n",
      "\n",
      "생애 초 \n",
      "강감찬은 948년 12월 22일(음력 11월 19일)에 삼\n",
      "\n",
      "Language: ar\n",
      "Docid: doc-ar-2770\n",
      "--------------------------------------------------\n",
      "Text:\n",
      "دو شركة الإمارات للاتصالات المتكاملة شركة اتصالات دولة الإمارات العربية المتحدة، وقد حصلت رخصة تشغيل خدمات الاتصالات الدولة 12 2006. وقد رُمز بدايةً بأول أحرف اسم الشركة القانوني eitc يتم تغيير اسم العلامة التجارية حاليا «دو» يستخدم الشعار باللغة الإنجليزية du. وتعد الشركة مزود اتصالات رباعي يقدم خد\n",
      "\n"
     ]
    }
   ],
   "execution_count": 9
  },
  {
   "metadata": {
    "ExecuteTime": {
     "end_time": "2024-10-11T16:04:41.862314Z",
     "start_time": "2024-10-11T16:04:41.850112Z"
    }
   },
   "cell_type": "code",
   "source": "#corpus.store(path='clean_data/lower_case_stop_words')",
   "id": "61cced88ebce81e6",
   "outputs": [],
   "execution_count": 10
  },
  {
   "metadata": {},
   "cell_type": "markdown",
   "source": [
    "## Lemmatization\n",
    "\n",
    "Final step, use a lemmatizer to only keep the essence of a word to make sure that same words are not written in too many ways possible, i.e. plural and singular, present and other verb tense, ..."
   ],
   "id": "64922285262f476a"
  },
  {
   "metadata": {
    "ExecuteTime": {
     "end_time": "2024-10-11T16:04:41.937456Z",
     "start_time": "2024-10-11T16:04:41.925419Z"
    }
   },
   "cell_type": "code",
   "source": "#corpus.lemmatization(cpu_available=12)",
   "id": "b27255dfe7a52b85",
   "outputs": [],
   "execution_count": 11
  },
  {
   "metadata": {
    "ExecuteTime": {
     "end_time": "2024-10-11T16:04:41.985175Z",
     "start_time": "2024-10-11T16:04:41.973144Z"
    }
   },
   "cell_type": "code",
   "source": "#corpus.show_current_docs()",
   "id": "8528491a3d3be5f1",
   "outputs": [],
   "execution_count": 12
  },
  {
   "metadata": {
    "ExecuteTime": {
     "end_time": "2024-10-11T16:04:42.028229Z",
     "start_time": "2024-10-11T16:04:42.017368Z"
    }
   },
   "cell_type": "code",
   "source": "#corpus.store(path='clean_data/lower_case_stop_words_lemmatization')",
   "id": "46e6a8c7cb6c62ed",
   "outputs": [],
   "execution_count": 13
  }
 ],
 "metadata": {
  "kernelspec": {
   "display_name": "Python 3",
   "language": "python",
   "name": "python3"
  },
  "language_info": {
   "codemirror_mode": {
    "name": "ipython",
    "version": 2
   },
   "file_extension": ".py",
   "mimetype": "text/x-python",
   "name": "python",
   "nbconvert_exporter": "python",
   "pygments_lexer": "ipython2",
   "version": "2.7.6"
  }
 },
 "nbformat": 4,
 "nbformat_minor": 5
}

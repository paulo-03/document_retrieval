{
 "cells": [
  {
   "metadata": {},
   "cell_type": "markdown",
   "source": [
    "# Main\n",
    "\n",
    "Jupyter notebook that will contain all our methods and compare them about performance with few metrics.\n",
    "\n",
    "Author: Paulo Ribeiro"
   ],
   "id": "ae2c63841d3d31c4"
  },
  {
   "metadata": {},
   "cell_type": "markdown",
   "source": "## Import ",
   "id": "b1fa188c7cea3ada"
  },
  {
   "cell_type": "code",
   "id": "7792b50061ef8a5e",
   "metadata": {
    "ExecuteTime": {
     "end_time": "2024-10-01T15:46:48.302447Z",
     "start_time": "2024-10-01T15:46:46.588843Z"
    }
   },
   "source": "from data_helpers import *",
   "outputs": [],
   "execution_count": 1
  },
  {
   "metadata": {},
   "cell_type": "markdown",
   "source": "## Clean and separate the data",
   "id": "90b750b14f1dd4d2"
  },
  {
   "metadata": {
    "collapsed": true,
    "ExecuteTime": {
     "end_time": "2024-10-01T15:59:02.342333Z",
     "start_time": "2024-10-01T15:46:51.143262Z"
    }
   },
   "cell_type": "code",
   "source": [
    "# Took me 12m 11s to run this cell \n",
    "split_clean_corpus_per_lang(corpus_path='data/corpus.json/corpus.json')"
   ],
   "id": "initial_id",
   "outputs": [
    {
     "name": "stdout",
     "output_type": "stream",
     "text": [
      "Loading corpus... (can take up to 3 minutes)\n",
      "Corpus Loaded ! \n",
      "\n"
     ]
    },
    {
     "data": {
      "text/plain": [
       "Splitting the corpus by languages:   0%|          | 0/7 [00:00<?, ?it/s]"
      ],
      "application/vnd.jupyter.widget-view+json": {
       "version_major": 2,
       "version_minor": 0,
       "model_id": "be6043c1f155434dacd003f88e838439"
      }
     },
     "metadata": {},
     "output_type": "display_data"
    },
    {
     "name": "stderr",
     "output_type": "stream",
     "text": [
      "/Users/pauloribeiro/Desktop/EPFL/Master Data Science/Semestre 3/Distributed Information Systems/document_retrieval/data_loader.py:71: SettingWithCopyWarning: \n",
      "A value is trying to be set on a copy of a slice from a DataFrame.\n",
      "Try using .loc[row_indexer,col_indexer] = value instead\n",
      "\n",
      "See the caveats in the documentation: https://pandas.pydata.org/pandas-docs/stable/user_guide/indexing.html#returning-a-view-versus-a-copy\n",
      "  lang_df['text'] = lang_df.apply(lambda row: clean_sentence(row['text'], row['lang']), axis=1)\n"
     ]
    },
    {
     "name": "stdout",
     "output_type": "stream",
     "text": [
      "Saved: data/corpus.json/clean_corpus_en.json\n",
      "Saved: data/corpus.json/clean_corpus_fr.json\n",
      "Saved: data/corpus.json/clean_corpus_de.json\n",
      "Saved: data/corpus.json/clean_corpus_es.json\n",
      "Saved: data/corpus.json/clean_corpus_it.json\n",
      "Saved: data/corpus.json/clean_corpus_ko.json\n",
      "Saved: data/corpus.json/clean_corpus_ar.json\n"
     ]
    }
   ],
   "execution_count": 2
  },
  {
   "metadata": {},
   "cell_type": "markdown",
   "source": "## Show Clean Data",
   "id": "2b29588940753537"
  },
  {
   "metadata": {
    "ExecuteTime": {
     "end_time": "2024-10-01T16:02:01.377148Z",
     "start_time": "2024-10-01T16:01:59.274321Z"
    }
   },
   "cell_type": "code",
   "source": [
    "clean_corpus_fr = pd.read_json(\"clean_data/clean_corpus_fr.json\", lines=True)\n",
    "\n",
    "clean_corpus_fr.head()"
   ],
   "id": "bd26e98048954ed",
   "outputs": [
    {
     "data": {
      "text/plain": [
       "         docid                                               text lang\n",
       "0  doc-fr-1447  production café costa rica représente 2016 env...   fr\n",
       "1  doc-fr-4878  continuité gouvernement cog principe établisse...   fr\n",
       "2   doc-fr-801  juan manuel fangio né balcarce mort buenos air...   fr\n",
       "3  doc-fr-1750  louis auguste mathieu legrand peintre dessinat...   fr\n",
       "4  doc-fr-5810  gare lille saint sauveur simplement gare saint...   fr"
      ],
      "text/html": [
       "<div>\n",
       "<style scoped>\n",
       "    .dataframe tbody tr th:only-of-type {\n",
       "        vertical-align: middle;\n",
       "    }\n",
       "\n",
       "    .dataframe tbody tr th {\n",
       "        vertical-align: top;\n",
       "    }\n",
       "\n",
       "    .dataframe thead th {\n",
       "        text-align: right;\n",
       "    }\n",
       "</style>\n",
       "<table border=\"1\" class=\"dataframe\">\n",
       "  <thead>\n",
       "    <tr style=\"text-align: right;\">\n",
       "      <th></th>\n",
       "      <th>docid</th>\n",
       "      <th>text</th>\n",
       "      <th>lang</th>\n",
       "    </tr>\n",
       "  </thead>\n",
       "  <tbody>\n",
       "    <tr>\n",
       "      <th>0</th>\n",
       "      <td>doc-fr-1447</td>\n",
       "      <td>production café costa rica représente 2016 env...</td>\n",
       "      <td>fr</td>\n",
       "    </tr>\n",
       "    <tr>\n",
       "      <th>1</th>\n",
       "      <td>doc-fr-4878</td>\n",
       "      <td>continuité gouvernement cog principe établisse...</td>\n",
       "      <td>fr</td>\n",
       "    </tr>\n",
       "    <tr>\n",
       "      <th>2</th>\n",
       "      <td>doc-fr-801</td>\n",
       "      <td>juan manuel fangio né balcarce mort buenos air...</td>\n",
       "      <td>fr</td>\n",
       "    </tr>\n",
       "    <tr>\n",
       "      <th>3</th>\n",
       "      <td>doc-fr-1750</td>\n",
       "      <td>louis auguste mathieu legrand peintre dessinat...</td>\n",
       "      <td>fr</td>\n",
       "    </tr>\n",
       "    <tr>\n",
       "      <th>4</th>\n",
       "      <td>doc-fr-5810</td>\n",
       "      <td>gare lille saint sauveur simplement gare saint...</td>\n",
       "      <td>fr</td>\n",
       "    </tr>\n",
       "  </tbody>\n",
       "</table>\n",
       "</div>"
      ]
     },
     "execution_count": 5,
     "metadata": {},
     "output_type": "execute_result"
    }
   ],
   "execution_count": 5
  },
  {
   "metadata": {
    "ExecuteTime": {
     "end_time": "2024-10-01T16:05:00.363177Z",
     "start_time": "2024-10-01T16:05:00.358788Z"
    }
   },
   "cell_type": "code",
   "source": [
    "print(f\"Document reference: {clean_corpus_fr['docid'][0]}\\n\"\n",
    "      f\"Clean text:\\n {clean_corpus_fr['text'][0]}\")"
   ],
   "id": "b7c1c6ab7d4e7678",
   "outputs": [
    {
     "name": "stdout",
     "output_type": "stream",
     "text": [
      "Document reference: doc-fr-1447\n",
      "Clean text:\n",
      " production café costa rica représente 2016 environ 1 2 production mondiale café fait grand producteur monde derrière côte ivoire particularités grains café costa rica considérés comme parmi meilleurs monde tarrazú pensé produire plus désirable grains café costa rica 2012 café tarrazú devenu plus cher cafés vendus starbucks 48 leurs magasins états unis histoire histoire caféiculture costa rica débute dès période coloniale puis prend essor dès années 1820 1830 quand autorités coloniales prirent premières mesures fiscales visant développer entre autres culture caféière indépendance 17 000 caféiers permettant exportation 2 quintaux café panama nouveau gouvernement distribua gratuitement terres personnes engageaient cultiver café tandis autorités certaines communes obligèrent leurs habitants posséder moins certain nombre caféiers exportations travers frontière vers panama interrompu lorsque costa rica a rejoint autres provinces amérique centrale 1821 gouvernement a offert agriculteurs parcelles terrain système plantation café donc développé grande partie suite politique ouverture bien barons café joué rôle croissance différenciation interne très vite café devenu source majeure recettes dépassant cacao tabac sucre dès 1829 1839 exportations élèvent déjà 90 000 quintaux nouvel état né année précédente costa rica raison violence guerre civile partis libéraux comme ailleurs amérique centrale perdu toute influence politique dictatures conservatrices vont contrôler gouvernement costaricien jusqu 1870 1843 navigateur guernesiais william lacheur met place route commerciale régulière directe producteurs café costa rica vers europe contribuant ainsi créer débouchés commerciaux café sous marque café valparaiso port chilien servant réexpédition william lacheur revenait seattle navire the monarch lorsqu échoué cargaison peaux près puntarenas repart 550 quintaux café profitant crise surproduction puis fait venir frère importe 2500 quintaux angleterre quintal acheté 3 pesos san josé puis vendu 7 pesos puntarenas 13 pesos valparaiso 20 europe 1843 1844 producteurs café costa rica détenant patrimoine plus mille pesos déjà nombre 101 plus nombreux ceux moins montant presque aussi nombreux 160 possédants détenant capital exerçant autres domaines élite caféière émerge plus souvent déjà fortunée cette culture exportation fédère mouvement vers modernisation producteurs commerçants café transformé costa rica contribué modernisation pays a fourni financement jeunes universitaires aspirant études europe revenus générés café costa rica financé premiers chemins fer reliant pays côte atlantique 1890 ferrocarril al atlántico théâtre national san josé produit culture café dont principaux producteurs membres éminents société 1955 taxe exportation a placé café costa rica a aboli 1994 1983 principaux syndromes bactériens a frappé industrie café pays jetant crise a coïncidé baisse prix marché environ 40 fin années 1980 début années 1990 production café a augmenté passant 1988 membres 1992 prix chuté affaiblissant recettes cette production passées 316 millions dollars 1988 1992 1989 costa rica a rejoint honduras guatemala nicaragua el salvador créer plan conservation café centro américain puis a tentative organisation internationale café début années 1990 maintenir quotas exportation afin soutenir cours mondiaux café impact environnement bien production café costa rica source importante revenus sans poser problèmes environnementaux principal impact pollution rivières cours traitement café particulier fin processus séchage environ 57 grains café composent contaminants détruisent faune sauvage rivières notes références voir aussi histoire caféiculture amérique centrale histoire caféiculture catégorie histoire costa rica catégorie histoire café\n"
     ]
    }
   ],
   "execution_count": 8
  }
 ],
 "metadata": {
  "kernelspec": {
   "display_name": "Python 3",
   "language": "python",
   "name": "python3"
  },
  "language_info": {
   "codemirror_mode": {
    "name": "ipython",
    "version": 2
   },
   "file_extension": ".py",
   "mimetype": "text/x-python",
   "name": "python",
   "nbconvert_exporter": "python",
   "pygments_lexer": "ipython2",
   "version": "2.7.6"
  }
 },
 "nbformat": 4,
 "nbformat_minor": 5
}

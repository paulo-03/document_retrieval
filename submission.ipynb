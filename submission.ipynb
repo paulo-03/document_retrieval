{
 "cells": [
  {
   "metadata": {},
   "cell_type": "markdown",
   "source": "# Document Retrieval - BM25s",
   "id": "5efba15054628cce"
  },
  {
   "metadata": {},
   "cell_type": "markdown",
   "source": "## Packages required",
   "id": "72357078ab6fa1e1"
  },
  {
   "metadata": {},
   "cell_type": "code",
   "outputs": [],
   "execution_count": null,
   "source": [
    "!python -m spacy download en_core_web_sm \n",
    "!python -m spacy download fr_core_news_sm\n",
    "!python -m spacy download de_core_news_sm \n",
    "!python -m spacy download es_core_news_sm\n",
    "!python -m spacy download it_core_news_sm"
   ],
   "id": "1fb091eb6578fd2"
  },
  {
   "metadata": {},
   "cell_type": "markdown",
   "source": "## Imports",
   "id": "fefe8e37a62f2784"
  },
  {
   "metadata": {},
   "cell_type": "code",
   "source": [
    "import pandas as pd\n",
    "import warnings\n",
    "from data_helpers import QueryClean\n",
    "from models.BM25s.bm25s import BM25sRetriever\n",
    "\n",
    "warnings.filterwarnings('ignore')\n",
    "\n",
    "%load_ext autoreload\n",
    "%autoreload 2"
   ],
   "id": "57f0d1f01f6100fb",
   "outputs": [],
   "execution_count": null
  },
  {
   "metadata": {},
   "cell_type": "markdown",
   "source": "## Parameters",
   "id": "d2dbc18ad2d8ff9e"
  },
  {
   "metadata": {},
   "cell_type": "code",
   "outputs": [],
   "execution_count": 3,
   "source": [
    "query_source= 'test',  # 'train', 'dev' or 'test'\n",
    "processing_wanted='lc' # 'lc', 'lc_sw' or 'lc_sw_l'\n",
    "k1=1.6 # 1.0, 1.1, 1.2, 1.6, 2.0"
   ],
   "id": "5cb97c7bd0b328fc"
  },
  {
   "metadata": {},
   "cell_type": "markdown",
   "source": "## Query Preprocessing",
   "id": "5f67f368ed29e169"
  },
  {
   "metadata": {},
   "cell_type": "code",
   "source": [
    "query = QueryClean(\n",
    "        queries_path=f'data/{query_source}.csv',\n",
    "        processing_wanted=processing_wanted,\n",
    "        show_progress=False\n",
    "    )\n",
    "\n",
    "# Perform the pre-processing step chosen\n",
    "langs = query.pre_process()"
   ],
   "id": "6029da09de870b15",
   "outputs": [],
   "execution_count": null
  },
  {
   "metadata": {},
   "cell_type": "markdown",
   "source": "## Model BM25 initialization and document retrieval",
   "id": "84931036bc849661"
  },
  {
   "metadata": {},
   "cell_type": "code",
   "source": [
    "# Initiate the list to stack all the matches per language in one .csv file\n",
    "match_per_lang = []\n",
    "\n",
    "# For each lang, initialize the corresponding BM25Retriever and compute the queries matching\n",
    "for lang in langs:\n",
    "    bm25s = BM25sRetriever(queries_df=query.data_clean[lang],\n",
    "                         model_path=f'models/BM25s/bm25s_matrix/{processing_wanted}/k1_{k1}/bm25s_{lang}.pkl',\n",
    "                         top_k=10)\n",
    "    bm25s.match()\n",
    "    match_per_lang.append(bm25s.matches)"
   ],
   "id": "688fd47c8acf41f2",
   "outputs": [],
   "execution_count": null
  },
  {
   "metadata": {},
   "cell_type": "markdown",
   "source": "## Submission.csv output",
   "id": "9dfd5906903f81b8"
  },
  {
   "metadata": {},
   "cell_type": "code",
   "outputs": [],
   "execution_count": null,
   "source": [
    "# Stack all the pd.Series to create a unified pd.Series with all the matches\n",
    "matches = pd.concat(match_per_lang, ignore_index=True)\n",
    "\n",
    "# Write on disk a .csv file with the matches\n",
    "matches.to_csv(f'submission.csv',\n",
    "                       index=True,\n",
    "                       index_label='id')"
   ],
   "id": "fc02dd261868bb12"
  }
 ],
 "metadata": {
  "kernelspec": {
   "display_name": "Python 3",
   "language": "python",
   "name": "python3"
  },
  "language_info": {
   "codemirror_mode": {
    "name": "ipython",
    "version": 2
   },
   "file_extension": ".py",
   "mimetype": "text/x-python",
   "name": "python",
   "nbconvert_exporter": "python",
   "pygments_lexer": "ipython2",
   "version": "2.7.6"
  }
 },
 "nbformat": 4,
 "nbformat_minor": 5
}

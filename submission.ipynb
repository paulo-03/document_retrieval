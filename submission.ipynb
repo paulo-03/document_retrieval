{
 "cells": [
  {
   "metadata": {},
   "cell_type": "markdown",
   "source": "# Submission notebook for Kaggle",
   "id": "2bd3121b693443ad"
  },
  {
   "metadata": {},
   "cell_type": "markdown",
   "source": "## Imports",
   "id": "c09afb89d4e8f7f4"
  },
  {
   "metadata": {
    "ExecuteTime": {
     "end_time": "2024-10-16T17:16:53.446165Z",
     "start_time": "2024-10-16T17:16:52.675333Z"
    }
   },
   "cell_type": "code",
   "source": [
    "from BM25.bm25 import BM25\n",
    "from tqdm import tqdm\n",
    "import pandas as pd\n",
    "\n",
    "from metrics import export_query_result_to_submission_csv, get_answers_for_submission_csv, compute_recall_10\n",
    "\n",
    "%load_ext autoreload\n",
    "%autoreload 2"
   ],
   "id": "9a029c782c7e42ea",
   "outputs": [],
   "execution_count": 1
  },
  {
   "metadata": {},
   "cell_type": "markdown",
   "source": "## Model choice and initialization",
   "id": "eacdc4951c6adb8d"
  },
  {
   "metadata": {},
   "cell_type": "markdown",
   "source": "Choose the model you want to use for the submission. You can choose between BM25, TF-IDF and LLM.",
   "id": "b2c80dd62cb56300"
  },
  {
   "metadata": {},
   "cell_type": "markdown",
   "source": "## Query Preprocessing",
   "id": "66eb7f20dc1e7349"
  },
  {
   "metadata": {},
   "cell_type": "markdown",
   "source": "## Query encoding with model",
   "id": "d09e368336dbfb56"
  },
  {
   "metadata": {},
   "cell_type": "markdown",
   "source": "## Document Retrieval and submission.csv output",
   "id": "4952631aa66942be"
  }
 ],
 "metadata": {
  "kernelspec": {
   "display_name": "Python 3",
   "language": "python",
   "name": "python3"
  },
  "language_info": {
   "codemirror_mode": {
    "name": "ipython",
    "version": 2
   },
   "file_extension": ".py",
   "mimetype": "text/x-python",
   "name": "python",
   "nbconvert_exporter": "python",
   "pygments_lexer": "ipython2",
   "version": "2.7.6"
  }
 },
 "nbformat": 4,
 "nbformat_minor": 5
}

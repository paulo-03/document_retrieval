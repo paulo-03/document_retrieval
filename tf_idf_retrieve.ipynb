{
 "cells": [
  {
   "metadata": {},
   "cell_type": "markdown",
   "source": [
    "# TF-IDF Retriever\n",
    "\n",
    "This notebook shows the retrieval results of our TF-IDF implementation.\n",
    "\n",
    "***Author:*** Paulo Ribeiro"
   ],
   "id": "d7363c72e6c95a13"
  },
  {
   "metadata": {
    "ExecuteTime": {
     "end_time": "2024-10-03T16:50:18.632562Z",
     "start_time": "2024-10-03T16:50:16.240083Z"
    }
   },
   "cell_type": "code",
   "source": [
    "from tf_idf import TFIDFRetriever\n",
    "\n",
    "%load_ext autoreload\n",
    "%autoreload 2"
   ],
   "id": "ad0ff26e2bb849af",
   "outputs": [],
   "execution_count": 1
  },
  {
   "metadata": {},
   "cell_type": "markdown",
   "source": [
    "## TFIDFRetriever\n",
    "\n",
    "Initiate the retriever."
   ],
   "id": "3af9d67b500d69c4"
  },
  {
   "metadata": {
    "ExecuteTime": {
     "end_time": "2024-10-03T16:50:21.027859Z",
     "start_time": "2024-10-03T16:50:18.639583Z"
    }
   },
   "cell_type": "code",
   "source": "retriever = TFIDFRetriever(tf_idf_matrix_path='tf_idf_matrix/tf_idf_fr.pkl')",
   "id": "572e91e75b6b22a7",
   "outputs": [],
   "execution_count": 2
  },
  {
   "metadata": {},
   "cell_type": "markdown",
   "source": [
    "## Search\n",
    "\n",
    "Use the function `search` to make a specific match between one query and the top k documents."
   ],
   "id": "1a460e3dad204f98"
  },
  {
   "metadata": {
    "ExecuteTime": {
     "end_time": "2024-10-03T16:50:22.600978Z",
     "start_time": "2024-10-03T16:50:21.101037Z"
    }
   },
   "cell_type": "code",
   "source": [
    "retriever.search(\n",
    "    query=\"Quel hauteur fait la tour de Pise ?\",\n",
    "    lang=\"fr\",\n",
    "    topk=10,\n",
    "    present_results=True\n",
    ")"
   ],
   "id": "e4fe41bf93bdabc",
   "outputs": [
    {
     "name": "stdout",
     "output_type": "stream",
     "text": [
      "The top 10 documents are:\n",
      "doc-fr-7229: 0.6865957193610123\n",
      "doc-fr-10403: 0.6696641476708672\n",
      "doc-fr-59: 0.6675664455058784\n",
      "doc-fr-1400: 0.6637134594431519\n",
      "doc-fr-7179: 0.6451341606223312\n",
      "doc-fr-10229: 0.6211399805971776\n",
      "doc-fr-6939: 0.587840352816677\n",
      "doc-fr-9085: 0.5576262239001816\n",
      "doc-fr-6380: 0.5576262239001816\n",
      "doc-fr-5104: 0.5427624948977882\n"
     ]
    }
   ],
   "execution_count": 3
  },
  {
   "metadata": {},
   "cell_type": "markdown",
   "source": [
    "## Match\n",
    "\n",
    "Use the function `match` to match multiple queries to a top k documents."
   ],
   "id": "9ceaed7679c36f45"
  },
  {
   "metadata": {
    "ExecuteTime": {
     "end_time": "2024-10-03T16:50:23.360708Z",
     "start_time": "2024-10-03T16:50:23.322106Z"
    }
   },
   "cell_type": "code",
   "source": "#TODO",
   "id": "b5b415963ab7c900",
   "outputs": [],
   "execution_count": 4
  }
 ],
 "metadata": {
  "kernelspec": {
   "display_name": "Python 3",
   "language": "python",
   "name": "python3"
  },
  "language_info": {
   "codemirror_mode": {
    "name": "ipython",
    "version": 2
   },
   "file_extension": ".py",
   "mimetype": "text/x-python",
   "name": "python",
   "nbconvert_exporter": "python",
   "pygments_lexer": "ipython2",
   "version": "2.7.6"
  }
 },
 "nbformat": 4,
 "nbformat_minor": 5
}

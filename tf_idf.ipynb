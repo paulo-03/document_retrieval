{
 "cells": [
  {
   "metadata": {},
   "cell_type": "markdown",
   "source": [
    "# TF-IDF\n",
    "\n",
    "Notebooks to show our TF-IDF method and its performances."
   ],
   "id": "fa43bcd983c73454"
  },
  {
   "metadata": {},
   "cell_type": "markdown",
   "source": "## Import",
   "id": "a0e7081e79c5faa1"
  },
  {
   "metadata": {},
   "cell_type": "code",
   "outputs": [],
   "execution_count": null,
   "source": "from tf_idf import *",
   "id": "95f396ccdd199646"
  },
  {
   "metadata": {},
   "cell_type": "code",
   "outputs": [],
   "execution_count": null,
   "source": "clean_corpus_fr = pd.read_json(\"data/corpus.json/clean_corpus_fr.json\", lines=True)",
   "id": "844b3514f3599ff8"
  },
  {
   "metadata": {},
   "cell_type": "markdown",
   "source": "## TF-IDF computation",
   "id": "b05beebc97f5aef4"
  },
  {
   "metadata": {},
   "cell_type": "code",
   "outputs": [],
   "execution_count": null,
   "source": "data/corpus.json/clean_corpus_fr.json",
   "id": "24df14287c4f3103"
  }
 ],
 "metadata": {
  "kernelspec": {
   "display_name": "Python 3",
   "language": "python",
   "name": "python3"
  },
  "language_info": {
   "codemirror_mode": {
    "name": "ipython",
    "version": 2
   },
   "file_extension": ".py",
   "mimetype": "text/x-python",
   "name": "python",
   "nbconvert_exporter": "python",
   "pygments_lexer": "ipython2",
   "version": "2.7.6"
  }
 },
 "nbformat": 4,
 "nbformat_minor": 5
}

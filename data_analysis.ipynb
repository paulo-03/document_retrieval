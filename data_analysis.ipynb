{
 "cells": [
  {
   "metadata": {},
   "cell_type": "markdown",
   "source": [
    "# Data Analysis\n",
    "\n",
    "This notebook helps to understand the data structure and content."
   ],
   "id": "5d3ffd3acc5dd7c9"
  },
  {
   "metadata": {
    "ExecuteTime": {
     "end_time": "2024-10-09T14:57:33.029083Z",
     "start_time": "2024-10-09T14:57:31.047017Z"
    }
   },
   "cell_type": "code",
   "source": [
    "from data_helpers import *\n",
    "\n",
    "%load_ext autoreload\n",
    "%autoreload 2"
   ],
   "id": "85861eadeafe788b",
   "outputs": [],
   "execution_count": 1
  },
  {
   "metadata": {},
   "cell_type": "markdown",
   "source": [
    "## Load Data\n",
    "\n",
    "First we load the data into a pandas DataFrame."
   ],
   "id": "f0269e3dd00d9a2b"
  },
  {
   "metadata": {
    "ExecuteTime": {
     "end_time": "2024-10-09T14:59:56.383018Z",
     "start_time": "2024-10-09T14:57:33.770981Z"
    }
   },
   "cell_type": "code",
   "source": [
    "corpus_path = \"data/corpus.json/corpus.json\"\n",
    "\n",
    "corpus = pd.read_json(corpus_path)\n",
    "corpus.head()"
   ],
   "id": "57caccb9ad64d433",
   "outputs": [
    {
     "data": {
      "text/plain": [
       "          docid                                               text lang\n",
       "0   doc-en-9633  Mars Hill Church was a Christian megachurch, f...   en\n",
       "1  doc-en-11447  Joel Chandler Harris (December 9, 1848 – July ...   en\n",
       "2   doc-en-9696  Surabaya Dock of 14,000 tons was a floating dr...   en\n",
       "3   doc-en-4033  This is a list of the cicadas found in Austral...   en\n",
       "4  doc-en-10997  John Aaron Rawlins (February 13, 1831  Septemb...   en"
      ],
      "text/html": [
       "<div>\n",
       "<style scoped>\n",
       "    .dataframe tbody tr th:only-of-type {\n",
       "        vertical-align: middle;\n",
       "    }\n",
       "\n",
       "    .dataframe tbody tr th {\n",
       "        vertical-align: top;\n",
       "    }\n",
       "\n",
       "    .dataframe thead th {\n",
       "        text-align: right;\n",
       "    }\n",
       "</style>\n",
       "<table border=\"1\" class=\"dataframe\">\n",
       "  <thead>\n",
       "    <tr style=\"text-align: right;\">\n",
       "      <th></th>\n",
       "      <th>docid</th>\n",
       "      <th>text</th>\n",
       "      <th>lang</th>\n",
       "    </tr>\n",
       "  </thead>\n",
       "  <tbody>\n",
       "    <tr>\n",
       "      <th>0</th>\n",
       "      <td>doc-en-9633</td>\n",
       "      <td>Mars Hill Church was a Christian megachurch, f...</td>\n",
       "      <td>en</td>\n",
       "    </tr>\n",
       "    <tr>\n",
       "      <th>1</th>\n",
       "      <td>doc-en-11447</td>\n",
       "      <td>Joel Chandler Harris (December 9, 1848 – July ...</td>\n",
       "      <td>en</td>\n",
       "    </tr>\n",
       "    <tr>\n",
       "      <th>2</th>\n",
       "      <td>doc-en-9696</td>\n",
       "      <td>Surabaya Dock of 14,000 tons was a floating dr...</td>\n",
       "      <td>en</td>\n",
       "    </tr>\n",
       "    <tr>\n",
       "      <th>3</th>\n",
       "      <td>doc-en-4033</td>\n",
       "      <td>This is a list of the cicadas found in Austral...</td>\n",
       "      <td>en</td>\n",
       "    </tr>\n",
       "    <tr>\n",
       "      <th>4</th>\n",
       "      <td>doc-en-10997</td>\n",
       "      <td>John Aaron Rawlins (February 13, 1831  Septemb...</td>\n",
       "      <td>en</td>\n",
       "    </tr>\n",
       "  </tbody>\n",
       "</table>\n",
       "</div>"
      ]
     },
     "execution_count": 2,
     "metadata": {},
     "output_type": "execute_result"
    }
   ],
   "execution_count": 2
  },
  {
   "metadata": {},
   "cell_type": "markdown",
   "source": [
    "## Data Insight\n",
    "\n",
    "We can now dig a little bit into our corpus to understand it better."
   ],
   "id": "799199b8b590db27"
  },
  {
   "metadata": {
    "ExecuteTime": {
     "end_time": "2024-10-09T14:59:56.726170Z",
     "start_time": "2024-10-09T14:59:56.512889Z"
    }
   },
   "cell_type": "code",
   "source": "corpus_langs(corpus)",
   "id": "ec07e39a863daddd",
   "outputs": [
    {
     "name": "stdout",
     "output_type": "stream",
     "text": [
      "The corpus contains these languages:\n",
      "['en' 'fr' 'de' 'es' 'it' 'ko' 'ar']\n"
     ]
    }
   ],
   "execution_count": 3
  },
  {
   "metadata": {
    "ExecuteTime": {
     "end_time": "2024-10-09T15:15:35.843292Z",
     "start_time": "2024-10-09T15:14:11.826831Z"
    }
   },
   "cell_type": "code",
   "source": "corpus_text_length(corpus)",
   "id": "4d9728e8a31aabca",
   "outputs": [
    {
     "data": {
      "text/plain": [
       "  0%|          | 0/268022 [00:00<?, ?it/s]"
      ],
      "application/vnd.jupyter.widget-view+json": {
       "version_major": 2,
       "version_minor": 0,
       "model_id": "56fea70d0afe45a5bb25b49cf8f41119"
      }
     },
     "metadata": {},
     "output_type": "display_data"
    },
    {
     "data": {
      "text/plain": [
       "<Figure size 640x480 with 1 Axes>"
      ],
      "image/png": "[encoded data removed]"
     },
     "metadata": {},
     "output_type": "display_data"
    }
   ],
   "execution_count": 24
  }
 ],
 "metadata": {
  "kernelspec": {
   "display_name": "Python 3",
   "language": "python",
   "name": "python3"
  },
  "language_info": {
   "codemirror_mode": {
    "name": "ipython",
    "version": 2
   },
   "file_extension": ".py",
   "mimetype": "text/x-python",
   "name": "python",
   "nbconvert_exporter": "python",
   "pygments_lexer": "ipython2",
   "version": "2.7.6"
  }
 },
 "nbformat": 4,
 "nbformat_minor": 5
}

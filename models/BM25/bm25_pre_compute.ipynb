{
 "cells": [
  {
   "metadata": {},
   "cell_type": "markdown",
   "source": [
    "# BM25\n",
    "\n",
    "This notebook is used to show the BM25 implementation results.\n",
    "\n",
    "***Author:*** Paulo Ribeiro"
   ],
   "id": "d36364f26d0becfe"
  },
  {
   "metadata": {},
   "cell_type": "markdown",
   "source": "## Import",
   "id": "ef6ecc35927fe6aa"
  },
  {
   "metadata": {
    "ExecuteTime": {
     "end_time": "2024-10-21T20:38:51.834523Z",
     "start_time": "2024-10-21T20:38:51.589570Z"
    }
   },
   "cell_type": "code",
   "source": [
    "from bm25 import BM25sTrainer\n",
    "\n",
    "%load_ext autoreload\n",
    "%autoreload 2"
   ],
   "id": "cf8e32e1121398e6",
   "outputs": [
    {
     "name": "stdout",
     "output_type": "stream",
     "text": [
      "The autoreload extension is already loaded. To reload it, use:\n",
      "  %reload_ext autoreload\n"
     ]
    }
   ],
   "execution_count": 31
  },
  {
   "metadata": {},
   "cell_type": "markdown",
   "source": [
    "## BM25 Computation\n",
    "\n",
    "We pre-compute the term frequency per documents in advance to save time during the running time in Kaggle."
   ],
   "id": "7d349c935744204b"
  },
  {
   "metadata": {
    "ExecuteTime": {
     "end_time": "2024-10-21T20:38:56.932673Z",
     "start_time": "2024-10-21T20:38:51.908528Z"
    }
   },
   "cell_type": "code",
   "source": [
    "corpus = BM25sTrainer(\n",
    "    corpus_path=\"../clean_data/lower_case/clean_corpus_es.json\",\n",
    "    k1=1.2,\n",
    "    b=0.75\n",
    ")"
   ],
   "id": "431aefb9e0ec2add",
   "outputs": [
    {
     "name": "stdout",
     "output_type": "stream",
     "text": [
      "Loading corpus...\n",
      "Corpus loaded successfully! Found 11019 documents in 'es'.\n"
     ]
    }
   ],
   "execution_count": 32
  },
  {
   "metadata": {
    "ExecuteTime": {
     "end_time": "2024-10-21T20:38:57.040891Z",
     "start_time": "2024-10-21T20:38:56.989965Z"
    }
   },
   "cell_type": "code",
   "source": "corpus.data",
   "id": "74d60b8bf052022f",
   "outputs": [
    {
     "data": {
      "text/plain": [
       "              docid                                               text lang\n",
       "0        doc-es-214  beautiful boy: siempre serás mi hijo\\n\\nargume...   es\n",
       "1       doc-es-9159  vautour (buque de 1797)\\n\\ncorsario francés\\n\\...   es\n",
       "2       doc-es-5214  certificados de capital de desarrollo\\n\\nlos c...   es\n",
       "3       doc-es-1780  chispazos de tradición\\n\\ncaracterísticas del ...   es\n",
       "4       doc-es-9639  jericó\\n\\ntoponimia\\n\\nen canaán, en el moment...   es\n",
       "...             ...                                                ...  ...\n",
       "11014  doc-es-10683  club atlético river plate\\n\\nla máquina\\n\\nla ...   es\n",
       "11015  doc-es-10689  cuenca sedimentaria del paraná\\n\\nla cuenca se...   es\n",
       "11016   doc-es-5930  etimología de la rioja\\n\\nla etimología del to...   es\n",
       "11017  doc-es-10716  la gran sangre\\n\\nlos 10 cómic\\n\\ndragón sale ...   es\n",
       "11018  doc-es-10721  semana santa en salamanca\\n\\nhistoria\\n\\nla má...   es\n",
       "\n",
       "[11019 rows x 3 columns]"
      ],
      "text/html": [
       "<div>\n",
       "<style scoped>\n",
       "    .dataframe tbody tr th:only-of-type {\n",
       "        vertical-align: middle;\n",
       "    }\n",
       "\n",
       "    .dataframe tbody tr th {\n",
       "        vertical-align: top;\n",
       "    }\n",
       "\n",
       "    .dataframe thead th {\n",
       "        text-align: right;\n",
       "    }\n",
       "</style>\n",
       "<table border=\"1\" class=\"dataframe\">\n",
       "  <thead>\n",
       "    <tr style=\"text-align: right;\">\n",
       "      <th></th>\n",
       "      <th>docid</th>\n",
       "      <th>text</th>\n",
       "      <th>lang</th>\n",
       "    </tr>\n",
       "  </thead>\n",
       "  <tbody>\n",
       "    <tr>\n",
       "      <th>0</th>\n",
       "      <td>doc-es-214</td>\n",
       "      <td>beautiful boy: siempre serás mi hijo\\n\\nargume...</td>\n",
       "      <td>es</td>\n",
       "    </tr>\n",
       "    <tr>\n",
       "      <th>1</th>\n",
       "      <td>doc-es-9159</td>\n",
       "      <td>vautour (buque de 1797)\\n\\ncorsario francés\\n\\...</td>\n",
       "      <td>es</td>\n",
       "    </tr>\n",
       "    <tr>\n",
       "      <th>2</th>\n",
       "      <td>doc-es-5214</td>\n",
       "      <td>certificados de capital de desarrollo\\n\\nlos c...</td>\n",
       "      <td>es</td>\n",
       "    </tr>\n",
       "    <tr>\n",
       "      <th>3</th>\n",
       "      <td>doc-es-1780</td>\n",
       "      <td>chispazos de tradición\\n\\ncaracterísticas del ...</td>\n",
       "      <td>es</td>\n",
       "    </tr>\n",
       "    <tr>\n",
       "      <th>4</th>\n",
       "      <td>doc-es-9639</td>\n",
       "      <td>jericó\\n\\ntoponimia\\n\\nen canaán, en el moment...</td>\n",
       "      <td>es</td>\n",
       "    </tr>\n",
       "    <tr>\n",
       "      <th>...</th>\n",
       "      <td>...</td>\n",
       "      <td>...</td>\n",
       "      <td>...</td>\n",
       "    </tr>\n",
       "    <tr>\n",
       "      <th>11014</th>\n",
       "      <td>doc-es-10683</td>\n",
       "      <td>club atlético river plate\\n\\nla máquina\\n\\nla ...</td>\n",
       "      <td>es</td>\n",
       "    </tr>\n",
       "    <tr>\n",
       "      <th>11015</th>\n",
       "      <td>doc-es-10689</td>\n",
       "      <td>cuenca sedimentaria del paraná\\n\\nla cuenca se...</td>\n",
       "      <td>es</td>\n",
       "    </tr>\n",
       "    <tr>\n",
       "      <th>11016</th>\n",
       "      <td>doc-es-5930</td>\n",
       "      <td>etimología de la rioja\\n\\nla etimología del to...</td>\n",
       "      <td>es</td>\n",
       "    </tr>\n",
       "    <tr>\n",
       "      <th>11017</th>\n",
       "      <td>doc-es-10716</td>\n",
       "      <td>la gran sangre\\n\\nlos 10 cómic\\n\\ndragón sale ...</td>\n",
       "      <td>es</td>\n",
       "    </tr>\n",
       "    <tr>\n",
       "      <th>11018</th>\n",
       "      <td>doc-es-10721</td>\n",
       "      <td>semana santa en salamanca\\n\\nhistoria\\n\\nla má...</td>\n",
       "      <td>es</td>\n",
       "    </tr>\n",
       "  </tbody>\n",
       "</table>\n",
       "<p>11019 rows × 3 columns</p>\n",
       "</div>"
      ]
     },
     "execution_count": 33,
     "metadata": {},
     "output_type": "execute_result"
    }
   ],
   "execution_count": 33
  },
  {
   "metadata": {},
   "cell_type": "markdown",
   "source": [
    "## Vocabulary\n",
    "\n",
    "Let's have a look at the vocabulary of the documents. First we can see how many words are in the vocabulary.\n",
    "\n",
    "Also, we can have a look at the distribution of the words to see which words are the most common. Recall that every punctuation and stopwords have been remove from the data_cleaning part."
   ],
   "id": "93ae17ac18e6e435"
  },
  {
   "metadata": {
    "ExecuteTime": {
     "end_time": "2024-10-21T20:39:30.943453Z",
     "start_time": "2024-10-21T20:38:57.132599Z"
    }
   },
   "cell_type": "code",
   "source": "corpus.create_vocabulary()",
   "id": "c2ddccd7553d8a01",
   "outputs": [
    {
     "name": "stdout",
     "output_type": "stream",
     "text": [
      "Vocabulary created with 602712 unique terms!\n",
      "Computed document lengths and average document length: 5721.09 tokens/words\n",
      "\n"
     ]
    }
   ],
   "execution_count": 34
  },
  {
   "metadata": {},
   "cell_type": "markdown",
   "source": [
    "## Compute the BM25 matrix\n",
    "\n",
    "From the given corpus, compute the BM25 matrix of size (vocabulary_size X document_number)."
   ],
   "id": "30448f39340fe76b"
  },
  {
   "metadata": {
    "ExecuteTime": {
     "end_time": "2024-10-21T20:41:06.238499Z",
     "start_time": "2024-10-21T20:39:31.038283Z"
    }
   },
   "cell_type": "code",
   "source": "corpus.fit()",
   "id": "f0d2af7b8e483bc2",
   "outputs": [
    {
     "name": "stderr",
     "output_type": "stream",
     "text": [
      "Computing normalized TF: 100%|██████████| 11019/11019 [01:21<00:00, 134.61it/s]\n"
     ]
    },
    {
     "name": "stdout",
     "output_type": "stream",
     "text": [
      "Computing IDF...\n",
      "Inverse Document Frequency (IDF) computed!\n",
      "\n",
      "Computing score matrix (IDF x normalized TF)...\n",
      "BM25S Trainer is ready for es document retrieval!\n"
     ]
    }
   ],
   "execution_count": 35
  },
  {
   "metadata": {},
   "cell_type": "markdown",
   "source": [
    "## Saving the results\n",
    "\n",
    "Let's store in the disk our results. They will be used to retrieve the documents from a query later, in the tf_idf_retriever part."
   ],
   "id": "72028e73e4fea6a6"
  },
  {
   "metadata": {
    "ExecuteTime": {
     "end_time": "2024-10-21T20:41:06.774700Z",
     "start_time": "2024-10-21T20:41:06.260483Z"
    }
   },
   "cell_type": "code",
   "source": "corpus.save_results(path='bm25_matrix/lower_case')",
   "id": "1b23bece8e2d2720",
   "outputs": [
    {
     "name": "stdout",
     "output_type": "stream",
     "text": [
      "BM25S model saved successfully!\n"
     ]
    }
   ],
   "execution_count": 36
  }
 ],
 "metadata": {
  "kernelspec": {
   "display_name": "Python 3",
   "language": "python",
   "name": "python3"
  },
  "language_info": {
   "codemirror_mode": {
    "name": "ipython",
    "version": 2
   },
   "file_extension": ".py",
   "mimetype": "text/x-python",
   "name": "python",
   "nbconvert_exporter": "python",
   "pygments_lexer": "ipython2",
   "version": "2.7.6"
  }
 },
 "nbformat": 4,
 "nbformat_minor": 5
}

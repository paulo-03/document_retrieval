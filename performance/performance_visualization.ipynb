{
 "cells": [
  {
   "metadata": {},
   "cell_type": "markdown",
   "source": [
    "# Performance\n",
    "\n",
    "This notebook propose some visualization to assess the performance difference between data processings and hyperparameters choices.\n",
    "\n",
    "***Author:*** Paulo Ribeiro"
   ],
   "id": "ed1d18b19ad14acf"
  },
  {
   "metadata": {},
   "cell_type": "markdown",
   "source": "## Import",
   "id": "57f681189e62ca7d"
  },
  {
   "metadata": {},
   "cell_type": "code",
   "outputs": [],
   "execution_count": null,
   "source": "",
   "id": "10a69f6b3b6f2fe7"
  },
  {
   "metadata": {},
   "cell_type": "markdown",
   "source": [
    "## Load Solution and Output\n",
    "\n",
    "We have computed the `.csv` files with `document_retrieval.py` python script. We then want to compare our matches to the desired ones in the `dev.csv` file. To do so, we start by loading all the files."
   ],
   "id": "2edc3f5919ee9506"
  },
  {
   "metadata": {},
   "cell_type": "code",
   "outputs": [],
   "execution_count": null,
   "source": "",
   "id": "44790ac17786ac09"
  }
 ],
 "metadata": {
  "kernelspec": {
   "display_name": "Python 3",
   "language": "python",
   "name": "python3"
  },
  "language_info": {
   "codemirror_mode": {
    "name": "ipython",
    "version": 2
   },
   "file_extension": ".py",
   "mimetype": "text/x-python",
   "name": "python",
   "nbconvert_exporter": "python",
   "pygments_lexer": "ipython2",
   "version": "2.7.6"
  }
 },
 "nbformat": 4,
 "nbformat_minor": 5
}

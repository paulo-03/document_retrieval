{
 "cells": [
  {
   "cell_type": "code",
   "execution_count": 1,
   "metadata": {},
   "outputs": [
    {
     "name": "stderr",
     "output_type": "stream",
     "text": [
      "/Users/othmaneio/opt/miniconda3/envs/adaexam/lib/python3.9/site-packages/pandas/core/arrays/masked.py:60: UserWarning: Pandas requires version '1.3.6' or newer of 'bottleneck' (version '1.3.5' currently installed).\n",
      "  from pandas.core import (\n"
     ]
    }
   ],
   "source": [
    "from data_loader_oti import *"
   ]
  },
  {
   "cell_type": "code",
   "execution_count": 3,
   "metadata": {},
   "outputs": [],
   "source": [
    "#import spellchecker \n",
    "from spellchecker import SpellChecker\n",
    "\n",
    "spell_fr = SpellChecker(language='fr')"
   ]
  },
  {
   "cell_type": "code",
   "execution_count": 4,
   "metadata": {},
   "outputs": [
    {
     "data": {
      "text/plain": [
       "<bound method SpellChecker.correction of <spellchecker.spellchecker.SpellChecker object at 0x7fb2ddd781c0>>"
      ]
     },
     "execution_count": 4,
     "metadata": {},
     "output_type": "execute_result"
    }
   ],
   "source": [
    "spell_fr.correction"
   ]
  },
  {
   "cell_type": "code",
   "execution_count": 7,
   "metadata": {},
   "outputs": [],
   "source": [
    "#lemmatizer\n",
    "from nltk.stem import WordNetLemmatizer\n",
    "lemmatizer = WordNetLemmatizer()\n",
    "lemmatize = lemmatizer.lemmatize\n"
   ]
  },
  {
   "cell_type": "code",
   "execution_count": 11,
   "metadata": {},
   "outputs": [
    {
     "name": "stdout",
     "output_type": "stream",
     "text": [
      "Une\n",
      "Une\n",
      "Une\n",
      "Une\n",
      "phrasde\n",
      "phrasde\n",
      "phrase\n",
      "phrase\n",
      "est\n",
      "est\n",
      "est\n",
      "est\n",
      "une\n",
      "une\n",
      "une\n",
      "une\n",
      "suite\n",
      "suite\n",
      "suite\n",
      "suite\n",
      "de\n",
      "de\n",
      "de\n",
      "de\n",
      "Motas\n",
      "Motas\n",
      "mots\n",
      "mot\n",
      "qui,\n",
      "qui,\n",
      "qui\n",
      "qui\n",
      "à\n",
      "à\n",
      "à\n",
      "à\n",
      "l'\n",
      "l'\n",
      "l'\n",
      "l'\n",
      "écrrit,\n",
      "écrrit,\n",
      "écrit\n",
      "écrit\n",
      "commance\n",
      "commance\n",
      "commence\n",
      "commence\n",
      ",\n",
      ",\n",
      ",\n",
      ",\n",
      "je\n",
      "je\n",
      "je\n",
      "je\n",
      "courrrai\n",
      "courrrai\n",
      "courrai\n",
      "courrai\n",
      "par\n",
      "par\n",
      "par\n",
      "par\n",
      "une\n",
      "une\n",
      "une\n",
      "une\n",
      "majiscule\n",
      "majiscule\n",
      "majuscule\n",
      "majuscule\n",
      "et\n",
      "et\n",
      "et\n",
      "et\n",
      "se\n",
      "se\n",
      "se\n",
      "se\n",
      "termine\n",
      "termine\n",
      "termine\n",
      "termine\n",
      "par\n",
      "par\n",
      "par\n",
      "par\n",
      "une\n",
      "une\n",
      "une\n",
      "une\n",
      "ponctation\n",
      "ponctation\n",
      "ponctuation\n",
      "ponctuation\n",
      "forttement\n",
      "forttement\n",
      "fortement\n",
      "fortement\n"
     ]
    }
   ],
   "source": [
    "sentence = \"Une phrasde est une suite de Motas qui, à l' écrrit, commance , je courrrai par une majiscule et se termine par une ponctation forttement\"\n",
    "words = sentence.split(' ') \n",
    "\n",
    "for word in words:\n",
    "    print(word)\n",
    "    #lemmatize using the french lemmatizer\n",
    "    print(lemmatize(word))\n",
    "    print(spell_fr.correction(word))\n",
    "    print(lemmatize(spell_fr.correction(word)))\n"
   ]
  },
  {
   "cell_type": "code",
   "execution_count": 4,
   "metadata": {},
   "outputs": [
    {
     "ename": "OSError",
     "evalue": "No pandoc was found: either install pandoc and add it\nto your PATH or or call pypandoc.download_pandoc(...) or\ninstall pypandoc wheels with included pandoc.",
     "output_type": "error",
     "traceback": [
      "\u001b[0;31m---------------------------------------------------------------------------\u001b[0m",
      "\u001b[0;31mOSError\u001b[0m                                   Traceback (most recent call last)",
      "\u001b[0;32m/var/folders/m4/7y6r9d5x1f9g7xkd8133tc2r0000gn/T/ipykernel_34159/3571866891.py\u001b[0m in \u001b[0;36m<module>\u001b[0;34m\u001b[0m\n\u001b[1;32m      2\u001b[0m \u001b[0;34m\u001b[0m\u001b[0m\n\u001b[1;32m      3\u001b[0m \u001b[0;31m# Convert the RTFD file to plain text\u001b[0m\u001b[0;34m\u001b[0m\u001b[0;34m\u001b[0m\u001b[0m\n\u001b[0;32m----> 4\u001b[0;31m \u001b[0moutput\u001b[0m \u001b[0;34m=\u001b[0m \u001b[0mpypandoc\u001b[0m\u001b[0;34m.\u001b[0m\u001b[0mconvert_file\u001b[0m\u001b[0;34m(\u001b[0m\u001b[0;34m'korean_stopwords.rtfd'\u001b[0m\u001b[0;34m,\u001b[0m \u001b[0;34m'plain'\u001b[0m\u001b[0;34m)\u001b[0m\u001b[0;34m\u001b[0m\u001b[0;34m\u001b[0m\u001b[0m\n\u001b[0m\u001b[1;32m      5\u001b[0m \u001b[0;34m\u001b[0m\u001b[0m\n\u001b[1;32m      6\u001b[0m \u001b[0;31m# Split the text into lines and strip newline characters\u001b[0m\u001b[0;34m\u001b[0m\u001b[0;34m\u001b[0m\u001b[0m\n",
      "\u001b[0;32m~/opt/miniconda3/envs/adaexam/lib/python3.9/site-packages/pypandoc/__init__.py\u001b[0m in \u001b[0;36mconvert_file\u001b[0;34m(source_file, to, format, extra_args, encoding, outputfile, filters, verify_format, sandbox, cworkdir)\u001b[0m\n\u001b[1;32m    198\u001b[0m         \u001b[0mdiscovered_source_files\u001b[0m \u001b[0;34m=\u001b[0m \u001b[0mdiscovered_source_files\u001b[0m\u001b[0;34m[\u001b[0m\u001b[0;36m0\u001b[0m\u001b[0;34m]\u001b[0m\u001b[0;34m\u001b[0m\u001b[0;34m\u001b[0m\u001b[0m\n\u001b[1;32m    199\u001b[0m \u001b[0;34m\u001b[0m\u001b[0m\n\u001b[0;32m--> 200\u001b[0;31m     return _convert_input(discovered_source_files, format, 'path', to, extra_args=extra_args,\n\u001b[0m\u001b[1;32m    201\u001b[0m                       \u001b[0moutputfile\u001b[0m\u001b[0;34m=\u001b[0m\u001b[0moutputfile\u001b[0m\u001b[0;34m,\u001b[0m \u001b[0mfilters\u001b[0m\u001b[0;34m=\u001b[0m\u001b[0mfilters\u001b[0m\u001b[0;34m,\u001b[0m\u001b[0;34m\u001b[0m\u001b[0;34m\u001b[0m\u001b[0m\n\u001b[1;32m    202\u001b[0m                       \u001b[0mverify_format\u001b[0m\u001b[0;34m=\u001b[0m\u001b[0mverify_format\u001b[0m\u001b[0;34m,\u001b[0m \u001b[0msandbox\u001b[0m\u001b[0;34m=\u001b[0m\u001b[0msandbox\u001b[0m\u001b[0;34m,\u001b[0m\u001b[0;34m\u001b[0m\u001b[0;34m\u001b[0m\u001b[0m\n",
      "\u001b[0;32m~/opt/miniconda3/envs/adaexam/lib/python3.9/site-packages/pypandoc/__init__.py\u001b[0m in \u001b[0;36m_convert_input\u001b[0;34m(source, format, input_type, to, extra_args, outputfile, filters, verify_format, sandbox, cworkdir)\u001b[0m\n\u001b[1;32m    362\u001b[0m \u001b[0;34m\u001b[0m\u001b[0m\n\u001b[1;32m    363\u001b[0m     \u001b[0mlogger\u001b[0m\u001b[0;34m.\u001b[0m\u001b[0mdebug\u001b[0m\u001b[0;34m(\u001b[0m\u001b[0;34m\"Ensuring pandoc path...\"\u001b[0m\u001b[0;34m)\u001b[0m\u001b[0;34m\u001b[0m\u001b[0;34m\u001b[0m\u001b[0m\n\u001b[0;32m--> 364\u001b[0;31m     \u001b[0m_ensure_pandoc_path\u001b[0m\u001b[0;34m(\u001b[0m\u001b[0;34m)\u001b[0m\u001b[0;34m\u001b[0m\u001b[0;34m\u001b[0m\u001b[0m\n\u001b[0m\u001b[1;32m    365\u001b[0m \u001b[0;34m\u001b[0m\u001b[0m\n\u001b[1;32m    366\u001b[0m     \u001b[0;32mif\u001b[0m \u001b[0mverify_format\u001b[0m\u001b[0;34m:\u001b[0m\u001b[0;34m\u001b[0m\u001b[0;34m\u001b[0m\u001b[0m\n",
      "\u001b[0;32m~/opt/miniconda3/envs/adaexam/lib/python3.9/site-packages/pypandoc/__init__.py\u001b[0m in \u001b[0;36m_ensure_pandoc_path\u001b[0;34m()\u001b[0m\n\u001b[1;32m    795\u001b[0m \u001b[0;34m\u001b[0m\u001b[0m\n\u001b[1;32m    796\u001b[0m             \"\"\"))\n\u001b[0;32m--> 797\u001b[0;31m             raise OSError(\"No pandoc was found: either install pandoc and add it\\n\"\n\u001b[0m\u001b[1;32m    798\u001b[0m                           \u001b[0;34m\"to your PATH or or call pypandoc.download_pandoc(...) or\\n\"\u001b[0m\u001b[0;34m\u001b[0m\u001b[0;34m\u001b[0m\u001b[0m\n\u001b[1;32m    799\u001b[0m                           \"install pypandoc wheels with included pandoc.\")\n",
      "\u001b[0;31mOSError\u001b[0m: No pandoc was found: either install pandoc and add it\nto your PATH or or call pypandoc.download_pandoc(...) or\ninstall pypandoc wheels with included pandoc."
     ]
    }
   ],
   "source": [
    "import pypandoc\n",
    "\n",
    "# Convert the RTFD file to plain text\n",
    "output = pypandoc.convert_file('korean_stopwords.rtfd', 'plain')\n",
    "\n",
    "# Split the text into lines and strip newline characters\n",
    "word_list = [line.strip() for line in output.splitlines()]\n",
    "\n",
    "# Print or use the list as needed\n",
    "print(word_list)"
   ]
  },
  {
   "cell_type": "code",
   "execution_count": 10,
   "metadata": {},
   "outputs": [],
   "source": [
    "\n"
   ]
  },
  {
   "cell_type": "code",
   "execution_count": 9,
   "metadata": {},
   "outputs": [
    {
     "data": {
      "text/plain": [
       "595"
      ]
     },
     "execution_count": 9,
     "metadata": {},
     "output_type": "execute_result"
    }
   ],
   "source": [
    "len(set(korean_words))"
   ]
  }
 ],
 "metadata": {
  "kernelspec": {
   "display_name": "adaexam",
   "language": "python",
   "name": "python3"
  },
  "language_info": {
   "codemirror_mode": {
    "name": "ipython",
    "version": 3
   },
   "file_extension": ".py",
   "mimetype": "text/x-python",
   "name": "python",
   "nbconvert_exporter": "python",
   "pygments_lexer": "ipython3",
   "version": "3.9.7"
  }
 },
 "nbformat": 4,
 "nbformat_minor": 2
}

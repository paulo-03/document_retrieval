{
 "cells": [
  {
   "metadata": {},
   "cell_type": "markdown",
   "source": [
    "# BM25\n",
    "\n",
    "This notebook is used to show the BM25 implementation results.\n",
    "\n",
    "***Author:*** Paulo Ribeiro"
   ],
   "id": "d36364f26d0becfe"
  },
  {
   "metadata": {},
   "cell_type": "markdown",
   "source": "## Import",
   "id": "ef6ecc35927fe6aa"
  },
  {
   "metadata": {
    "ExecuteTime": {
     "end_time": "2024-10-21T14:27:01.830800Z",
     "start_time": "2024-10-21T14:27:01.797776Z"
    }
   },
   "cell_type": "code",
   "source": [
    "from bm25 import BM25sTrainer\n",
    "\n",
    "%load_ext autoreload\n",
    "%autoreload 2"
   ],
   "id": "cf8e32e1121398e6",
   "outputs": [
    {
     "name": "stdout",
     "output_type": "stream",
     "text": [
      "The autoreload extension is already loaded. To reload it, use:\n",
      "  %reload_ext autoreload\n"
     ]
    }
   ],
   "execution_count": 25
  },
  {
   "metadata": {},
   "cell_type": "markdown",
   "source": [
    "## BM25 Computation\n",
    "\n",
    "We pre-compute the term frequency per documents in advance to save time during the running time in Kaggle."
   ],
   "id": "7d349c935744204b"
  },
  {
   "metadata": {
    "ExecuteTime": {
     "end_time": "2024-10-21T14:27:04.480268Z",
     "start_time": "2024-10-21T14:27:01.870854Z"
    }
   },
   "cell_type": "code",
   "source": [
    "corpus = BM25sTrainer(\n",
    "    corpus_path=\"../clean_data/lower_case_stop_words_lemmatization/clean_corpus_es.json\",\n",
    "    k1=1.2,\n",
    "    b=0.75\n",
    ")"
   ],
   "id": "431aefb9e0ec2add",
   "outputs": [
    {
     "name": "stdout",
     "output_type": "stream",
     "text": [
      "Loading corpus...\n",
      "Corpus loaded successfully! Found 11019 documents in 'es'.\n"
     ]
    }
   ],
   "execution_count": 26
  },
  {
   "metadata": {
    "ExecuteTime": {
     "end_time": "2024-10-21T14:27:04.549809Z",
     "start_time": "2024-10-21T14:27:04.509838Z"
    }
   },
   "cell_type": "code",
   "source": "corpus.data",
   "id": "74d60b8bf052022f",
   "outputs": [
    {
     "data": {
      "text/plain": [
       "              docid                                               text lang\n",
       "0        doc-es-214  beautiful boy : siempre hijo argumento películ...   es\n",
       "1       doc-es-9159  vautour ( buque 1797 ) corsario francés vautou...   es\n",
       "2       doc-es-5214  certificado capital desarrollo certificado cap...   es\n",
       "3       doc-es-1780  chispazo tradición característico programa gon...   es\n",
       "4       doc-es-9639  jericar toponimia canaán , momento conquista h...   es\n",
       "...             ...                                                ...  ...\n",
       "11014  doc-es-10683  club atlético river plate máquín máquina apela...   es\n",
       "11015  doc-es-10689  cuenca sedimentario paraná cuenca sedimentario...   es\n",
       "11016   doc-es-5930  etimología riojo etimología topónimo riojo , l...   es\n",
       "11017  doc-es-10716  gran sangre 10 cómic dragón salir cárcel , enc...   es\n",
       "11018  doc-es-10721  semana santo salamanco historia antiguo herman...   es\n",
       "\n",
       "[11019 rows x 3 columns]"
      ],
      "text/html": [
       "<div>\n",
       "<style scoped>\n",
       "    .dataframe tbody tr th:only-of-type {\n",
       "        vertical-align: middle;\n",
       "    }\n",
       "\n",
       "    .dataframe tbody tr th {\n",
       "        vertical-align: top;\n",
       "    }\n",
       "\n",
       "    .dataframe thead th {\n",
       "        text-align: right;\n",
       "    }\n",
       "</style>\n",
       "<table border=\"1\" class=\"dataframe\">\n",
       "  <thead>\n",
       "    <tr style=\"text-align: right;\">\n",
       "      <th></th>\n",
       "      <th>docid</th>\n",
       "      <th>text</th>\n",
       "      <th>lang</th>\n",
       "    </tr>\n",
       "  </thead>\n",
       "  <tbody>\n",
       "    <tr>\n",
       "      <th>0</th>\n",
       "      <td>doc-es-214</td>\n",
       "      <td>beautiful boy : siempre hijo argumento películ...</td>\n",
       "      <td>es</td>\n",
       "    </tr>\n",
       "    <tr>\n",
       "      <th>1</th>\n",
       "      <td>doc-es-9159</td>\n",
       "      <td>vautour ( buque 1797 ) corsario francés vautou...</td>\n",
       "      <td>es</td>\n",
       "    </tr>\n",
       "    <tr>\n",
       "      <th>2</th>\n",
       "      <td>doc-es-5214</td>\n",
       "      <td>certificado capital desarrollo certificado cap...</td>\n",
       "      <td>es</td>\n",
       "    </tr>\n",
       "    <tr>\n",
       "      <th>3</th>\n",
       "      <td>doc-es-1780</td>\n",
       "      <td>chispazo tradición característico programa gon...</td>\n",
       "      <td>es</td>\n",
       "    </tr>\n",
       "    <tr>\n",
       "      <th>4</th>\n",
       "      <td>doc-es-9639</td>\n",
       "      <td>jericar toponimia canaán , momento conquista h...</td>\n",
       "      <td>es</td>\n",
       "    </tr>\n",
       "    <tr>\n",
       "      <th>...</th>\n",
       "      <td>...</td>\n",
       "      <td>...</td>\n",
       "      <td>...</td>\n",
       "    </tr>\n",
       "    <tr>\n",
       "      <th>11014</th>\n",
       "      <td>doc-es-10683</td>\n",
       "      <td>club atlético river plate máquín máquina apela...</td>\n",
       "      <td>es</td>\n",
       "    </tr>\n",
       "    <tr>\n",
       "      <th>11015</th>\n",
       "      <td>doc-es-10689</td>\n",
       "      <td>cuenca sedimentario paraná cuenca sedimentario...</td>\n",
       "      <td>es</td>\n",
       "    </tr>\n",
       "    <tr>\n",
       "      <th>11016</th>\n",
       "      <td>doc-es-5930</td>\n",
       "      <td>etimología riojo etimología topónimo riojo , l...</td>\n",
       "      <td>es</td>\n",
       "    </tr>\n",
       "    <tr>\n",
       "      <th>11017</th>\n",
       "      <td>doc-es-10716</td>\n",
       "      <td>gran sangre 10 cómic dragón salir cárcel , enc...</td>\n",
       "      <td>es</td>\n",
       "    </tr>\n",
       "    <tr>\n",
       "      <th>11018</th>\n",
       "      <td>doc-es-10721</td>\n",
       "      <td>semana santo salamanco historia antiguo herman...</td>\n",
       "      <td>es</td>\n",
       "    </tr>\n",
       "  </tbody>\n",
       "</table>\n",
       "<p>11019 rows × 3 columns</p>\n",
       "</div>"
      ]
     },
     "execution_count": 27,
     "metadata": {},
     "output_type": "execute_result"
    }
   ],
   "execution_count": 27
  },
  {
   "metadata": {},
   "cell_type": "markdown",
   "source": [
    "## Vocabulary\n",
    "\n",
    "Let's have a look at the vocabulary of the documents. First we can see how many words are in the vocabulary.\n",
    "\n",
    "Also, we can have a look at the distribution of the words to see which words are the most common. Recall that every punctuation and stopwords have been remove from the data_cleaning part."
   ],
   "id": "93ae17ac18e6e435"
  },
  {
   "metadata": {
    "ExecuteTime": {
     "end_time": "2024-10-21T14:27:27.444164Z",
     "start_time": "2024-10-21T14:27:04.628111Z"
    }
   },
   "cell_type": "code",
   "source": "corpus.create_vocabulary()",
   "id": "c2ddccd7553d8a01",
   "outputs": [
    {
     "name": "stdout",
     "output_type": "stream",
     "text": [
      "Vocabulary created with 596816 unique terms!\n",
      "Computed document lengths and average document length: 3174.78 tokens/words\n",
      "\n"
     ]
    }
   ],
   "execution_count": 28
  },
  {
   "metadata": {},
   "cell_type": "markdown",
   "source": [
    "## Compute the BM25 matrix\n",
    "\n",
    "From the given corpus, compute the BM25 matrix of size (vocabulary_size X document_number)."
   ],
   "id": "30448f39340fe76b"
  },
  {
   "metadata": {
    "ExecuteTime": {
     "end_time": "2024-10-21T14:28:36.866735Z",
     "start_time": "2024-10-21T14:27:27.521747Z"
    }
   },
   "cell_type": "code",
   "source": "corpus.fit()",
   "id": "f0d2af7b8e483bc2",
   "outputs": [
    {
     "name": "stderr",
     "output_type": "stream",
     "text": [
      "Computing normalized TF: 100%|██████████| 11019/11019 [00:58<00:00, 186.96it/s]\n"
     ]
    },
    {
     "name": "stdout",
     "output_type": "stream",
     "text": [
      "Computing IDF...\n",
      "Inverse Document Frequency (IDF) computed!\n",
      "\n",
      "Computing score matrix (IDF x normalized TF)...\n",
      "BM25S Trainer is ready for es document retrieval!\n"
     ]
    }
   ],
   "execution_count": 29
  },
  {
   "metadata": {},
   "cell_type": "markdown",
   "source": [
    "## Saving the results\n",
    "\n",
    "Let's store in the disk our results. They will be used to retrieve the documents from a query later, in the tf_idf_retriever part."
   ],
   "id": "72028e73e4fea6a6"
  },
  {
   "metadata": {
    "ExecuteTime": {
     "end_time": "2024-10-21T14:28:37.294327Z",
     "start_time": "2024-10-21T14:28:36.874851Z"
    }
   },
   "cell_type": "code",
   "source": "corpus.save_results(path='bm25_matrix/lower_case_stop_words_lemmatization')",
   "id": "1b23bece8e2d2720",
   "outputs": [
    {
     "name": "stdout",
     "output_type": "stream",
     "text": [
      "BM25S model saved successfully!\n"
     ]
    }
   ],
   "execution_count": 30
  }
 ],
 "metadata": {
  "kernelspec": {
   "display_name": "Python 3",
   "language": "python",
   "name": "python3"
  },
  "language_info": {
   "codemirror_mode": {
    "name": "ipython",
    "version": 2
   },
   "file_extension": ".py",
   "mimetype": "text/x-python",
   "name": "python",
   "nbconvert_exporter": "python",
   "pygments_lexer": "ipython2",
   "version": "2.7.6"
  }
 },
 "nbformat": 4,
 "nbformat_minor": 5
}

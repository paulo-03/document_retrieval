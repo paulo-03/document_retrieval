{
 "cells": [
  {
   "metadata": {},
   "cell_type": "markdown",
   "source": [
    "# BM25\n",
    "\n",
    "Notebooks to show our BM25 method and its performances."
   ],
   "id": "ef9731a0d67708f9"
  },
  {
   "metadata": {},
   "cell_type": "markdown",
   "source": "## Import",
   "id": "110f817a943b3682"
  },
  {
   "metadata": {
    "ExecuteTime": {
     "end_time": "2024-10-17T19:56:53.950442Z",
     "start_time": "2024-10-17T19:56:36.628187Z"
    }
   },
   "cell_type": "code",
   "source": [
    "from bm25 import BM25_retriever\n",
    "import pandas as pd\n",
    "from tqdm import tqdm\n",
    "from query_preprocessing import preprocess_queries\n",
    "from metrics import export_query_result_to_submission_csv, get_answers_for_submission_csv, compute_recall_10\n",
    "\n",
    "#disable warnings   \n",
    "import warnings\n",
    "warnings.filterwarnings('ignore')\n",
    "\n",
    "%load_ext autoreload\n",
    "%autoreload 2"
   ],
   "id": "cc5f2667f352d5ab",
   "outputs": [],
   "execution_count": 1
  },
  {
   "metadata": {},
   "cell_type": "markdown",
   "source": "## BM25 Initialization",
   "id": "5040dcf9f716365a"
  },
  {
   "metadata": {
    "ExecuteTime": {
     "end_time": "2024-10-17T19:59:02.697434Z",
     "start_time": "2024-10-17T19:56:58.946138Z"
    }
   },
   "cell_type": "code",
   "source": [
    "# Load all models for each langs\n",
    "langs = ['en', 'fr', 'de', 'es', 'it', 'ko', 'ar']\n",
    "#langs = ['en']\n",
    "langs_models = {}\n",
    "\n",
    "for lang in tqdm(langs, desc=\"Loading BM25 models\", unit=\"lang\"):\n",
    "    path = f\"bm25_models/bm25_{lang}.pkl\"\n",
    "    model = BM25_retriever(path)\n",
    "    langs_models[lang] = model"
   ],
   "id": "650f501398fce4ce",
   "outputs": [
    {
     "name": "stderr",
     "output_type": "stream",
     "text": [
      "Loading BM25 models:   0%|          | 0/7 [02:00<?, ?lang/s]\n"
     ]
    },
    {
     "ename": "KeyboardInterrupt",
     "evalue": "",
     "output_type": "error",
     "traceback": [
      "\u001B[1;31m---------------------------------------------------------------------------\u001B[0m",
      "\u001B[1;31mKeyboardInterrupt\u001B[0m                         Traceback (most recent call last)",
      "Cell \u001B[1;32mIn[2], line 8\u001B[0m\n\u001B[0;32m      6\u001B[0m \u001B[38;5;28;01mfor\u001B[39;00m lang \u001B[38;5;129;01min\u001B[39;00m tqdm(langs, desc\u001B[38;5;241m=\u001B[39m\u001B[38;5;124m\"\u001B[39m\u001B[38;5;124mLoading BM25 models\u001B[39m\u001B[38;5;124m\"\u001B[39m, unit\u001B[38;5;241m=\u001B[39m\u001B[38;5;124m\"\u001B[39m\u001B[38;5;124mlang\u001B[39m\u001B[38;5;124m\"\u001B[39m):\n\u001B[0;32m      7\u001B[0m     path \u001B[38;5;241m=\u001B[39m \u001B[38;5;124mf\u001B[39m\u001B[38;5;124m\"\u001B[39m\u001B[38;5;124mbm25_models/bm25_\u001B[39m\u001B[38;5;132;01m{\u001B[39;00mlang\u001B[38;5;132;01m}\u001B[39;00m\u001B[38;5;124m.pkl\u001B[39m\u001B[38;5;124m\"\u001B[39m\n\u001B[1;32m----> 8\u001B[0m     model \u001B[38;5;241m=\u001B[39m \u001B[43mBM25_retriever\u001B[49m\u001B[43m(\u001B[49m\u001B[43mpath\u001B[49m\u001B[43m)\u001B[49m\n\u001B[0;32m      9\u001B[0m     langs_models[lang] \u001B[38;5;241m=\u001B[39m model\n",
      "File \u001B[1;32m~\\Documents\\EPFL_MA3\\DIS_Project\\BM25\\bm25.py:110\u001B[0m, in \u001B[0;36mBM25_retriever.__init__\u001B[1;34m(self, train_path, k1, b, delta)\u001B[0m\n\u001B[0;32m    107\u001B[0m \u001B[38;5;28mself\u001B[39m\u001B[38;5;241m.\u001B[39midf \u001B[38;5;241m=\u001B[39m \u001B[38;5;28;01mNone\u001B[39;00m\n\u001B[0;32m    108\u001B[0m \u001B[38;5;28mself\u001B[39m\u001B[38;5;241m.\u001B[39mdoc_freqs \u001B[38;5;241m=\u001B[39m \u001B[38;5;28;01mNone\u001B[39;00m\n\u001B[1;32m--> 110\u001B[0m \u001B[38;5;28;43mself\u001B[39;49m\u001B[38;5;241;43m.\u001B[39;49m\u001B[43m_load_model\u001B[49m\u001B[43m(\u001B[49m\u001B[43mtrain_path\u001B[49m\u001B[43m)\u001B[49m\n",
      "File \u001B[1;32m~\\Documents\\EPFL_MA3\\DIS_Project\\BM25\\bm25.py:184\u001B[0m, in \u001B[0;36mBM25_retriever._load_model\u001B[1;34m(self, train_path)\u001B[0m\n\u001B[0;32m    183\u001B[0m \u001B[38;5;28;01mdef\u001B[39;00m \u001B[38;5;21m_load_model\u001B[39m(\u001B[38;5;28mself\u001B[39m, train_path: \u001B[38;5;28mstr\u001B[39m):\n\u001B[1;32m--> 184\u001B[0m \u001B[43m    \u001B[49m\u001B[38;5;28;43;01mwith\u001B[39;49;00m\u001B[43m \u001B[49m\u001B[38;5;28;43mopen\u001B[39;49m\u001B[43m(\u001B[49m\u001B[43mtrain_path\u001B[49m\u001B[43m,\u001B[49m\u001B[43m \u001B[49m\u001B[38;5;124;43m'\u001B[39;49m\u001B[38;5;124;43mrb\u001B[39;49m\u001B[38;5;124;43m'\u001B[39;49m\u001B[43m)\u001B[49m\u001B[43m \u001B[49m\u001B[38;5;28;43;01mas\u001B[39;49;00m\u001B[43m \u001B[49m\u001B[43mf\u001B[49m\u001B[43m:\u001B[49m\n\u001B[0;32m    185\u001B[0m \u001B[43m        \u001B[49m\u001B[43mtrain_results\u001B[49m\u001B[43m \u001B[49m\u001B[38;5;241;43m=\u001B[39;49m\u001B[43m \u001B[49m\u001B[43mload\u001B[49m\u001B[43m(\u001B[49m\u001B[43mf\u001B[49m\u001B[43m)\u001B[49m\n\u001B[0;32m    186\u001B[0m \u001B[43m        \u001B[49m\u001B[38;5;28;43mself\u001B[39;49m\u001B[38;5;241;43m.\u001B[39;49m\u001B[43mlang\u001B[49m\u001B[43m \u001B[49m\u001B[38;5;241;43m=\u001B[39;49m\u001B[43m \u001B[49m\u001B[43mtrain_results\u001B[49m\u001B[43m[\u001B[49m\u001B[38;5;124;43m'\u001B[39;49m\u001B[38;5;124;43mlang\u001B[39;49m\u001B[38;5;124;43m'\u001B[39;49m\u001B[43m]\u001B[49m\n",
      "\u001B[1;31mKeyboardInterrupt\u001B[0m: "
     ]
    }
   ],
   "execution_count": 2
  },
  {
   "metadata": {},
   "cell_type": "markdown",
   "source": "## Document Retrival",
   "id": "79b6244a2e475a1b"
  },
  {
   "metadata": {},
   "cell_type": "code",
   "source": [
    "queries = preprocess_queries(\"../data/test.csv\")\n",
    "#save the queries in a csv file\n",
    "queries.to_csv(\"../output/queries.csv\", index=False)"
   ],
   "id": "64efd998d8c1eb97",
   "outputs": [],
   "execution_count": null
  },
  {
   "metadata": {},
   "cell_type": "markdown",
   "source": "Retrieve top10 doc for every query",
   "id": "76a0950d98a3a1ed"
  },
  {
   "metadata": {},
   "cell_type": "code",
   "source": [
    "# For each lang of the df use top_10_docid_for_all_queries of the corresponding model\n",
    "for lang, model in langs_models.items():\n",
    "    # Filter the queries DataFrame for the current language\n",
    "    lang_queries = queries[queries['lang'] == lang]\n",
    "    \n",
    "    # Get the top 10 document IDs for each query using the model\n",
    "    top10_docid_per_query = model.top_10_docid_for_all_queries(lang_queries)\n",
    "    \n",
    "    # Extract query IDs and document IDs\n",
    "    queries_id = list(top10_docid_per_query.keys())\n",
    "    docids = list(top10_docid_per_query.values())\n",
    "    \n",
    "    # Determine the mode for exporting: 'w' for the first language, 'a' for the rest\n",
    "    mode = 'w' if lang == langs[0] else 'a'\n",
    "    \n",
    "    # Export the results to a CSV file\n",
    "    export_query_result_to_submission_csv(queries_id, docids, mode=mode)\n"
   ],
   "id": "dd4ac8d19e419b3e",
   "outputs": [],
   "execution_count": null
  },
  {
   "metadata": {},
   "cell_type": "markdown",
   "source": "Compute recall@10",
   "id": "3016b00891e57149"
  },
  {
   "metadata": {},
   "cell_type": "code",
   "source": [
    "#load submission, drop column query_id and add id column starting from 0\n",
    "results = pd.read_csv(\"../output/submission.csv\")\n",
    "results.drop(columns=[\"query_id\"], inplace=True)\n",
    "results.to_csv(\"../output/official_submission.csv\", index=True) "
   ],
   "id": "165568e6e09e86b0",
   "outputs": [],
   "execution_count": null
  },
  {
   "metadata": {},
   "cell_type": "code",
   "source": [
    "# get_answers_for_submission_csv()\n",
    "# compute_recall_10()"
   ],
   "id": "98280ee190003733",
   "outputs": [],
   "execution_count": null
  },
  {
   "metadata": {},
   "cell_type": "code",
   "source": [
    "#take the 200 first rows and compute mean of column \"correct\", and so on every 200 rows\n",
    "# Define the segment size\n",
    "results = pd.read_csv(\"../output/submission_answers.csv\")\n",
    "\n",
    "\n",
    "langs = ['en', 'fr', 'es', 'de', 'it', 'ar', 'ko']\n",
    "\n",
    "segment_size = 200\n",
    "\n",
    "# Calculate the number of segments\n",
    "num_segments = len(results) // segment_size\n",
    "\n",
    "print(\"Recall@10 per language segment: \\n\")\n",
    "# Loop through each segment and print the mean of the \"correct\" column, rounded to 2 decimal places\n",
    "for i in range(num_segments):\n",
    "    start = i * segment_size\n",
    "    end = start + segment_size\n",
    "    mean_value = results[\"correct\"].iloc[start:end].mean()\n",
    "    print(f\"{langs[i]}: {mean_value:.2f}\")"
   ],
   "id": "28853e8db2688de2",
   "outputs": [],
   "execution_count": null
  }
 ],
 "metadata": {
  "kernelspec": {
   "display_name": "Python 3",
   "language": "python",
   "name": "python3"
  },
  "language_info": {
   "codemirror_mode": {
    "name": "ipython",
    "version": 2
   },
   "file_extension": ".py",
   "mimetype": "text/x-python",
   "name": "python",
   "nbconvert_exporter": "python",
   "pygments_lexer": "ipython2",
   "version": "2.7.6"
  }
 },
 "nbformat": 4,
 "nbformat_minor": 5
}

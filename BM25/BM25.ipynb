{
 "cells": [
  {
   "metadata": {},
   "cell_type": "markdown",
   "source": [
    "# BM25\n",
    "\n",
    "Notebooks to show our BM25 method and its performances."
   ],
   "id": "ef9731a0d67708f9"
  },
  {
   "metadata": {},
   "cell_type": "markdown",
   "source": "## Import",
   "id": "110f817a943b3682"
  },
  {
   "metadata": {
    "ExecuteTime": {
     "end_time": "2024-10-23T14:54:33.019720Z",
     "start_time": "2024-10-23T14:54:32.727490Z"
    }
   },
   "cell_type": "code",
   "source": [
    "from bm25 import BM25_retriever\n",
    "import pandas as pd\n",
    "from tqdm import tqdm\n",
    "from query_preprocessing import preprocess_queries\n",
    "from metrics import export_query_result_to_submission_csv, get_answers_for_submission_csv, compute_recall_10\n",
    "\n",
    "#disable warnings   \n",
    "import warnings\n",
    "warnings.filterwarnings('ignore')\n",
    "\n",
    "%load_ext autoreload\n",
    "%autoreload 2"
   ],
   "id": "cc5f2667f352d5ab",
   "outputs": [
    {
     "name": "stdout",
     "output_type": "stream",
     "text": [
      "The autoreload extension is already loaded. To reload it, use:\n",
      "  %reload_ext autoreload\n"
     ]
    }
   ],
   "execution_count": 38
  },
  {
   "metadata": {},
   "cell_type": "markdown",
   "source": "## Document Retrival",
   "id": "79b6244a2e475a1b"
  },
  {
   "metadata": {
    "ExecuteTime": {
     "end_time": "2024-10-23T14:54:37.459403Z",
     "start_time": "2024-10-23T14:54:33.969206Z"
    }
   },
   "cell_type": "code",
   "source": [
    "queries = preprocess_queries(\"../data/dev.csv\")\n",
    "#save the queries in a csv file\n",
    "queries.to_csv(\"../output/queries.csv\", index=False)"
   ],
   "id": "64efd998d8c1eb97",
   "outputs": [],
   "execution_count": 39
  },
  {
   "metadata": {},
   "cell_type": "markdown",
   "source": "## BM25 Initialization",
   "id": "5040dcf9f716365a"
  },
  {
   "metadata": {},
   "cell_type": "markdown",
   "source": "Retrieve top10 doc for every query",
   "id": "76a0950d98a3a1ed"
  },
  {
   "metadata": {
    "ExecuteTime": {
     "end_time": "2024-10-23T14:59:08.578577Z",
     "start_time": "2024-10-23T14:57:02.673816Z"
    }
   },
   "cell_type": "code",
   "source": [
    "# For each lang of the df use top_10_docid_for_all_queries of the corresponding model\n",
    "langs = ['fr', 'es', 'de', 'it', 'ar', 'ko']\n",
    "\n",
    "for lang in langs:\n",
    "    path = f\"bm25_models/bm25_{lang}.pkl\"\n",
    "    model = BM25_retriever(path, k1=1.8, b=0.9, delta=0.8)\n",
    "    # Filter the queries DataFrame for the current language\n",
    "    lang_queries = queries[queries['lang'] == lang]\n",
    "    \n",
    "    # Get the top 10 document IDs for each query using the model\n",
    "    top10_docid_per_query = model.top_10_docid_for_all_queries(lang_queries)\n",
    "    \n",
    "    # Extract query IDs and document IDs\n",
    "    queries_id = list(top10_docid_per_query.keys())\n",
    "    docids = list(top10_docid_per_query.values())\n",
    "    \n",
    "    # Determine the mode for exporting: 'w' for the first language, 'a' for the rest\n",
    "    mode = 'w' if lang == langs[0] else 'a'\n",
    "    \n",
    "    # Export the results to a CSV file\n",
    "    export_query_result_to_submission_csv(queries_id, docids, mode=mode)\n"
   ],
   "id": "dd4ac8d19e419b3e",
   "outputs": [
    {
     "name": "stderr",
     "output_type": "stream",
     "text": [
      "Ranking queries: 100%|██████████| 200/200 [00:14<00:00, 13.65it/s]\n",
      "Ranking queries: 100%|██████████| 200/200 [00:13<00:00, 15.09it/s]\n",
      "Ranking queries: 100%|██████████| 200/200 [00:12<00:00, 16.28it/s]\n",
      "Ranking queries: 100%|██████████| 200/200 [00:13<00:00, 14.41it/s]\n",
      "Ranking queries: 100%|██████████| 200/200 [00:07<00:00, 25.21it/s]\n",
      "Ranking queries: 100%|██████████| 200/200 [00:08<00:00, 23.34it/s]\n"
     ]
    }
   ],
   "execution_count": 44
  },
  {
   "metadata": {},
   "cell_type": "markdown",
   "source": "Compute recall@10",
   "id": "3016b00891e57149"
  },
  {
   "metadata": {
    "ExecuteTime": {
     "end_time": "2024-10-23T14:59:08.849460Z",
     "start_time": "2024-10-23T14:59:08.579092Z"
    }
   },
   "cell_type": "code",
   "source": [
    "#load submission, drop column query_id and add id column starting from 0\n",
    "results = pd.read_csv(\"../output/submission.csv\")\n",
    "results.drop(columns=[\"query_id\"], inplace=True)\n",
    "results.to_csv(\"../output/official_submission.csv\", index=True) "
   ],
   "id": "165568e6e09e86b0",
   "outputs": [],
   "execution_count": 45
  },
  {
   "metadata": {
    "ExecuteTime": {
     "end_time": "2024-10-23T14:59:09.615327Z",
     "start_time": "2024-10-23T14:59:08.850495Z"
    }
   },
   "cell_type": "code",
   "source": [
    "get_answers_for_submission_csv()\n",
    "compute_recall_10()"
   ],
   "id": "98280ee190003733",
   "outputs": [
    {
     "data": {
      "text/plain": [
       "0.7591666666666667"
      ]
     },
     "execution_count": 46,
     "metadata": {},
     "output_type": "execute_result"
    }
   ],
   "execution_count": 46
  },
  {
   "metadata": {
    "ExecuteTime": {
     "end_time": "2024-10-23T14:59:09.897673Z",
     "start_time": "2024-10-23T14:59:09.621795Z"
    }
   },
   "cell_type": "code",
   "source": [
    "#take the 200 first rows and compute mean of column \"correct\", and so on every 200 rows\n",
    "# Define the segment size\n",
    "results = pd.read_csv(\"../output/submission_answers.csv\")\n",
    "\n",
    "\n",
    "langs = ['fr', 'es', 'de', 'it', 'ar', 'ko']\n",
    "\n",
    "segment_size = 200\n",
    "\n",
    "# Calculate the number of segments\n",
    "num_segments = len(results) // segment_size\n",
    "\n",
    "print(\"Recall@10 per language segment: \\n\")\n",
    "# Loop through each segment and print the mean of the \"correct\" column, rounded to 2 decimal places\n",
    "for i in range(num_segments):\n",
    "    start = i * segment_size\n",
    "    end = start + segment_size\n",
    "    mean_value = results[\"correct\"].iloc[start:end].mean()\n",
    "    print(f\"{langs[i]}: {mean_value:.2f}\")"
   ],
   "id": "28853e8db2688de2",
   "outputs": [
    {
     "name": "stdout",
     "output_type": "stream",
     "text": [
      "Recall@10 per language segment: \n",
      "\n",
      "fr: 0.90\n",
      "es: 0.63\n",
      "de: 0.92\n",
      "it: 0.76\n",
      "ar: 0.65\n",
      "ko: 0.71\n"
     ]
    }
   ],
   "execution_count": 47
  },
  {
   "metadata": {
    "ExecuteTime": {
     "end_time": "2024-10-23T14:59:09.906259Z",
     "start_time": "2024-10-23T14:59:09.900417Z"
    }
   },
   "cell_type": "code",
   "source": "",
   "id": "f0dd0dca04be5764",
   "outputs": [],
   "execution_count": 47
  },
  {
   "metadata": {},
   "cell_type": "code",
   "outputs": [],
   "execution_count": null,
   "source": "",
   "id": "e1167b38b8f8e986"
  }
 ],
 "metadata": {
  "kernelspec": {
   "display_name": "Python 3",
   "language": "python",
   "name": "python3"
  },
  "language_info": {
   "codemirror_mode": {
    "name": "ipython",
    "version": 2
   },
   "file_extension": ".py",
   "mimetype": "text/x-python",
   "name": "python",
   "nbconvert_exporter": "python",
   "pygments_lexer": "ipython2",
   "version": "2.7.6"
  }
 },
 "nbformat": 4,
 "nbformat_minor": 5
}

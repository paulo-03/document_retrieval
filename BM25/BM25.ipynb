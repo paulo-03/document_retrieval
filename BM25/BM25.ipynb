{
 "cells": [
  {
   "metadata": {},
   "cell_type": "markdown",
   "source": [
    "# BM25\n",
    "\n",
    "Notebooks to show our BM25 method and its performances."
   ],
   "id": "ef9731a0d67708f9"
  },
  {
   "metadata": {},
   "cell_type": "markdown",
   "source": "## Import",
   "id": "110f817a943b3682"
  },
  {
   "metadata": {
    "ExecuteTime": {
     "end_time": "2024-10-17T13:47:42.335752Z",
     "start_time": "2024-10-17T13:47:25.678713Z"
    }
   },
   "cell_type": "code",
   "source": [
    "from bm25 import BM25\n",
    "import pandas as pd\n",
    "from tqdm import tqdm\n",
    "from query_preprocessing import preprocess_queries\n",
    "from metrics import export_query_result_to_submission_csv, get_answers_for_submission_csv, compute_recall_10\n",
    "\n",
    "#disable warnings   \n",
    "import warnings\n",
    "warnings.filterwarnings('ignore')\n",
    "\n",
    "%load_ext autoreload\n",
    "%autoreload 2"
   ],
   "id": "cc5f2667f352d5ab",
   "outputs": [],
   "execution_count": 1
  },
  {
   "metadata": {},
   "cell_type": "markdown",
   "source": "## BM25 Initialization",
   "id": "5040dcf9f716365a"
  },
  {
   "metadata": {
    "ExecuteTime": {
     "end_time": "2024-10-17T13:52:38.948928Z",
     "start_time": "2024-10-17T13:48:08.043771Z"
    }
   },
   "cell_type": "code",
   "source": [
    "# Load all models for each langs\n",
    "langs = ['en']\n",
    "langs_models = {}\n",
    "\n",
    "for lang in tqdm(langs, desc=\"Loading BM25 models\", unit=\"lang\"):\n",
    "    path = f\"bm25_models/bm25_{lang}.pkl\"\n",
    "    model = BM25.load_pickle(path)\n",
    "    langs_models[lang] = model"
   ],
   "id": "650f501398fce4ce",
   "outputs": [
    {
     "name": "stderr",
     "output_type": "stream",
     "text": [
      "Loading BM25 models:   0%|          | 0/1 [00:00<?, ?lang/s]Exception ignored in: <generator object tqdm.__iter__ at 0x0000023672A84DC0>\n",
      "Traceback (most recent call last):\n",
      "  File \"C:\\Users\\ratas\\Documents\\EPFL_MA3\\DIS_Project\\.venv\\Lib\\site-packages\\tqdm\\std.py\", line 1196, in __iter__\n",
      "    self.close()\n",
      "  File \"C:\\Users\\ratas\\Documents\\EPFL_MA3\\DIS_Project\\.venv\\Lib\\site-packages\\tqdm\\std.py\", line 1265, in close\n",
      "    def close(self):\n",
      "\n",
      "KeyboardInterrupt: \n",
      "Loading BM25 models:   0%|          | 0/1 [04:28<?, ?lang/s]\n"
     ]
    },
    {
     "ename": "KeyboardInterrupt",
     "evalue": "",
     "output_type": "error",
     "traceback": [
      "\u001B[1;31m---------------------------------------------------------------------------\u001B[0m",
      "\u001B[1;31mKeyboardInterrupt\u001B[0m                         Traceback (most recent call last)",
      "Cell \u001B[1;32mIn[3], line 7\u001B[0m\n\u001B[0;32m      5\u001B[0m \u001B[38;5;28;01mfor\u001B[39;00m lang \u001B[38;5;129;01min\u001B[39;00m tqdm(langs, desc\u001B[38;5;241m=\u001B[39m\u001B[38;5;124m\"\u001B[39m\u001B[38;5;124mLoading BM25 models\u001B[39m\u001B[38;5;124m\"\u001B[39m, unit\u001B[38;5;241m=\u001B[39m\u001B[38;5;124m\"\u001B[39m\u001B[38;5;124mlang\u001B[39m\u001B[38;5;124m\"\u001B[39m):\n\u001B[0;32m      6\u001B[0m     path \u001B[38;5;241m=\u001B[39m \u001B[38;5;124mf\u001B[39m\u001B[38;5;124m\"\u001B[39m\u001B[38;5;124mbm25_models/bm25_\u001B[39m\u001B[38;5;132;01m{\u001B[39;00mlang\u001B[38;5;132;01m}\u001B[39;00m\u001B[38;5;124m.pkl\u001B[39m\u001B[38;5;124m\"\u001B[39m\n\u001B[1;32m----> 7\u001B[0m     model \u001B[38;5;241m=\u001B[39m \u001B[43mBM25\u001B[49m\u001B[38;5;241;43m.\u001B[39;49m\u001B[43mload_pickle\u001B[49m\u001B[43m(\u001B[49m\u001B[43mpath\u001B[49m\u001B[43m)\u001B[49m\n\u001B[0;32m      8\u001B[0m     langs_models[lang] \u001B[38;5;241m=\u001B[39m model\n",
      "File \u001B[1;32m~\\Documents\\EPFL_MA3\\DIS_Project\\BM25\\bm25.py:153\u001B[0m, in \u001B[0;36mBM25.load_pickle\u001B[1;34m(path)\u001B[0m\n\u001B[0;32m    150\u001B[0m \u001B[38;5;129m@staticmethod\u001B[39m\n\u001B[0;32m    151\u001B[0m \u001B[38;5;28;01mdef\u001B[39;00m \u001B[38;5;21mload_pickle\u001B[39m(path: \u001B[38;5;28mstr\u001B[39m):\n\u001B[0;32m    152\u001B[0m     \u001B[38;5;28;01mwith\u001B[39;00m \u001B[38;5;28mopen\u001B[39m(path, \u001B[38;5;124m'\u001B[39m\u001B[38;5;124mrb\u001B[39m\u001B[38;5;124m'\u001B[39m) \u001B[38;5;28;01mas\u001B[39;00m f:\n\u001B[1;32m--> 153\u001B[0m         \u001B[38;5;28;01mreturn\u001B[39;00m \u001B[43mload\u001B[49m\u001B[43m(\u001B[49m\u001B[43mf\u001B[49m\u001B[43m)\u001B[49m\n",
      "File \u001B[1;32m~\\AppData\\Local\\Programs\\Python\\Python312\\Lib\\collections\\__init__.py:607\u001B[0m, in \u001B[0;36mCounter.__init__\u001B[1;34m(self, iterable, **kwds)\u001B[0m\n\u001B[0;32m    596\u001B[0m \u001B[38;5;250m\u001B[39m\u001B[38;5;124;03m'''Create a new, empty Counter object.  And if given, count elements\u001B[39;00m\n\u001B[0;32m    597\u001B[0m \u001B[38;5;124;03mfrom an input iterable.  Or, initialize the count from another mapping\u001B[39;00m\n\u001B[0;32m    598\u001B[0m \u001B[38;5;124;03mof elements to their counts.\u001B[39;00m\n\u001B[1;32m   (...)\u001B[0m\n\u001B[0;32m    604\u001B[0m \n\u001B[0;32m    605\u001B[0m \u001B[38;5;124;03m'''\u001B[39;00m\n\u001B[0;32m    606\u001B[0m \u001B[38;5;28msuper\u001B[39m()\u001B[38;5;241m.\u001B[39m\u001B[38;5;21m__init__\u001B[39m()\n\u001B[1;32m--> 607\u001B[0m \u001B[38;5;28;43mself\u001B[39;49m\u001B[38;5;241;43m.\u001B[39;49m\u001B[43mupdate\u001B[49m\u001B[43m(\u001B[49m\u001B[43miterable\u001B[49m\u001B[43m,\u001B[49m\u001B[43m \u001B[49m\u001B[38;5;241;43m*\u001B[39;49m\u001B[38;5;241;43m*\u001B[39;49m\u001B[43mkwds\u001B[49m\u001B[43m)\u001B[49m\n",
      "File \u001B[1;32m~\\AppData\\Local\\Programs\\Python\\Python312\\Lib\\collections\\__init__.py:690\u001B[0m, in \u001B[0;36mCounter.update\u001B[1;34m(self, iterable, **kwds)\u001B[0m\n\u001B[0;32m    682\u001B[0m \u001B[38;5;66;03m# The regular dict.update() operation makes no sense here because the\u001B[39;00m\n\u001B[0;32m    683\u001B[0m \u001B[38;5;66;03m# replace behavior results in some of the original untouched counts\u001B[39;00m\n\u001B[0;32m    684\u001B[0m \u001B[38;5;66;03m# being mixed-in with all of the other counts for a mismash that\u001B[39;00m\n\u001B[0;32m    685\u001B[0m \u001B[38;5;66;03m# doesn't have a straight-forward interpretation in most counting\u001B[39;00m\n\u001B[0;32m    686\u001B[0m \u001B[38;5;66;03m# contexts.  Instead, we implement straight-addition.  Both the inputs\u001B[39;00m\n\u001B[0;32m    687\u001B[0m \u001B[38;5;66;03m# and outputs are allowed to contain zero and negative counts.\u001B[39;00m\n\u001B[0;32m    689\u001B[0m \u001B[38;5;28;01mif\u001B[39;00m iterable \u001B[38;5;129;01mis\u001B[39;00m \u001B[38;5;129;01mnot\u001B[39;00m \u001B[38;5;28;01mNone\u001B[39;00m:\n\u001B[1;32m--> 690\u001B[0m     \u001B[38;5;28;01mif\u001B[39;00m \u001B[38;5;28;43misinstance\u001B[39;49m\u001B[43m(\u001B[49m\u001B[43miterable\u001B[49m\u001B[43m,\u001B[49m\u001B[43m \u001B[49m\u001B[43m_collections_abc\u001B[49m\u001B[38;5;241;43m.\u001B[39;49m\u001B[43mMapping\u001B[49m\u001B[43m)\u001B[49m:\n\u001B[0;32m    691\u001B[0m         \u001B[38;5;28;01mif\u001B[39;00m \u001B[38;5;28mself\u001B[39m:\n\u001B[0;32m    692\u001B[0m             self_get \u001B[38;5;241m=\u001B[39m \u001B[38;5;28mself\u001B[39m\u001B[38;5;241m.\u001B[39mget\n",
      "File \u001B[1;32m<frozen abc>:117\u001B[0m, in \u001B[0;36m__instancecheck__\u001B[1;34m(cls, instance)\u001B[0m\n",
      "\u001B[1;31mKeyboardInterrupt\u001B[0m: "
     ]
    }
   ],
   "execution_count": 3
  },
  {
   "metadata": {},
   "cell_type": "markdown",
   "source": "## Document Retrival",
   "id": "79b6244a2e475a1b"
  },
  {
   "metadata": {
    "ExecuteTime": {
     "end_time": "2024-10-16T19:44:46.628489Z",
     "start_time": "2024-10-16T19:44:41.415739Z"
    }
   },
   "cell_type": "code",
   "source": [
    "queries = preprocess_queries(\"../data/dev.csv\")\n",
    "#save the queries in a csv file\n",
    "queries.to_csv(\"../output/queries.csv\", index=False)"
   ],
   "id": "64efd998d8c1eb97",
   "outputs": [],
   "execution_count": 17
  },
  {
   "metadata": {},
   "cell_type": "markdown",
   "source": "Retrieve top10 doc for every query",
   "id": "76a0950d98a3a1ed"
  },
  {
   "metadata": {
    "ExecuteTime": {
     "end_time": "2024-10-16T19:47:45.570355Z",
     "start_time": "2024-10-16T19:44:46.629495Z"
    }
   },
   "cell_type": "code",
   "source": [
    "# For each lang of the df use top_10_docid_for_all_queries of the corresponding model\n",
    "for lang, model in langs_models.items():\n",
    "    # Filter the queries DataFrame for the current language\n",
    "    lang_queries = queries[queries['lang'] == lang]\n",
    "    \n",
    "    # Get the top 10 document IDs for each query using the model\n",
    "    top10_docid_per_query = model.top_10_docid_for_all_queries(lang_queries)\n",
    "    \n",
    "    # Extract query IDs and document IDs\n",
    "    queries_id = list(top10_docid_per_query.keys())\n",
    "    docids = list(top10_docid_per_query.values())\n",
    "    \n",
    "    # Determine the mode for exporting: 'w' for the first language, 'a' for the rest\n",
    "    mode = 'w' if lang == langs[0] else 'a'\n",
    "    \n",
    "    # Export the results to a CSV file\n",
    "    export_query_result_to_submission_csv(queries_id, docids, mode=mode)\n"
   ],
   "id": "dd4ac8d19e419b3e",
   "outputs": [
    {
     "name": "stderr",
     "output_type": "stream",
     "text": [
      "Ranking queries: 100%|██████████| 200/200 [00:35<00:00,  5.61it/s]\n",
      "Ranking queries: 100%|██████████| 200/200 [00:31<00:00,  6.35it/s]\n",
      "Ranking queries: 100%|██████████| 200/200 [00:30<00:00,  6.67it/s]\n",
      "Ranking queries: 100%|██████████| 200/200 [00:31<00:00,  6.41it/s]\n",
      "Ranking queries: 100%|██████████| 200/200 [00:26<00:00,  7.47it/s]\n",
      "Ranking queries: 100%|██████████| 200/200 [00:22<00:00,  8.84it/s]\n"
     ]
    }
   ],
   "execution_count": 18
  },
  {
   "metadata": {},
   "cell_type": "markdown",
   "source": "Compute recall@10",
   "id": "3016b00891e57149"
  },
  {
   "metadata": {
    "ExecuteTime": {
     "end_time": "2024-10-16T19:47:46.506687Z",
     "start_time": "2024-10-16T19:47:45.570355Z"
    }
   },
   "cell_type": "code",
   "source": [
    "get_answers_for_submission_csv()\n",
    "compute_recall_10()"
   ],
   "id": "98280ee190003733",
   "outputs": [
    {
     "data": {
      "text/plain": [
       "0.7658333333333334"
      ]
     },
     "execution_count": 19,
     "metadata": {},
     "output_type": "execute_result"
    }
   ],
   "execution_count": 19
  },
  {
   "metadata": {},
   "cell_type": "code",
   "outputs": [],
   "execution_count": null,
   "source": [
    "#load submission, drop column query_id and add id column starting from 0\n",
    "results = pd.read_csv(\"../output/submission.csv\")\n",
    "results = results.drop(columns=[\"query_id\"])\n",
    "results[\"id\"] = results.index"
   ],
   "id": "165568e6e09e86b0"
  },
  {
   "metadata": {
    "ExecuteTime": {
     "end_time": "2024-10-16T19:47:46.769484Z",
     "start_time": "2024-10-16T19:47:46.506687Z"
    }
   },
   "cell_type": "code",
   "source": [
    "#take the 200 first rows and compute mean of column \"correct\", and so on every 200 rows\n",
    "# Define the segment size\n",
    "results = pd.read_csv(\"../output/submission_answers.csv\")\n",
    "\n",
    "\n",
    "langs = ['fr', 'es', 'de', 'it', 'ar', 'ko']\n",
    "\n",
    "segment_size = 200\n",
    "\n",
    "# Calculate the number of segments\n",
    "num_segments = len(results) // segment_size\n",
    "\n",
    "print(\"Recall@10 per language segment: \\n\")\n",
    "# Loop through each segment and print the mean of the \"correct\" column, rounded to 2 decimal places\n",
    "for i in range(num_segments):\n",
    "    start = i * segment_size\n",
    "    end = start + segment_size\n",
    "    mean_value = results[\"correct\"].iloc[start:end].mean()\n",
    "    print(f\"{langs[i]}: {mean_value:.2f}\")"
   ],
   "id": "28853e8db2688de2",
   "outputs": [
    {
     "name": "stdout",
     "output_type": "stream",
     "text": [
      "Recall@10 per language segment: \n",
      "\n",
      "fr: 0.91\n",
      "es: 0.66\n",
      "de: 0.91\n",
      "it: 0.74\n",
      "ar: 0.65\n",
      "ko: 0.72\n"
     ]
    }
   ],
   "execution_count": 20
  }
 ],
 "metadata": {
  "kernelspec": {
   "display_name": "Python 3",
   "language": "python",
   "name": "python3"
  },
  "language_info": {
   "codemirror_mode": {
    "name": "ipython",
    "version": 2
   },
   "file_extension": ".py",
   "mimetype": "text/x-python",
   "name": "python",
   "nbconvert_exporter": "python",
   "pygments_lexer": "ipython2",
   "version": "2.7.6"
  }
 },
 "nbformat": 4,
 "nbformat_minor": 5
}

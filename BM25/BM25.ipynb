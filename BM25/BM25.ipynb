{
 "cells": [
  {
   "metadata": {},
   "cell_type": "markdown",
   "source": [
    "# BM25\n",
    "\n",
    "Notebooks to show our BM25 method and its performances."
   ],
   "id": "ef9731a0d67708f9"
  },
  {
   "metadata": {},
   "cell_type": "markdown",
   "source": "## Import",
   "id": "110f817a943b3682"
  },
  {
   "metadata": {
    "ExecuteTime": {
     "end_time": "2024-10-09T19:05:29.308738Z",
     "start_time": "2024-10-09T19:05:27.161480Z"
    }
   },
   "cell_type": "code",
   "source": [
    "from bm25 import BM25\n",
    "import pandas as pd\n",
    "import data_loader\n",
    "from metrics import export_query_result_to_submission_csv, get_answers_for_submission_csv, compute_recall_10\n",
    "\n",
    "\n",
    "%load_ext autoreload\n",
    "%autoreload 2"
   ],
   "id": "cc5f2667f352d5ab",
   "outputs": [],
   "execution_count": 1
  },
  {
   "metadata": {},
   "cell_type": "markdown",
   "source": "## BM25 Initialization",
   "id": "5040dcf9f716365a"
  },
  {
   "metadata": {
    "ExecuteTime": {
     "end_time": "2024-10-09T19:05:45.623207Z",
     "start_time": "2024-10-09T19:05:29.308738Z"
    }
   },
   "cell_type": "code",
   "source": "bm25 = BM25(\"../data/corpus.json/clean_corpus_fr.json\", \"../data/train.csv\", k1=1, b=0.9)",
   "id": "650f501398fce4ce",
   "outputs": [
    {
     "name": "stdout",
     "output_type": "stream",
     "text": [
      "Loading corpus...\n",
      "Corpus loaded successfully !\n",
      "\n",
      "Information about the given corpus\n",
      "###################################\n",
      "Number of documents: 10676\n",
      "Language (only one language should be displayed): ['fr']\n",
      "\n",
      "Loading queries...\n",
      "Queries loaded successfully !\n",
      "\n",
      "Information about the given queries\n",
      "###################################\n",
      "Number of queries: 1608\n",
      "Language (only one language should be displayed): ['fr']\n",
      "\n"
     ]
    },
    {
     "name": "stderr",
     "output_type": "stream",
     "text": [
      "Processing documents: 100%|██████████| 10676/10676 [00:10<00:00, 987.40it/s] \n",
      "Computing IDF: 100%|██████████| 705413/705413 [00:00<00:00, 1173661.67it/s]\n"
     ]
    }
   ],
   "execution_count": 2
  },
  {
   "metadata": {},
   "cell_type": "markdown",
   "source": "## Document Retrival",
   "id": "79b6244a2e475a1b"
  },
  {
   "metadata": {},
   "cell_type": "markdown",
   "source": "Retrieve top10 doc for every query",
   "id": "76a0950d98a3a1ed"
  },
  {
   "metadata": {
    "ExecuteTime": {
     "end_time": "2024-10-09T19:07:31.654079Z",
     "start_time": "2024-10-09T19:05:45.623207Z"
    }
   },
   "cell_type": "code",
   "source": "top10_docid_per_query = bm25.top_10_docid_for_all_queries()",
   "id": "ea142a612f8b0ac1",
   "outputs": [
    {
     "name": "stderr",
     "output_type": "stream",
     "text": [
      "Ranking queries: 100%|██████████| 1608/1608 [01:45<00:00, 15.19it/s]\n"
     ]
    }
   ],
   "execution_count": 3
  },
  {
   "metadata": {
    "ExecuteTime": {
     "end_time": "2024-10-09T19:07:32.620711Z",
     "start_time": "2024-10-09T19:07:31.654079Z"
    }
   },
   "cell_type": "code",
   "source": [
    "queries_id = list(top10_docid_per_query.keys())\n",
    "docids = list(top10_docid_per_query.values())\n",
    "export_query_result_to_submission_csv(queries_id, docids)"
   ],
   "id": "6c7c3db8c7e39f75",
   "outputs": [],
   "execution_count": 4
  },
  {
   "metadata": {},
   "cell_type": "markdown",
   "source": "Compute recall@10",
   "id": "3016b00891e57149"
  },
  {
   "metadata": {
    "ExecuteTime": {
     "end_time": "2024-10-09T19:07:33.924223Z",
     "start_time": "2024-10-09T19:07:32.623426Z"
    }
   },
   "cell_type": "code",
   "source": [
    "get_answers_for_submission_csv()\n",
    "compute_recall_10()"
   ],
   "id": "98280ee190003733",
   "outputs": [
    {
     "data": {
      "text/plain": [
       "0.29850746268656714"
      ]
     },
     "execution_count": 5,
     "metadata": {},
     "output_type": "execute_result"
    }
   ],
   "execution_count": 5
  }
 ],
 "metadata": {
  "kernelspec": {
   "display_name": "Python 3",
   "language": "python",
   "name": "python3"
  },
  "language_info": {
   "codemirror_mode": {
    "name": "ipython",
    "version": 2
   },
   "file_extension": ".py",
   "mimetype": "text/x-python",
   "name": "python",
   "nbconvert_exporter": "python",
   "pygments_lexer": "ipython2",
   "version": "2.7.6"
  }
 },
 "nbformat": 4,
 "nbformat_minor": 5
}

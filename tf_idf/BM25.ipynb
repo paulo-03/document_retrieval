{
 "cells": [
  {
   "metadata": {},
   "cell_type": "markdown",
   "source": [
    "# BM25\n",
    "\n",
    "Notebooks to show our BM25 method and its performances."
   ],
   "id": "ef9731a0d67708f9"
  },
  {
   "metadata": {},
   "cell_type": "markdown",
   "source": "## Import",
   "id": "110f817a943b3682"
  },
  {
   "metadata": {
    "ExecuteTime": {
     "end_time": "2024-10-09T13:05:15.554896Z",
     "start_time": "2024-10-09T13:05:11.321961Z"
    }
   },
   "cell_type": "code",
   "source": [
    "from tf_idf import TFIDFTrainer\n",
    "from rank_bm25 import BM25Okapi\n",
    "import pandas as pd\n",
    "import data_loader\n",
    "\n",
    "%load_ext autoreload\n",
    "%autoreload 2"
   ],
   "id": "cc5f2667f352d5ab",
   "outputs": [],
   "execution_count": 1
  },
  {
   "metadata": {},
   "cell_type": "markdown",
   "source": "## Document cleaning",
   "id": "ece1ce797228c572"
  },
  {
   "metadata": {
    "ExecuteTime": {
     "end_time": "2024-10-09T13:05:17.907169Z",
     "start_time": "2024-10-09T13:05:15.556403Z"
    }
   },
   "cell_type": "code",
   "source": "french_doc_df = TFIDFTrainer(\"../data/corpus.json/clean_corpus_fr.json\").corpus",
   "id": "650f501398fce4ce",
   "outputs": [
    {
     "name": "stdout",
     "output_type": "stream",
     "text": [
      "Loading corpus...\n",
      "Corpus loaded successfully !\n",
      "\n",
      "Information about the given corpus\n",
      "###################################\n",
      "Number of documents: 10676\n",
      "Language (only one language should be displayed): ['fr']\n",
      "\n"
     ]
    }
   ],
   "execution_count": 2
  },
  {
   "metadata": {
    "ExecuteTime": {
     "end_time": "2024-10-09T13:05:18.092199Z",
     "start_time": "2024-10-09T13:05:17.907169Z"
    }
   },
   "cell_type": "code",
   "source": "french_doc_df",
   "id": "462229a0ca79b7f6",
   "outputs": [
    {
     "data": {
      "text/plain": [
       "             docid                                               text lang\n",
       "0      doc-fr-1447  production café costa rica représente 2016 env...   fr\n",
       "1      doc-fr-4878  continuité gouvernement cog principe établisse...   fr\n",
       "2       doc-fr-801  juan manuel fangio né balcarce mort buenos air...   fr\n",
       "3      doc-fr-1750  louis auguste mathieu legrand peintre dessinat...   fr\n",
       "4      doc-fr-5810  gare lille saint sauveur simplement gare saint...   fr\n",
       "...            ...                                                ...  ...\n",
       "10671  doc-fr-4573  frelon asiatique frelon pattes jaunes vespa ve...   fr\n",
       "10672  doc-fr-7662  surveillance épidémiologique activité santé pu...   fr\n",
       "10673  doc-fr-7669  série télévisée britannique 37 épisodes enviro...   fr\n",
       "10674  doc-fr-7683  lucien bégule né saint genis laval mort lyon 2...   fr\n",
       "10675  doc-fr-7695  élections législatives tiennent 10 mars 2019 c...   fr\n",
       "\n",
       "[10676 rows x 3 columns]"
      ],
      "text/html": [
       "<div>\n",
       "<style scoped>\n",
       "    .dataframe tbody tr th:only-of-type {\n",
       "        vertical-align: middle;\n",
       "    }\n",
       "\n",
       "    .dataframe tbody tr th {\n",
       "        vertical-align: top;\n",
       "    }\n",
       "\n",
       "    .dataframe thead th {\n",
       "        text-align: right;\n",
       "    }\n",
       "</style>\n",
       "<table border=\"1\" class=\"dataframe\">\n",
       "  <thead>\n",
       "    <tr style=\"text-align: right;\">\n",
       "      <th></th>\n",
       "      <th>docid</th>\n",
       "      <th>text</th>\n",
       "      <th>lang</th>\n",
       "    </tr>\n",
       "  </thead>\n",
       "  <tbody>\n",
       "    <tr>\n",
       "      <th>0</th>\n",
       "      <td>doc-fr-1447</td>\n",
       "      <td>production café costa rica représente 2016 env...</td>\n",
       "      <td>fr</td>\n",
       "    </tr>\n",
       "    <tr>\n",
       "      <th>1</th>\n",
       "      <td>doc-fr-4878</td>\n",
       "      <td>continuité gouvernement cog principe établisse...</td>\n",
       "      <td>fr</td>\n",
       "    </tr>\n",
       "    <tr>\n",
       "      <th>2</th>\n",
       "      <td>doc-fr-801</td>\n",
       "      <td>juan manuel fangio né balcarce mort buenos air...</td>\n",
       "      <td>fr</td>\n",
       "    </tr>\n",
       "    <tr>\n",
       "      <th>3</th>\n",
       "      <td>doc-fr-1750</td>\n",
       "      <td>louis auguste mathieu legrand peintre dessinat...</td>\n",
       "      <td>fr</td>\n",
       "    </tr>\n",
       "    <tr>\n",
       "      <th>4</th>\n",
       "      <td>doc-fr-5810</td>\n",
       "      <td>gare lille saint sauveur simplement gare saint...</td>\n",
       "      <td>fr</td>\n",
       "    </tr>\n",
       "    <tr>\n",
       "      <th>...</th>\n",
       "      <td>...</td>\n",
       "      <td>...</td>\n",
       "      <td>...</td>\n",
       "    </tr>\n",
       "    <tr>\n",
       "      <th>10671</th>\n",
       "      <td>doc-fr-4573</td>\n",
       "      <td>frelon asiatique frelon pattes jaunes vespa ve...</td>\n",
       "      <td>fr</td>\n",
       "    </tr>\n",
       "    <tr>\n",
       "      <th>10672</th>\n",
       "      <td>doc-fr-7662</td>\n",
       "      <td>surveillance épidémiologique activité santé pu...</td>\n",
       "      <td>fr</td>\n",
       "    </tr>\n",
       "    <tr>\n",
       "      <th>10673</th>\n",
       "      <td>doc-fr-7669</td>\n",
       "      <td>série télévisée britannique 37 épisodes enviro...</td>\n",
       "      <td>fr</td>\n",
       "    </tr>\n",
       "    <tr>\n",
       "      <th>10674</th>\n",
       "      <td>doc-fr-7683</td>\n",
       "      <td>lucien bégule né saint genis laval mort lyon 2...</td>\n",
       "      <td>fr</td>\n",
       "    </tr>\n",
       "    <tr>\n",
       "      <th>10675</th>\n",
       "      <td>doc-fr-7695</td>\n",
       "      <td>élections législatives tiennent 10 mars 2019 c...</td>\n",
       "      <td>fr</td>\n",
       "    </tr>\n",
       "  </tbody>\n",
       "</table>\n",
       "<p>10676 rows × 3 columns</p>\n",
       "</div>"
      ]
     },
     "execution_count": 3,
     "metadata": {},
     "output_type": "execute_result"
    }
   ],
   "execution_count": 3
  },
  {
   "metadata": {},
   "cell_type": "markdown",
   "source": "### BM25 Initialization",
   "id": "5040dcf9f716365a"
  },
  {
   "metadata": {
    "ExecuteTime": {
     "end_time": "2024-10-09T13:05:33.545380Z",
     "start_time": "2024-10-09T13:05:18.092199Z"
    }
   },
   "cell_type": "code",
   "source": [
    "# Extract the text data\n",
    "corpus = french_doc_df['text'].tolist()\n",
    "\n",
    "# Tokenize the corpus\n",
    "tokenized_corpus = [doc.split() for doc in corpus]\n",
    "\n",
    "# Initialize BM25\n",
    "bm25 = BM25Okapi(tokenized_corpus)"
   ],
   "id": "68f3f93e62560f71",
   "outputs": [],
   "execution_count": 4
  },
  {
   "metadata": {
    "ExecuteTime": {
     "end_time": "2024-10-09T13:05:33.825053Z",
     "start_time": "2024-10-09T13:05:33.545380Z"
    }
   },
   "cell_type": "code",
   "source": [
    "train_df = pd.read_csv(\"../data/train.csv\")\n",
    "french_train_df = train_df[train_df['lang'] == 'fr']"
   ],
   "id": "1dfe613701702caa",
   "outputs": [],
   "execution_count": 5
  },
  {
   "metadata": {
    "ExecuteTime": {
     "end_time": "2024-10-09T13:07:03.836281Z",
     "start_time": "2024-10-09T13:05:33.825053Z"
    }
   },
   "cell_type": "code",
   "source": [
    "from tqdm import tqdm\n",
    "\n",
    "# Create a new DataFrame to store the results\n",
    "results_df = pd.DataFrame(columns=['top_10_doc', 'is_answer_in_top_10'])\n",
    "\n",
    "# Function to get top 10 doc IDs and check if the answer is in the top 10\n",
    "def get_top_10_and_check(row):\n",
    "    query = data_loader.clean_sentence(row['query'], 'fr')\n",
    "    tokenized_query = query.split()\n",
    "    scores = bm25.get_scores(tokenized_query)\n",
    "    top_10_indices = scores.argsort()[-10:][::-1]\n",
    "    top_10_doc_ids = french_doc_df.iloc[top_10_indices]['docid'].tolist()\n",
    "    is_answer_in_top_10 = row['positive_docs'] in top_10_doc_ids\n",
    "    return top_10_doc_ids, is_answer_in_top_10\n",
    "\n",
    "# Iterate over the rows and store the results in the new DataFrame\n",
    "for index, row in tqdm(french_train_df.iterrows(), total=french_train_df.shape[0]):\n",
    "    top_10_doc_ids, is_answer_in_top_10 = get_top_10_and_check(row)\n",
    "    results_df.at[index, 'top_10_doc'] = top_10_doc_ids\n",
    "    results_df.at[index, 'is_answer_in_top_10'] = is_answer_in_top_10\n",
    "\n"
   ],
   "id": "19f56df0e8405e49",
   "outputs": [
    {
     "name": "stderr",
     "output_type": "stream",
     "text": [
      "100%|██████████| 1608/1608 [01:29<00:00, 17.90it/s]\n"
     ]
    }
   ],
   "execution_count": 6
  },
  {
   "metadata": {
    "ExecuteTime": {
     "end_time": "2024-10-09T13:11:10.843252Z",
     "start_time": "2024-10-09T13:11:10.599437Z"
    }
   },
   "cell_type": "code",
   "source": [
    "#merge the two dataframes\n",
    "# french_train_df = french_train_df.merge(results_df, left_index=True, right_index=True)\n",
    "french_train_df = french_train_df[['query_id', 'top_10_doc']]\n",
    "french_train_df"
   ],
   "id": "3967db1293a301fb",
   "outputs": [
    {
     "data": {
      "text/plain": [
       "        query_id                                         top_10_doc\n",
       "10000  q-fr-1080  [doc-fr-7656, doc-fr-8717, doc-fr-12048, doc-f...\n",
       "10001  q-fr-1081  [doc-fr-7404, doc-fr-9341, doc-fr-8341, doc-fr...\n",
       "10002  q-fr-1082  [doc-fr-8048, doc-fr-14074, doc-fr-11133, doc-...\n",
       "10003  q-fr-1083  [doc-fr-12294, doc-fr-13317, doc-fr-8086, doc-...\n",
       "10004  q-fr-1084  [doc-fr-9596, doc-fr-12551, doc-fr-8680, doc-f...\n",
       "...          ...                                                ...\n",
       "11603  q-fr-1072  [doc-fr-7662, doc-fr-12947, doc-fr-13576, doc-...\n",
       "11604  q-fr-1073  [doc-fr-7669, doc-fr-10286, doc-fr-10131, doc-...\n",
       "11605  q-fr-1075  [doc-fr-7683, doc-fr-9452, doc-fr-4692, doc-fr...\n",
       "11606  q-fr-1077  [doc-fr-13231, doc-fr-2905, doc-fr-13621, doc-...\n",
       "11607  q-fr-1079  [doc-fr-8244, doc-fr-2804, doc-fr-10577, doc-f...\n",
       "\n",
       "[1608 rows x 2 columns]"
      ],
      "text/html": [
       "<div>\n",
       "<style scoped>\n",
       "    .dataframe tbody tr th:only-of-type {\n",
       "        vertical-align: middle;\n",
       "    }\n",
       "\n",
       "    .dataframe tbody tr th {\n",
       "        vertical-align: top;\n",
       "    }\n",
       "\n",
       "    .dataframe thead th {\n",
       "        text-align: right;\n",
       "    }\n",
       "</style>\n",
       "<table border=\"1\" class=\"dataframe\">\n",
       "  <thead>\n",
       "    <tr style=\"text-align: right;\">\n",
       "      <th></th>\n",
       "      <th>query_id</th>\n",
       "      <th>top_10_doc</th>\n",
       "    </tr>\n",
       "  </thead>\n",
       "  <tbody>\n",
       "    <tr>\n",
       "      <th>10000</th>\n",
       "      <td>q-fr-1080</td>\n",
       "      <td>[doc-fr-7656, doc-fr-8717, doc-fr-12048, doc-f...</td>\n",
       "    </tr>\n",
       "    <tr>\n",
       "      <th>10001</th>\n",
       "      <td>q-fr-1081</td>\n",
       "      <td>[doc-fr-7404, doc-fr-9341, doc-fr-8341, doc-fr...</td>\n",
       "    </tr>\n",
       "    <tr>\n",
       "      <th>10002</th>\n",
       "      <td>q-fr-1082</td>\n",
       "      <td>[doc-fr-8048, doc-fr-14074, doc-fr-11133, doc-...</td>\n",
       "    </tr>\n",
       "    <tr>\n",
       "      <th>10003</th>\n",
       "      <td>q-fr-1083</td>\n",
       "      <td>[doc-fr-12294, doc-fr-13317, doc-fr-8086, doc-...</td>\n",
       "    </tr>\n",
       "    <tr>\n",
       "      <th>10004</th>\n",
       "      <td>q-fr-1084</td>\n",
       "      <td>[doc-fr-9596, doc-fr-12551, doc-fr-8680, doc-f...</td>\n",
       "    </tr>\n",
       "    <tr>\n",
       "      <th>...</th>\n",
       "      <td>...</td>\n",
       "      <td>...</td>\n",
       "    </tr>\n",
       "    <tr>\n",
       "      <th>11603</th>\n",
       "      <td>q-fr-1072</td>\n",
       "      <td>[doc-fr-7662, doc-fr-12947, doc-fr-13576, doc-...</td>\n",
       "    </tr>\n",
       "    <tr>\n",
       "      <th>11604</th>\n",
       "      <td>q-fr-1073</td>\n",
       "      <td>[doc-fr-7669, doc-fr-10286, doc-fr-10131, doc-...</td>\n",
       "    </tr>\n",
       "    <tr>\n",
       "      <th>11605</th>\n",
       "      <td>q-fr-1075</td>\n",
       "      <td>[doc-fr-7683, doc-fr-9452, doc-fr-4692, doc-fr...</td>\n",
       "    </tr>\n",
       "    <tr>\n",
       "      <th>11606</th>\n",
       "      <td>q-fr-1077</td>\n",
       "      <td>[doc-fr-13231, doc-fr-2905, doc-fr-13621, doc-...</td>\n",
       "    </tr>\n",
       "    <tr>\n",
       "      <th>11607</th>\n",
       "      <td>q-fr-1079</td>\n",
       "      <td>[doc-fr-8244, doc-fr-2804, doc-fr-10577, doc-f...</td>\n",
       "    </tr>\n",
       "  </tbody>\n",
       "</table>\n",
       "<p>1608 rows × 2 columns</p>\n",
       "</div>"
      ]
     },
     "execution_count": 11,
     "metadata": {},
     "output_type": "execute_result"
    }
   ],
   "execution_count": 11
  },
  {
   "metadata": {
    "ExecuteTime": {
     "end_time": "2024-10-09T14:46:55.337469Z",
     "start_time": "2024-10-09T14:46:54.719749Z"
    }
   },
   "cell_type": "code",
   "source": [
    "from metrics import export_query_result_to_submission_csv, get_answers_for_submission_csv, compute_recall_10\n",
    "\n",
    "export_query_result_to_submission_csv(french_train_df['query_id'].tolist(), french_train_df['top_10_doc'].tolist())"
   ],
   "id": "ee2bc21eb49c0054",
   "outputs": [],
   "execution_count": 31
  },
  {
   "metadata": {
    "ExecuteTime": {
     "end_time": "2024-10-09T14:47:04.186374Z",
     "start_time": "2024-10-09T14:47:03.389082Z"
    }
   },
   "cell_type": "code",
   "source": "get_answers_for_submission_csv()",
   "id": "98280ee190003733",
   "outputs": [],
   "execution_count": 32
  },
  {
   "metadata": {
    "ExecuteTime": {
     "end_time": "2024-10-09T14:45:22.943584Z",
     "start_time": "2024-10-09T14:45:22.726188Z"
    }
   },
   "cell_type": "code",
   "source": "compute_recall_10()",
   "id": "c53e016741225883",
   "outputs": [
    {
     "data": {
      "text/plain": [
       "0.4191542288557214"
      ]
     },
     "execution_count": 29,
     "metadata": {},
     "output_type": "execute_result"
    }
   ],
   "execution_count": 29
  }
 ],
 "metadata": {
  "kernelspec": {
   "display_name": "Python 3",
   "language": "python",
   "name": "python3"
  },
  "language_info": {
   "codemirror_mode": {
    "name": "ipython",
    "version": 2
   },
   "file_extension": ".py",
   "mimetype": "text/x-python",
   "name": "python",
   "nbconvert_exporter": "python",
   "pygments_lexer": "ipython2",
   "version": "2.7.6"
  }
 },
 "nbformat": 4,
 "nbformat_minor": 5
}

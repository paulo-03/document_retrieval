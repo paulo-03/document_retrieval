{
 "cells": [
  {
   "metadata": {},
   "cell_type": "markdown",
   "source": [
    "# TF-IDF Retriever\n",
    "\n",
    "This notebook shows the retrieval results of our TF-IDF implementation.\n",
    "\n",
    "***Author:*** Paulo Ribeiro"
   ],
   "id": "d7363c72e6c95a13"
  },
  {
   "metadata": {
    "ExecuteTime": {
     "end_time": "2024-10-03T16:55:22.998728Z",
     "start_time": "2024-10-03T16:55:20.439295Z"
    }
   },
   "cell_type": "code",
   "source": [
    "from tf_idf import TFIDFRetriever\n",
    "\n",
    "%load_ext autoreload\n",
    "%autoreload 2"
   ],
   "id": "ad0ff26e2bb849af",
   "outputs": [],
   "execution_count": 1
  },
  {
   "metadata": {},
   "cell_type": "markdown",
   "source": [
    "## TFIDFRetriever\n",
    "\n",
    "Initiate the retriever."
   ],
   "id": "3af9d67b500d69c4"
  },
  {
   "metadata": {
    "ExecuteTime": {
     "end_time": "2024-10-03T16:55:25.304253Z",
     "start_time": "2024-10-03T16:55:23.007589Z"
    }
   },
   "cell_type": "code",
   "source": "retriever = TFIDFRetriever(tf_idf_matrix_path='tf_idf_matrix/tf_idf_fr.pkl')",
   "id": "572e91e75b6b22a7",
   "outputs": [],
   "execution_count": 2
  },
  {
   "metadata": {},
   "cell_type": "markdown",
   "source": [
    "## Search\n",
    "\n",
    "Use the function `search` to make a specific match between one query and the top k documents."
   ],
   "id": "1a460e3dad204f98"
  },
  {
   "metadata": {
    "ExecuteTime": {
     "end_time": "2024-10-03T16:55:26.784617Z",
     "start_time": "2024-10-03T16:55:25.386387Z"
    }
   },
   "cell_type": "code",
   "source": [
    "# q-fr-455 -> doc-fr-3468\n",
    "retriever.search(\n",
    "    query=\"Quelles sont les précautions recommandées par la CNIL concernant l'utilisation de l'option \"\"Lieux\"\" de Facebook ?\",\n",
    "    lang=\"fr\",\n",
    "    topk=10,\n",
    "    present_results=True\n",
    ")"
   ],
   "id": "e4fe41bf93bdabc",
   "outputs": [
    {
     "name": "stdout",
     "output_type": "stream",
     "text": [
      "The top 10 documents are:\n",
      "doc-fr-13685: 0.29052828292628163\n",
      "doc-fr-11357: 0.2392963647286238\n",
      "doc-fr-10342: 0.22082996037456915\n",
      "doc-fr-7335: 0.19468140898098374\n",
      "doc-fr-8316: 0.18310008795903554\n",
      "doc-fr-8346: 0.18185502506418016\n",
      "doc-fr-3165: 0.18185502506418016\n",
      "doc-fr-8632: 0.174689997777856\n",
      "doc-fr-10249: 0.17121057958544855\n",
      "doc-fr-8198: 0.16633399743907565\n"
     ]
    }
   ],
   "execution_count": 3
  },
  {
   "metadata": {},
   "cell_type": "markdown",
   "source": [
    "## Match\n",
    "\n",
    "Use the function `match` to match multiple queries to a top k documents."
   ],
   "id": "9ceaed7679c36f45"
  },
  {
   "metadata": {
    "ExecuteTime": {
     "end_time": "2024-10-03T16:55:38.418274Z",
     "start_time": "2024-10-03T16:55:38.370486Z"
    }
   },
   "cell_type": "code",
   "source": "#TODO",
   "id": "b5b415963ab7c900",
   "outputs": [],
   "execution_count": 4
  }
 ],
 "metadata": {
  "kernelspec": {
   "display_name": "Python 3",
   "language": "python",
   "name": "python3"
  },
  "language_info": {
   "codemirror_mode": {
    "name": "ipython",
    "version": 2
   },
   "file_extension": ".py",
   "mimetype": "text/x-python",
   "name": "python",
   "nbconvert_exporter": "python",
   "pygments_lexer": "ipython2",
   "version": "2.7.6"
  }
 },
 "nbformat": 4,
 "nbformat_minor": 5
}

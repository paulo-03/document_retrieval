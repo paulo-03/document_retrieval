{
 "cells": [
  {
   "metadata": {},
   "cell_type": "markdown",
   "source": [
    "# BM25\n",
    "\n",
    "Notebooks to show our BM25 method and its performances."
   ],
   "id": "ef9731a0d67708f9"
  },
  {
   "metadata": {},
   "cell_type": "markdown",
   "source": "## Import",
   "id": "110f817a943b3682"
  },
  {
   "metadata": {
    "ExecuteTime": {
     "end_time": "2024-10-05T00:18:18.500297Z",
     "start_time": "2024-10-05T00:18:18.321777Z"
    }
   },
   "cell_type": "code",
   "source": [
    "from tf_idf import TFIDFTrainer\n",
    "from rank_bm25 import BM25Okapi\n",
    "import pandas as pd\n",
    "import data_loader\n",
    "\n",
    "%load_ext autoreload\n",
    "%autoreload 2"
   ],
   "id": "cc5f2667f352d5ab",
   "outputs": [
    {
     "name": "stdout",
     "output_type": "stream",
     "text": [
      "The autoreload extension is already loaded. To reload it, use:\n",
      "  %reload_ext autoreload\n"
     ]
    }
   ],
   "execution_count": 23
  },
  {
   "metadata": {},
   "cell_type": "markdown",
   "source": "## Document cleaning",
   "id": "ece1ce797228c572"
  },
  {
   "metadata": {
    "ExecuteTime": {
     "end_time": "2024-10-05T00:18:20.520574Z",
     "start_time": "2024-10-05T00:18:18.501227Z"
    }
   },
   "cell_type": "code",
   "source": "french_doc_df = TFIDFTrainer(\"data/corpus.json/clean_corpus_fr.json\").corpus",
   "id": "650f501398fce4ce",
   "outputs": [
    {
     "name": "stdout",
     "output_type": "stream",
     "text": [
      "Loading corpus...\n",
      "Corpus loaded successfully !\n",
      "\n",
      "Information about the given corpus\n",
      "###################################\n",
      "Number of documents: 10676\n",
      "Language (only one language should be displayed): ['fr']\n",
      "\n"
     ]
    }
   ],
   "execution_count": 24
  },
  {
   "metadata": {
    "ExecuteTime": {
     "end_time": "2024-10-05T00:26:14.947600Z",
     "start_time": "2024-10-05T00:26:14.743650Z"
    }
   },
   "cell_type": "code",
   "source": "french_doc_df",
   "id": "462229a0ca79b7f6",
   "outputs": [
    {
     "data": {
      "text/plain": [
       "             docid                                               text lang\n",
       "0      doc-fr-1447  production café costa rica représente 2016 env...   fr\n",
       "1      doc-fr-4878  continuité gouvernement cog principe établisse...   fr\n",
       "2       doc-fr-801  juan manuel fangio né balcarce mort buenos air...   fr\n",
       "3      doc-fr-1750  louis auguste mathieu legrand peintre dessinat...   fr\n",
       "4      doc-fr-5810  gare lille saint sauveur simplement gare saint...   fr\n",
       "...            ...                                                ...  ...\n",
       "10671  doc-fr-4573  frelon asiatique frelon pattes jaunes vespa ve...   fr\n",
       "10672  doc-fr-7662  surveillance épidémiologique activité santé pu...   fr\n",
       "10673  doc-fr-7669  série télévisée britannique 37 épisodes enviro...   fr\n",
       "10674  doc-fr-7683  lucien bégule né saint genis laval mort lyon 2...   fr\n",
       "10675  doc-fr-7695  élections législatives tiennent 10 mars 2019 c...   fr\n",
       "\n",
       "[10676 rows x 3 columns]"
      ],
      "text/html": [
       "<div>\n",
       "<style scoped>\n",
       "    .dataframe tbody tr th:only-of-type {\n",
       "        vertical-align: middle;\n",
       "    }\n",
       "\n",
       "    .dataframe tbody tr th {\n",
       "        vertical-align: top;\n",
       "    }\n",
       "\n",
       "    .dataframe thead th {\n",
       "        text-align: right;\n",
       "    }\n",
       "</style>\n",
       "<table border=\"1\" class=\"dataframe\">\n",
       "  <thead>\n",
       "    <tr style=\"text-align: right;\">\n",
       "      <th></th>\n",
       "      <th>docid</th>\n",
       "      <th>text</th>\n",
       "      <th>lang</th>\n",
       "    </tr>\n",
       "  </thead>\n",
       "  <tbody>\n",
       "    <tr>\n",
       "      <th>0</th>\n",
       "      <td>doc-fr-1447</td>\n",
       "      <td>production café costa rica représente 2016 env...</td>\n",
       "      <td>fr</td>\n",
       "    </tr>\n",
       "    <tr>\n",
       "      <th>1</th>\n",
       "      <td>doc-fr-4878</td>\n",
       "      <td>continuité gouvernement cog principe établisse...</td>\n",
       "      <td>fr</td>\n",
       "    </tr>\n",
       "    <tr>\n",
       "      <th>2</th>\n",
       "      <td>doc-fr-801</td>\n",
       "      <td>juan manuel fangio né balcarce mort buenos air...</td>\n",
       "      <td>fr</td>\n",
       "    </tr>\n",
       "    <tr>\n",
       "      <th>3</th>\n",
       "      <td>doc-fr-1750</td>\n",
       "      <td>louis auguste mathieu legrand peintre dessinat...</td>\n",
       "      <td>fr</td>\n",
       "    </tr>\n",
       "    <tr>\n",
       "      <th>4</th>\n",
       "      <td>doc-fr-5810</td>\n",
       "      <td>gare lille saint sauveur simplement gare saint...</td>\n",
       "      <td>fr</td>\n",
       "    </tr>\n",
       "    <tr>\n",
       "      <th>...</th>\n",
       "      <td>...</td>\n",
       "      <td>...</td>\n",
       "      <td>...</td>\n",
       "    </tr>\n",
       "    <tr>\n",
       "      <th>10671</th>\n",
       "      <td>doc-fr-4573</td>\n",
       "      <td>frelon asiatique frelon pattes jaunes vespa ve...</td>\n",
       "      <td>fr</td>\n",
       "    </tr>\n",
       "    <tr>\n",
       "      <th>10672</th>\n",
       "      <td>doc-fr-7662</td>\n",
       "      <td>surveillance épidémiologique activité santé pu...</td>\n",
       "      <td>fr</td>\n",
       "    </tr>\n",
       "    <tr>\n",
       "      <th>10673</th>\n",
       "      <td>doc-fr-7669</td>\n",
       "      <td>série télévisée britannique 37 épisodes enviro...</td>\n",
       "      <td>fr</td>\n",
       "    </tr>\n",
       "    <tr>\n",
       "      <th>10674</th>\n",
       "      <td>doc-fr-7683</td>\n",
       "      <td>lucien bégule né saint genis laval mort lyon 2...</td>\n",
       "      <td>fr</td>\n",
       "    </tr>\n",
       "    <tr>\n",
       "      <th>10675</th>\n",
       "      <td>doc-fr-7695</td>\n",
       "      <td>élections législatives tiennent 10 mars 2019 c...</td>\n",
       "      <td>fr</td>\n",
       "    </tr>\n",
       "  </tbody>\n",
       "</table>\n",
       "<p>10676 rows × 3 columns</p>\n",
       "</div>"
      ]
     },
     "execution_count": 35,
     "metadata": {},
     "output_type": "execute_result"
    }
   ],
   "execution_count": 35
  },
  {
   "metadata": {},
   "cell_type": "markdown",
   "source": "### BM25 Initialization",
   "id": "5040dcf9f716365a"
  },
  {
   "metadata": {
    "ExecuteTime": {
     "end_time": "2024-10-05T00:43:24.852072Z",
     "start_time": "2024-10-05T00:43:07.405512Z"
    }
   },
   "cell_type": "code",
   "source": [
    "# Extract the text data\n",
    "corpus = french_doc_df['text'].tolist()\n",
    "\n",
    "# Tokenize the corpus\n",
    "tokenized_corpus = [doc.split() for doc in corpus]\n",
    "\n",
    "# Initialize BM25\n",
    "bm25 = BM25Okapi(tokenized_corpus)"
   ],
   "id": "68f3f93e62560f71",
   "outputs": [],
   "execution_count": 42
  },
  {
   "metadata": {
    "ExecuteTime": {
     "end_time": "2024-10-05T00:43:25.201091Z",
     "start_time": "2024-10-05T00:43:24.852072Z"
    }
   },
   "cell_type": "code",
   "source": [
    "train_df = pd.read_csv(\"data/train.csv\")\n",
    "french_train_df = train_df[train_df['lang'] == 'fr']"
   ],
   "id": "1dfe613701702caa",
   "outputs": [],
   "execution_count": 43
  },
  {
   "metadata": {},
   "cell_type": "code",
   "source": [
    "from tqdm import tqdm\n",
    "\n",
    "# Create a new DataFrame to store the results\n",
    "results_df = pd.DataFrame(columns=['top_10_doc', 'is_answer_in_top_10'])\n",
    "\n",
    "# Function to get top 10 doc IDs and check if the answer is in the top 10\n",
    "def get_top_10_and_check(row):\n",
    "    query = data_loader.clean_sentence(row['query'], 'fr')\n",
    "    tokenized_query = query.split()\n",
    "    scores = bm25.get_scores(tokenized_query)\n",
    "    top_10_indices = scores.argsort()[-10:][::-1]\n",
    "    top_10_doc_ids = french_doc_df.iloc[top_10_indices]['docid'].tolist()\n",
    "    is_answer_in_top_10 = row['positive_docs'] in top_10_doc_ids\n",
    "    return top_10_doc_ids, is_answer_in_top_10\n",
    "\n",
    "# Iterate over the rows and store the results in the new DataFrame\n",
    "for index, row in tqdm(french_train_df.iterrows(), total=french_train_df.shape[0]):\n",
    "    top_10_doc_ids, is_answer_in_top_10 = get_top_10_and_check(row)\n",
    "    results_df.at[index, 'top_10_doc'] = top_10_doc_ids\n",
    "    results_df.at[index, 'is_answer_in_top_10'] = is_answer_in_top_10\n",
    "\n"
   ],
   "id": "19f56df0e8405e49",
   "outputs": [],
   "execution_count": null
  },
  {
   "metadata": {
    "ExecuteTime": {
     "end_time": "2024-10-05T01:01:56.612963Z",
     "start_time": "2024-10-05T01:01:56.330427Z"
    }
   },
   "cell_type": "code",
   "source": [
    "# Drop the existing columns before joining\n",
    "french_train_df = french_train_df.drop(columns=['top_10_doc', 'is_answer_in_top_10'], errors='ignore')\n",
    "\n",
    "# Merge the results back to the original DataFrame\n",
    "french_train_df = french_train_df.join(results_df)\n",
    "\n"
   ],
   "id": "76f2bc4e7397e382",
   "outputs": [],
   "execution_count": 53
  },
  {
   "metadata": {
    "ExecuteTime": {
     "end_time": "2024-10-05T01:01:57.463338Z",
     "start_time": "2024-10-05T01:01:57.239549Z"
    }
   },
   "cell_type": "code",
   "source": "french_train_df.head()",
   "id": "66d993f235babe2a",
   "outputs": [
    {
     "data": {
      "text/plain": [
       "        query_id                                              query  \\\n",
       "10000  q-fr-1080                  Quand Antoine Meillet est-il né ?   \n",
       "10001  q-fr-1081  Quelles sont les origines de l'algèbre linéair...   \n",
       "10002  q-fr-1082  Quelle est l'étymologie du mot \"algorithme\" et...   \n",
       "10003  q-fr-1083  Quels sont les pouvoirs exécutif, législatif e...   \n",
       "10004  q-fr-1084    Quelle est la langue officielle de l'Autriche ?   \n",
       "\n",
       "      positive_docs                                      negative_docs lang  \\\n",
       "10000   doc-fr-7715  ['doc-fr-4657', 'doc-fr-2635', 'doc-fr-7352', ...   fr   \n",
       "10001   doc-fr-7723  ['doc-fr-1298', 'doc-fr-4506', 'doc-fr-6921', ...   fr   \n",
       "10002   doc-fr-7731  ['doc-fr-3025', 'doc-fr-3923', 'doc-fr-5672', ...   fr   \n",
       "10003   doc-fr-7739  ['doc-fr-840', 'doc-fr-7178', 'doc-fr-2238', '...   fr   \n",
       "10004   doc-fr-7747  ['doc-fr-2144', 'doc-fr-5969', 'doc-fr-3666', ...   fr   \n",
       "\n",
       "                                              top_10_doc is_answer_in_top_10  \n",
       "10000  [doc-fr-7656, doc-fr-8717, doc-fr-12048, doc-f...               False  \n",
       "10001  [doc-fr-7404, doc-fr-9341, doc-fr-8341, doc-fr...               False  \n",
       "10002  [doc-fr-8048, doc-fr-14074, doc-fr-11133, doc-...               False  \n",
       "10003  [doc-fr-12294, doc-fr-13317, doc-fr-8086, doc-...               False  \n",
       "10004  [doc-fr-9596, doc-fr-12551, doc-fr-8680, doc-f...               False  "
      ],
      "text/html": [
       "<div>\n",
       "<style scoped>\n",
       "    .dataframe tbody tr th:only-of-type {\n",
       "        vertical-align: middle;\n",
       "    }\n",
       "\n",
       "    .dataframe tbody tr th {\n",
       "        vertical-align: top;\n",
       "    }\n",
       "\n",
       "    .dataframe thead th {\n",
       "        text-align: right;\n",
       "    }\n",
       "</style>\n",
       "<table border=\"1\" class=\"dataframe\">\n",
       "  <thead>\n",
       "    <tr style=\"text-align: right;\">\n",
       "      <th></th>\n",
       "      <th>query_id</th>\n",
       "      <th>query</th>\n",
       "      <th>positive_docs</th>\n",
       "      <th>negative_docs</th>\n",
       "      <th>lang</th>\n",
       "      <th>top_10_doc</th>\n",
       "      <th>is_answer_in_top_10</th>\n",
       "    </tr>\n",
       "  </thead>\n",
       "  <tbody>\n",
       "    <tr>\n",
       "      <th>10000</th>\n",
       "      <td>q-fr-1080</td>\n",
       "      <td>Quand Antoine Meillet est-il né ?</td>\n",
       "      <td>doc-fr-7715</td>\n",
       "      <td>['doc-fr-4657', 'doc-fr-2635', 'doc-fr-7352', ...</td>\n",
       "      <td>fr</td>\n",
       "      <td>[doc-fr-7656, doc-fr-8717, doc-fr-12048, doc-f...</td>\n",
       "      <td>False</td>\n",
       "    </tr>\n",
       "    <tr>\n",
       "      <th>10001</th>\n",
       "      <td>q-fr-1081</td>\n",
       "      <td>Quelles sont les origines de l'algèbre linéair...</td>\n",
       "      <td>doc-fr-7723</td>\n",
       "      <td>['doc-fr-1298', 'doc-fr-4506', 'doc-fr-6921', ...</td>\n",
       "      <td>fr</td>\n",
       "      <td>[doc-fr-7404, doc-fr-9341, doc-fr-8341, doc-fr...</td>\n",
       "      <td>False</td>\n",
       "    </tr>\n",
       "    <tr>\n",
       "      <th>10002</th>\n",
       "      <td>q-fr-1082</td>\n",
       "      <td>Quelle est l'étymologie du mot \"algorithme\" et...</td>\n",
       "      <td>doc-fr-7731</td>\n",
       "      <td>['doc-fr-3025', 'doc-fr-3923', 'doc-fr-5672', ...</td>\n",
       "      <td>fr</td>\n",
       "      <td>[doc-fr-8048, doc-fr-14074, doc-fr-11133, doc-...</td>\n",
       "      <td>False</td>\n",
       "    </tr>\n",
       "    <tr>\n",
       "      <th>10003</th>\n",
       "      <td>q-fr-1083</td>\n",
       "      <td>Quels sont les pouvoirs exécutif, législatif e...</td>\n",
       "      <td>doc-fr-7739</td>\n",
       "      <td>['doc-fr-840', 'doc-fr-7178', 'doc-fr-2238', '...</td>\n",
       "      <td>fr</td>\n",
       "      <td>[doc-fr-12294, doc-fr-13317, doc-fr-8086, doc-...</td>\n",
       "      <td>False</td>\n",
       "    </tr>\n",
       "    <tr>\n",
       "      <th>10004</th>\n",
       "      <td>q-fr-1084</td>\n",
       "      <td>Quelle est la langue officielle de l'Autriche ?</td>\n",
       "      <td>doc-fr-7747</td>\n",
       "      <td>['doc-fr-2144', 'doc-fr-5969', 'doc-fr-3666', ...</td>\n",
       "      <td>fr</td>\n",
       "      <td>[doc-fr-9596, doc-fr-12551, doc-fr-8680, doc-f...</td>\n",
       "      <td>False</td>\n",
       "    </tr>\n",
       "  </tbody>\n",
       "</table>\n",
       "</div>"
      ]
     },
     "execution_count": 54,
     "metadata": {},
     "output_type": "execute_result"
    }
   ],
   "execution_count": 54
  },
  {
   "metadata": {
    "ExecuteTime": {
     "end_time": "2024-10-05T01:01:58.182370Z",
     "start_time": "2024-10-05T01:01:57.897539Z"
    }
   },
   "cell_type": "code",
   "source": [
    "# Compute different metrics\n",
    "recall = french_train_df['is_answer_in_top_10'].mean()\n",
    "print(f\"Recall@10: {recall}\")"
   ],
   "id": "c5b076dcf8491890",
   "outputs": [
    {
     "name": "stdout",
     "output_type": "stream",
     "text": [
      "Recall@10: 0.4191542288557214\n"
     ]
    }
   ],
   "execution_count": 55
  }
 ],
 "metadata": {
  "kernelspec": {
   "display_name": "Python 3",
   "language": "python",
   "name": "python3"
  },
  "language_info": {
   "codemirror_mode": {
    "name": "ipython",
    "version": 2
   },
   "file_extension": ".py",
   "mimetype": "text/x-python",
   "name": "python",
   "nbconvert_exporter": "python",
   "pygments_lexer": "ipython2",
   "version": "2.7.6"
  }
 },
 "nbformat": 4,
 "nbformat_minor": 5
}
